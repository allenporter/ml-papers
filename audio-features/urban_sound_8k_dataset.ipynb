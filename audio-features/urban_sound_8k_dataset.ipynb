{
 "cells": [
  {
   "cell_type": "markdown",
   "metadata": {},
   "source": [
    "# Background\n",
    "\n",
    "This notebook prepares the [UrbanSound 8K dataset](https://urbansounddataset.weebly.com/) as a Huggingface Dataset. You need to download the dataset yourself (filling out the form, acknowledging thier terms, etc).\n",
    "\n",
    "See https://huggingface.co/docs/datasets/audio_dataset#audiofolder\n",
    "\n",
    "Note that the authors of the dataset recommend 10-fold validation when using this set. See [Examples](https://huggingface.co/docs/datasets/v2.14.5/en/package_reference/builder_classes#datasets.ReadInstruction.example)"
   ]
  },
  {
   "cell_type": "markdown",
   "metadata": {},
   "source": [
    "# Conversion"
   ]
  },
  {
   "cell_type": "code",
   "execution_count": 9,
   "metadata": {},
   "outputs": [],
   "source": [
    "from pathlib import Path\n",
    "import pandas as pd\n",
    "\n",
    "# Input\n",
    "DATASET_PATH = Path(\"data/urbansound8k/\")\n",
    "METADATA_PATH = DATASET_PATH / \"metadata/UrbanSound8K.csv\"\n",
    "\n",
    "# Output.\n",
    "NEW_METADATA_PATH = DATASET_PATH / \"metadata.csv\"\n",
    "\n",
    "\n",
    "with METADATA_PATH.open() as infile:\n",
    "    lines = infile.readlines()\n",
    "    with NEW_METADATA_PATH.open('w') as outfile:\n",
    "        # Write the header line\n",
    "        header = lines.pop(0)\n",
    "        header_parts = header.split(',')\n",
    "        header_parts[0] = \"file_name\"\n",
    "        outfile.write(\",\".join(header_parts))\n",
    "\n",
    "        # Writ ethe rest of the content\n",
    "        for line in lines:\n",
    "            parts = line.split(',')\n",
    "            fillename = parts[0]\n",
    "            fold = parts[5]\n",
    "            parts[0] = f\"audio/fold{fold}/{fillename}\"\n",
    "            out_line = \",\".join(parts)\n",
    "            outfile.write(out_line)"
   ]
  },
  {
   "cell_type": "markdown",
   "metadata": {},
   "source": [
    "# Verification\n",
    "\n",
    "Verify the huggingface dataset works."
   ]
  },
  {
   "cell_type": "code",
   "execution_count": 28,
   "metadata": {},
   "outputs": [
    {
     "data": {
      "application/vnd.jupyter.widget-view+json": {
       "model_id": "b78f06eebfe049d5a4d429578ab4d8e1",
       "version_major": 2,
       "version_minor": 0
      },
      "text/plain": [
       "Resolving data files:   0%|          | 0/8736 [00:00<?, ?it/s]"
      ]
     },
     "metadata": {},
     "output_type": "display_data"
    },
    {
     "data": {
      "application/vnd.jupyter.widget-view+json": {
       "model_id": "3ec2614c88d1411ea2fd49ab5c0da25a",
       "version_major": 2,
       "version_minor": 0
      },
      "text/plain": [
       "Resolving data files:   0%|          | 0/8736 [00:00<?, ?it/s]"
      ]
     },
     "metadata": {},
     "output_type": "display_data"
    },
    {
     "name": "stdout",
     "output_type": "stream",
     "text": [
      "car_horn\n",
      "dog_bark\n"
     ]
    }
   ],
   "source": [
    "from datasets import load_dataset, ReadInstruction\n",
    "\n",
    "# dataset = load_dataset(\"audiofolder\", data_dir=str(DATASET_PATH), name=\"UrbanSound8K\")\n",
    "# print([ dataset['train'][i]['class'] for i in range(0, 10) ])\n",
    "\n",
    "# 10 fold validation\n",
    "\n",
    "trains = load_dataset(\"audiofolder\", split=[\n",
    "    ReadInstruction('train', to=k, unit='%') + ReadInstruction('train', from_=k+10, unit='%')\n",
    "    for k in range(0, 100, 10)\n",
    "], data_dir=str(DATASET_PATH), name=\"UrbanSound8K\")\n",
    "\n",
    "tests = load_dataset(\"audiofolder\", split=[\n",
    "    ReadInstruction('train', from_=k, to=k+10, unit='%')\n",
    "    for k in range(0, 100, 10)\n",
    "], data_dir=str(DATASET_PATH), name=\"UrbanSound8K\")\n",
    "\n",
    "print(trains[0][0]['class'])\n",
    "print(trains[1][0]['class'])\n",
    "\n"
   ]
  }
 ],
 "metadata": {
  "kernelspec": {
   "display_name": "venv",
   "language": "python",
   "name": "python3"
  },
  "language_info": {
   "codemirror_mode": {
    "name": "ipython",
    "version": 3
   },
   "file_extension": ".py",
   "mimetype": "text/x-python",
   "name": "python",
   "nbconvert_exporter": "python",
   "pygments_lexer": "ipython3",
   "version": "3.11.3"
  }
 },
 "nbformat": 4,
 "nbformat_minor": 2
}
