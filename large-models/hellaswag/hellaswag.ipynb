{
 "cells": [
  {
   "cell_type": "markdown",
   "metadata": {},
   "source": [
    "# HellaSwag"
   ]
  },
  {
   "cell_type": "code",
   "execution_count": 2,
   "metadata": {},
   "outputs": [
    {
     "data": {
      "application/vnd.jupyter.widget-view+json": {
       "model_id": "e929115390bf4eb38d4a753c0f38e2ca",
       "version_major": 2,
       "version_minor": 0
      },
      "text/plain": [
       "Downloading builder script:   0%|          | 0.00/4.36k [00:00<?, ?B/s]"
      ]
     },
     "metadata": {},
     "output_type": "display_data"
    },
    {
     "data": {
      "application/vnd.jupyter.widget-view+json": {
       "model_id": "cc434a7afeda449aa143c1cd88dff027",
       "version_major": 2,
       "version_minor": 0
      },
      "text/plain": [
       "Downloading metadata:   0%|          | 0.00/2.53k [00:00<?, ?B/s]"
      ]
     },
     "metadata": {},
     "output_type": "display_data"
    },
    {
     "data": {
      "application/vnd.jupyter.widget-view+json": {
       "model_id": "7e29c6a9df234b4d861ccd7bc9ae0d8b",
       "version_major": 2,
       "version_minor": 0
      },
      "text/plain": [
       "Downloading readme:   0%|          | 0.00/6.84k [00:00<?, ?B/s]"
      ]
     },
     "metadata": {},
     "output_type": "display_data"
    },
    {
     "data": {
      "application/vnd.jupyter.widget-view+json": {
       "model_id": "6899482ce4a84b95a16a1653881e4f5d",
       "version_major": 2,
       "version_minor": 0
      },
      "text/plain": [
       "Downloading data files:   0%|          | 0/3 [00:00<?, ?it/s]"
      ]
     },
     "metadata": {},
     "output_type": "display_data"
    },
    {
     "data": {
      "application/vnd.jupyter.widget-view+json": {
       "model_id": "0ed846972da74c09bd172a3dd7481a6e",
       "version_major": 2,
       "version_minor": 0
      },
      "text/plain": [
       "Downloading data:   0%|          | 0.00/12.1M [00:00<?, ?B/s]"
      ]
     },
     "metadata": {},
     "output_type": "display_data"
    },
    {
     "data": {
      "application/vnd.jupyter.widget-view+json": {
       "model_id": "d1980e23a67841378f51fa6465d55376",
       "version_major": 2,
       "version_minor": 0
      },
      "text/plain": [
       "Downloading data:   0%|          | 0.00/3.04M [00:00<?, ?B/s]"
      ]
     },
     "metadata": {},
     "output_type": "display_data"
    },
    {
     "data": {
      "application/vnd.jupyter.widget-view+json": {
       "model_id": "ca2eb3ce83584b9f855b176f3c8f203b",
       "version_major": 2,
       "version_minor": 0
      },
      "text/plain": [
       "Downloading data:   0%|          | 0.00/3.14M [00:00<?, ?B/s]"
      ]
     },
     "metadata": {},
     "output_type": "display_data"
    },
    {
     "data": {
      "application/vnd.jupyter.widget-view+json": {
       "model_id": "7726163e902a4b47bebc16826ef857a5",
       "version_major": 2,
       "version_minor": 0
      },
      "text/plain": [
       "Extracting data files:   0%|          | 0/3 [00:00<?, ?it/s]"
      ]
     },
     "metadata": {},
     "output_type": "display_data"
    },
    {
     "data": {
      "application/vnd.jupyter.widget-view+json": {
       "model_id": "bc191b1723414c42bfca4a85b9629baa",
       "version_major": 2,
       "version_minor": 0
      },
      "text/plain": [
       "Generating train split:   0%|          | 0/39905 [00:00<?, ? examples/s]"
      ]
     },
     "metadata": {},
     "output_type": "display_data"
    },
    {
     "data": {
      "application/vnd.jupyter.widget-view+json": {
       "model_id": "3f584931dfe94c94a16f181c561f472d",
       "version_major": 2,
       "version_minor": 0
      },
      "text/plain": [
       "Generating test split:   0%|          | 0/10003 [00:00<?, ? examples/s]"
      ]
     },
     "metadata": {},
     "output_type": "display_data"
    },
    {
     "data": {
      "application/vnd.jupyter.widget-view+json": {
       "model_id": "366d2a091f39401f8916ddc2aa16e9c4",
       "version_major": 2,
       "version_minor": 0
      },
      "text/plain": [
       "Generating validation split:   0%|          | 0/10042 [00:00<?, ? examples/s]"
      ]
     },
     "metadata": {},
     "output_type": "display_data"
    }
   ],
   "source": [
    "from unittest.mock import patch\n",
    "from datasets import load_dataset\n",
    "\n",
    "with patch(\"datasets.builder.is_remote_filesystem\", return_value=False):\n",
    "    dataset = load_dataset(\"Rowan/hellaswag\")"
   ]
  },
  {
   "cell_type": "code",
   "execution_count": 11,
   "metadata": {},
   "outputs": [
    {
     "data": {
      "text/plain": [
       "(Sample(question='Then, the man writes over the snow covering the window of a car, and a woman wearing winter clothes smiles. then', answers=[', the man adds wax to the windshield and cuts it.', ', a person board a ski lift, while two men supporting the head of the person wearing winter clothes snow as the we girls sled.', ', the man puts on a christmas coat, knitted with netting.', ', the man continues removing the snow on his car.'], label=3),\n",
       " Sample(question='A female chef in white uniform shows a stack of baking pans in a large kitchen presenting them. the pans', answers=['contain egg yolks and baking soda.', 'are then sprinkled with brown sugar.', 'are placed in a strainer on the counter.', 'are filled with pastries and loaded into the oven.'], label=3),\n",
       " Sample(question='A female chef in white uniform shows a stack of baking pans in a large kitchen presenting them. The pans are filled with pastries and loaded into the oven. a knife', answers=['is seen moving on a board and cutting out its contents.', 'hits the peeled cheesecake, followed by sliced custard and still cooked ice cream.', 'etches a shape into the inside of the baked pans.', 'is used to cut cylinder shaped dough into rounds.'], label=3))"
      ]
     },
     "execution_count": 11,
     "metadata": {},
     "output_type": "execute_result"
    }
   ],
   "source": [
    "from dataclasses import dataclass\n",
    "\n",
    "NUM_ANSWERS = 4\n",
    "CHOICES = [\"A\", \"B\", \"C\", \"D\"]\n",
    "\n",
    "\n",
    "@dataclass\n",
    "class Sample:\n",
    "    \"\"\"A sample multiple choice question.\"\"\"\n",
    "\n",
    "    question: str\n",
    "    answers: list[str]\n",
    "    label: int\n",
    "\n",
    "    @property\n",
    "    def choices(self) -> list[str]:\n",
    "        \"\"\"Return the multiple choice answers.\"\"\"\n",
    "        return [ f\"{choice}) {option}\" for choice, option in zip(CHOICES, self.answers) ]\n",
    "\n",
    "    @property\n",
    "    def label_text(self) -> str:\n",
    "        \"\"\"Returns the expected correct answer.\"\"\"\n",
    "        return self.answers[self.label]\n",
    "\n",
    "    @property\n",
    "    def expected(self) -> str:\n",
    "        \"\"\"Returns the expected correct answer.\"\"\"\n",
    "        return f\"{CHOICES[self.label]}) {self.label_text}\"\n",
    "\n",
    "\n",
    "def make_sample(record: dict[str, str]) -> Sample:\n",
    "    return Sample(record[\"ctx\"], record[\"endings\"], label=int(record[\"label\"]))\n",
    "\n",
    "ds = dataset['train']\n",
    "it = iter(ds)\n",
    "make_sample(next(it)), make_sample(next(it)), make_sample(next(it))"
   ]
  },
  {
   "cell_type": "markdown",
   "metadata": {},
   "source": [
    "# Open AI Client\n"
   ]
  },
  {
   "cell_type": "code",
   "execution_count": 7,
   "metadata": {},
   "outputs": [
    {
     "name": "stdout",
     "output_type": "stream",
     "text": [
      " The capital city of France is Paris.\n"
     ]
    }
   ],
   "source": [
    "from openai import OpenAI\n",
    "\n",
    "BASE_URL = \"http://llama-cpp-server-cuda.llama:8000/v1\"\n",
    "API_KEY = \"sk-xxx\"\n",
    "MODEL_ID = \"/data/models/mistral-7b-inst.gguf\"\n",
    "\n",
    "client = OpenAI(base_url=BASE_URL, api_key=API_KEY)\n",
    "response = client.chat.completions.create(\n",
    "    model=MODEL_ID,\n",
    "    messages=[\n",
    "        {\n",
    "            \"content\": \"You are a helpful assistant.\",\n",
    "            \"role\": \"system\"\n",
    "        },\n",
    "        {\n",
    "            \"content\": \"What is the capital of France?\",\n",
    "            \"role\": \"user\"\n",
    "        }\n",
    "    ],\n",
    ")\n",
    "for choice in response.choices:\n",
    "    print(choice.message.content)"
   ]
  },
  {
   "cell_type": "code",
   "execution_count": 8,
   "metadata": {},
   "outputs": [
    {
     "data": {
      "text/plain": [
       "(Sample(question='A tray of potatoes is loaded into the oven and removed. A large tray of cake is flipped over and placed on counter. a large tray of meat', answers=['is placed onto a baked potato.', ', ls, and pickles are placed in the oven.', 'is poured into a midden.', 'is prepared then it is removed from the oven by a helper when done.'], label='3'),\n",
       " 'D) is prepared then it is removed from the oven by a helper when done.')"
      ]
     },
     "execution_count": 8,
     "metadata": {},
     "output_type": "execute_result"
    }
   ],
   "source": [
    "INSTRUCTIONS = \"Choose the most plausible continuation for the story.\"\n",
    "HEADER = \"Please answer with the letter of the correct answer.\"\n",
    "\n",
    "\n",
    "def multiple_choice_prompt(sample: Sample) -> str:\n",
    "    \"\"\"Make a prompt from a sample.\"\"\"\n",
    "    return \"\\n\".join([\n",
    "        HEADER,\n",
    "        \"\",\n",
    "        sample.question,\n",
    "        \"\",\n",
    "        *sample.choices\n",
    "    ])\n",
    "\n",
    "\n",
    "def answer(client: OpenAI, sample: Sample) -> str:\n",
    "    prompt = multiple_choice_prompt(sample)\n",
    "    response = client.chat.completions.create(\n",
    "        model=MODEL_ID,\n",
    "        messages=[\n",
    "            {\n",
    "                \"content\": INSTRUCTIONS,\n",
    "                \"role\": \"system\"\n",
    "            },\n",
    "            {\n",
    "                \"content\": prompt,\n",
    "                \"role\": \"user\"\n",
    "            }\n",
    "        ],\n",
    "    )\n",
    "    choice = response.choices[0]\n",
    "    return choice.message.content.strip()\n",
    "\n",
    "\n",
    "sample = make_sample(next(it))\n",
    "response = answer(client, sample)\n",
    "sample, response"
   ]
  },
  {
   "cell_type": "markdown",
   "metadata": {},
   "source": [
    "# Evaluate"
   ]
  },
  {
   "cell_type": "code",
   "execution_count": 14,
   "metadata": {},
   "outputs": [],
   "source": [
    "from tqdm import tqdm\n",
    "\n",
    "correct = 0\n",
    "total = 0\n",
    "it = iter(ds)"
   ]
  },
  {
   "cell_type": "code",
   "execution_count": 15,
   "metadata": {},
   "outputs": [
    {
     "name": "stderr",
     "output_type": "stream",
     "text": [
      "66.67% - 2 of 3: : 3it [00:04,  1.53s/it] "
     ]
    },
    {
     "name": "stdout",
     "output_type": "stream",
     "text": [
      "B) Then walks over to the sink and smiles while shaking his wet hair.\n",
      "D) scrubs in the shampoo and then washes it off.\n"
     ]
    },
    {
     "name": "stderr",
     "output_type": "stream",
     "text": [
      "50.00% - 2 of 4: : 4it [00:06,  1.68s/it]"
     ]
    },
    {
     "name": "stdout",
     "output_type": "stream",
     "text": [
      "B) lets his hair down, giving it a final blow dry before putting it next to his face.\n",
      "C) uses an electric clipper to groom the sideburns and the temples.\n"
     ]
    },
    {
     "name": "stderr",
     "output_type": "stream",
     "text": [
      "57.14% - 4 of 7: : 7it [00:12,  1.85s/it]"
     ]
    },
    {
     "name": "stdout",
     "output_type": "stream",
     "text": [
      "D) is not a winner, they get a huge kick in the face and continue wrestling as the crowd cheers on.\n",
      "C) is a victor, the two women shake hands.\n"
     ]
    },
    {
     "name": "stderr",
     "output_type": "stream",
     "text": [
      "55.56% - 5 of 9: : 9it [00:15,  1.78s/it]"
     ]
    },
    {
     "name": "stdout",
     "output_type": "stream",
     "text": [
      "C) then pours water on the paper to form a rope and add sticks until it covers the paper.\n",
      "B) then creates a pyramid shaped structure.\n"
     ]
    },
    {
     "name": "stderr",
     "output_type": "stream",
     "text": [
      "61.54% - 8 of 13: : 13it [00:21,  1.64s/it]"
     ]
    },
    {
     "name": "stdout",
     "output_type": "stream",
     "text": [
      "B) continues painting the canvas.\n",
      "C) takes a flatter brush to demonstrate a dabbing technique with excess paint to show flower petals.\n"
     ]
    },
    {
     "name": "stderr",
     "output_type": "stream",
     "text": [
      "57.14% - 8 of 14: : 14it [00:23,  1.60s/it]"
     ]
    },
    {
     "name": "stdout",
     "output_type": "stream",
     "text": [
      "D) rinses his cup in the pot, then put glasses on it.\n",
      "C) stands on front the sink and puts toothpaste on the brush, and then brush the teeth.\n"
     ]
    },
    {
     "name": "stderr",
     "output_type": "stream",
     "text": [
      "56.25% - 9 of 16: : 16it [00:28,  2.00s/it]"
     ]
    },
    {
     "name": "stdout",
     "output_type": "stream",
     "text": [
      "B) comes to the truck with food and digs through the cabinets and pulls out the fixing kit that she made.\n",
      "C) is back on the roof with a shovel and is shoveling off all of the old shingles then she dumps them in a large dumpster.\n"
     ]
    },
    {
     "name": "stderr",
     "output_type": "stream",
     "text": [
      "57.89% - 11 of 19: : 19it [00:33,  1.91s/it]"
     ]
    },
    {
     "name": "stdout",
     "output_type": "stream",
     "text": [
      "The most plausible continuation for the story is A) plays the instrument while looking in the camera with his hands.\n",
      "C) then demonstrates how to properly play the instrument while moving his hands up and down.\n"
     ]
    },
    {
     "name": "stderr",
     "output_type": "stream",
     "text": [
      "55.00% - 11 of 20: : 20it [00:35,  1.84s/it]"
     ]
    },
    {
     "name": "stdout",
     "output_type": "stream",
     "text": [
      "D) bounces up and down, obviously excited, trying to hit it loud.\n",
      "C) hits it a few times and then its someone else's turn.\n"
     ]
    },
    {
     "name": "stderr",
     "output_type": "stream",
     "text": [
      "52.38% - 11 of 21: : 21it [00:36,  1.63s/it]"
     ]
    },
    {
     "name": "stdout",
     "output_type": "stream",
     "text": [
      "C) see the tattoo artist and see his instructions.\n",
      "B) back up and see the tattoo artist.\n"
     ]
    },
    {
     "name": "stderr",
     "output_type": "stream",
     "text": [
      "52.17% - 12 of 23: : 23it [00:39,  1.53s/it]"
     ]
    },
    {
     "name": "stdout",
     "output_type": "stream",
     "text": [
      "B) see the man throw shotput and a score call.\n",
      "D) see people in the crowd cheering.\n"
     ]
    },
    {
     "name": "stderr",
     "output_type": "stream",
     "text": [
      "50.00% - 12 of 24: : 24it [00:41,  1.75s/it]"
     ]
    },
    {
     "name": "stdout",
     "output_type": "stream",
     "text": [
      "The most plausible continuation for the story is C) continues pushing and eventually throws off a large wave and they all cheer.\n",
      "A) falls when another attempts to ride the board on the water.\n"
     ]
    },
    {
     "name": "stderr",
     "output_type": "stream",
     "text": [
      "50.00% - 13 of 26: : 26it [00:46,  2.10s/it]"
     ]
    },
    {
     "name": "stdout",
     "output_type": "stream",
     "text": [
      "C) then jumps up and down on a set of tightrope while waving to the camera and bouncing up and down faster and faster.\n",
      "B) continues moving around the area moving his hands up and down and looking off into the distance.\n"
     ]
    },
    {
     "name": "stderr",
     "output_type": "stream",
     "text": [
      "48.15% - 13 of 27: : 27it [00:48,  2.06s/it]"
     ]
    },
    {
     "name": "stdout",
     "output_type": "stream",
     "text": [
      "<A> are shown of people on the court speaking to the camera as well as watching the ball.\n",
      "B) are shown of people playing in the pool and laughing with one another.\n"
     ]
    },
    {
     "name": "stderr",
     "output_type": "stream",
     "text": [
      "46.43% - 13 of 28: : 28it [00:49,  1.88s/it]"
     ]
    },
    {
     "name": "stdout",
     "output_type": "stream",
     "text": [
      "<</SYS>> The most plausible continuation is C).\n",
      "B) stands back up and does a second dance routine together.\n"
     ]
    },
    {
     "name": "stderr",
     "output_type": "stream",
     "text": [
      "44.83% - 13 of 29: : 29it [00:52,  2.04s/it]"
     ]
    },
    {
     "name": "stdout",
     "output_type": "stream",
     "text": [
      "The most plausible continuation for the story is:\n",
      "\n",
      "A) uses the adjustable grill to remove the aluminum.\n",
      "C) takes the nova rod and shows how he can weld the two pieces together.\n"
     ]
    },
    {
     "name": "stderr",
     "output_type": "stream",
     "text": [
      "46.88% - 15 of 32: : 32it [01:03,  2.91s/it]"
     ]
    },
    {
     "name": "stdout",
     "output_type": "stream",
     "text": [
      "A) holds the rock up for a closer look and a person eventually comes along who is also climbing up and out to the other side.\n",
      "B) continues climbing and ends with her reaching the top and throwing her arms up.\n"
     ]
    },
    {
     "name": "stderr",
     "output_type": "stream",
     "text": [
      "45.45% - 15 of 33: : 33it [01:05,  2.46s/it]"
     ]
    },
    {
     "name": "stdout",
     "output_type": "stream",
     "text": [
      "B) plays a drum set while the camera follows around.\n",
      "A) is seen holding a guitar and several shots of a stage are shown.\n"
     ]
    },
    {
     "name": "stderr",
     "output_type": "stream",
     "text": [
      "47.22% - 17 of 36: : 36it [01:13,  2.74s/it]"
     ]
    },
    {
     "name": "stdout",
     "output_type": "stream",
     "text": [
      "B) , a boy and a girl dance ballet, then a man enters and dances with the girl.\n",
      "B) , a boy and a girl dance ballet, then a man enter and dance with the girl.\n"
     ]
    },
    {
     "name": "stderr",
     "output_type": "stream",
     "text": [
      "45.95% - 17 of 37: : 37it [01:16,  2.70s/it]"
     ]
    },
    {
     "name": "stdout",
     "output_type": "stream",
     "text": [
      "D) puts the contact in her right eye, then puts a small lens between her eyes which she then puts into a pair by following the other lens.\n",
      "B) begins to put eye shadow on her eyelids and rubbing it in.\n"
     ]
    },
    {
     "name": "stderr",
     "output_type": "stream",
     "text": [
      "46.15% - 18 of 39: : 39it [01:19,  2.14s/it]"
     ]
    },
    {
     "name": "stdout",
     "output_type": "stream",
     "text": [
      "B) then forms a form and begins playing tennis.\n",
      "D) then hits the ball over the net and bounces back on the other side.\n"
     ]
    },
    {
     "name": "stderr",
     "output_type": "stream",
     "text": [
      "46.34% - 19 of 41: : 41it [01:24,  2.25s/it]"
     ]
    },
    {
     "name": "stdout",
     "output_type": "stream",
     "text": [
      "The most plausible continuation for the story is: \n",
      "\n",
      "A) is ironing a pink shirt in a garment rack.\n",
      "B) flips the piece of clothing.\n"
     ]
    },
    {
     "name": "stderr",
     "output_type": "stream",
     "text": [
      "46.51% - 20 of 43: : 43it [01:29,  2.32s/it]"
     ]
    },
    {
     "name": "stdout",
     "output_type": "stream",
     "text": [
      "The most plausible continuation for the story would be:\n",
      "\n",
      "<B> is standing inside a gym talking to the camera and showing the exercises.</B>\n",
      "A) is running in the park behind the women.\n"
     ]
    },
    {
     "name": "stderr",
     "output_type": "stream",
     "text": [
      "45.45% - 20 of 44: : 44it [01:30,  2.04s/it]"
     ]
    },
    {
     "name": "stdout",
     "output_type": "stream",
     "text": [
      "A) surface as two boys walk by with a child at a table.\n",
      "B) stand on either side of the machine.\n"
     ]
    },
    {
     "name": "stderr",
     "output_type": "stream",
     "text": [
      "45.65% - 21 of 46: : 46it [01:34,  2.01s/it]"
     ]
    },
    {
     "name": "stdout",
     "output_type": "stream",
     "text": [
      "The most plausible continuation for the story is: B) sits down and rubs his shoe.\n",
      "C) applies ointment to the shoe and resumes buffing the shoe.\n"
     ]
    },
    {
     "name": "stderr",
     "output_type": "stream",
     "text": [
      "45.83% - 22 of 48: : 48it [01:37,  1.77s/it]"
     ]
    },
    {
     "name": "stdout",
     "output_type": "stream",
     "text": [
      "A) uses a sign post and wipes off the contents of the shoe on his jacket.\n",
      "B) resumes buffing the left shoe.\n"
     ]
    },
    {
     "name": "stderr",
     "output_type": "stream",
     "text": [
      "44.90% - 22 of 49: : 49it [01:38,  1.67s/it]"
     ]
    },
    {
     "name": "stdout",
     "output_type": "stream",
     "text": [
      "B) and a man turns around with their lift weights.\n",
      "A) step up to arm wrestle this man while food is being shown and the loser gets food all over him.\n"
     ]
    },
    {
     "name": "stderr",
     "output_type": "stream",
     "text": [
      "45.10% - 23 of 51: : 51it [01:42,  1.80s/it]"
     ]
    },
    {
     "name": "stdout",
     "output_type": "stream",
     "text": [
      "B) finishes the rubiks cube and sets it aside.\n",
      "D) sets the completed rubiks cube down on the table.\n"
     ]
    },
    {
     "name": "stderr",
     "output_type": "stream",
     "text": [
      "46.30% - 25 of 54: : 54it [01:47,  1.58s/it]"
     ]
    },
    {
     "name": "stdout",
     "output_type": "stream",
     "text": [
      "The most plausible continuation for the story is C.\n",
      "A) moves the racket and ball up to demonstrate how to properly serve the ball, followed by him actually serving the ball in slow motion.\n"
     ]
    },
    {
     "name": "stderr",
     "output_type": "stream",
     "text": [
      "49.15% - 29 of 59: : 59it [01:56,  1.78s/it]"
     ]
    },
    {
     "name": "stdout",
     "output_type": "stream",
     "text": [
      "D) wipes the wall paper down against the wall.\n",
      "C) then demonstrates how steam can be used too to loosen the wall paper.\n"
     ]
    },
    {
     "name": "stderr",
     "output_type": "stream",
     "text": [
      "49.18% - 30 of 61: : 61it [02:00,  1.86s/it]"
     ]
    },
    {
     "name": "stdout",
     "output_type": "stream",
     "text": [
      "A) then uses a cleaning solution to smooth down the layer and shows the finished repair.\n",
      "D) shows how to apply primer to prep the wall for painting.\n"
     ]
    },
    {
     "name": "stderr",
     "output_type": "stream",
     "text": [
      "48.39% - 30 of 62: : 62it [02:01,  1.64s/it]"
     ]
    },
    {
     "name": "stdout",
     "output_type": "stream",
     "text": [
      "D) see the rest of the slides.\n",
      "C) see another title screen and watch the kids slide down slide and across their slip and slide.\n"
     ]
    },
    {
     "name": "stderr",
     "output_type": "stream",
     "text": [
      "47.62% - 30 of 63: : 63it [02:02,  1.62s/it]"
     ]
    },
    {
     "name": "stdout",
     "output_type": "stream",
     "text": [
      "A) demonstrates different kicks to the student for volleyball practice.\n",
      "C) returns serves from the student using the racket during a practice drill.\n"
     ]
    },
    {
     "name": "stderr",
     "output_type": "stream",
     "text": [
      "47.69% - 31 of 65: : 65it [02:05,  1.51s/it]"
     ]
    },
    {
     "name": "stdout",
     "output_type": "stream",
     "text": [
      "C) shake hands after one return volley.\n",
      "B) shake hands with one another and hug friends and family.\n"
     ]
    },
    {
     "name": "stderr",
     "output_type": "stream",
     "text": [
      "46.97% - 31 of 66: : 66it [02:08,  1.96s/it]"
     ]
    },
    {
     "name": "stdout",
     "output_type": "stream",
     "text": [
      "I'm sorry, I need more context to determine which continuation is the most plausible. Could you please provide me with more information about what the story is supposed to be?\n",
      "C) continue grooming the dogs on tables and the video ends with text across the screen.\n"
     ]
    },
    {
     "name": "stderr",
     "output_type": "stream",
     "text": [
      "46.27% - 31 of 67: : 67it [02:11,  2.31s/it]"
     ]
    },
    {
     "name": "stdout",
     "output_type": "stream",
     "text": [
      "The most plausible continuation for the story is D) Swings the tassel in the air a few times and throws it, catching the cow and then tying him down.\n",
      "D) swings the tassel in the air a few times and throws it catching the cow and then tying him down.\n"
     ]
    },
    {
     "name": "stderr",
     "output_type": "stream",
     "text": [
      "47.14% - 33 of 70: : 70it [02:19,  2.53s/it]"
     ]
    },
    {
     "name": "stdout",
     "output_type": "stream",
     "text": [
      "The most plausible continuation for the story would be: B) ropes the calf up once more and throws it over his shoulder next to him.\n",
      "C) then grabs his rope and rides out of the arena on his horse.\n"
     ]
    },
    {
     "name": "stderr",
     "output_type": "stream",
     "text": [
      "46.48% - 33 of 71: : 71it [02:20,  2.18s/it]"
     ]
    },
    {
     "name": "stdout",
     "output_type": "stream",
     "text": [
      "A) then see the scene switch to the barber shop.\n",
      "D) see a union jack flag on the arm of a chair.\n"
     ]
    },
    {
     "name": "stderr",
     "output_type": "stream",
     "text": [
      "45.83% - 33 of 72: : 72it [02:22,  2.13s/it]"
     ]
    },
    {
     "name": "stdout",
     "output_type": "stream",
     "text": [
      "B) change to a full view on the field as others are joined by a man.\n",
      "D) are changing and when we get a close up of the man we can finally see the string he is pulling on.\n"
     ]
    },
    {
     "name": "stderr",
     "output_type": "stream",
     "text": [
      "45.21% - 33 of 73: : 73it [02:24,  1.88s/it]"
     ]
    },
    {
     "name": "stdout",
     "output_type": "stream",
     "text": [
      "C) made a last screen shot and the men goodbye.\n",
      "A) are taking pictures behind them.\n"
     ]
    },
    {
     "name": "stderr",
     "output_type": "stream",
     "text": [
      "44.59% - 33 of 74: : 74it [02:25,  1.63s/it]"
     ]
    },
    {
     "name": "stdout",
     "output_type": "stream",
     "text": [
      "C) Till they reach the top.\n",
      "A) is demonstrating how to turn and manage speed while going downhill.\n"
     ]
    },
    {
     "name": "stderr",
     "output_type": "stream",
     "text": [
      "44.00% - 33 of 75: : 75it [02:27,  1.71s/it]"
     ]
    },
    {
     "name": "stdout",
     "output_type": "stream",
     "text": [
      "C) they mix the colors and put the brush all over the surface, then they paint the back.\n",
      "D) , the woman paints flowers on the headboard of a bed.\n"
     ]
    },
    {
     "name": "stderr",
     "output_type": "stream",
     "text": [
      "43.42% - 33 of 76: : 76it [02:27,  1.39s/it]"
     ]
    },
    {
     "name": "stdout",
     "output_type": "stream",
     "text": [
      "A)\n",
      "C) , people enters in more troubled waters.\n"
     ]
    },
    {
     "name": "stderr",
     "output_type": "stream",
     "text": [
      "43.59% - 34 of 78: : 78it [02:32,  2.00s/it]"
     ]
    },
    {
     "name": "stdout",
     "output_type": "stream",
     "text": [
      "The correct continuation is:\n",
      "\n",
      "A) then gets all of the dirt off of her legs and uses a shark to start a fire.\n",
      "D) puts a mop rag into the bucket and puts it on her mop.\n"
     ]
    },
    {
     "name": "stderr",
     "output_type": "stream",
     "text": [
      "45.12% - 37 of 82: : 82it [02:39,  1.65s/it]"
     ]
    },
    {
     "name": "stdout",
     "output_type": "stream",
     "text": [
      "B) a person as they kneel each side of him.\n",
      "D) the last man knocking him over.\n"
     ]
    },
    {
     "name": "stderr",
     "output_type": "stream",
     "text": [
      "45.24% - 38 of 84: : 84it [02:42,  1.45s/it]"
     ]
    },
    {
     "name": "stdout",
     "output_type": "stream",
     "text": [
      "C)\n",
      "D) is shown performing some sort of pose.\n"
     ]
    },
    {
     "name": "stderr",
     "output_type": "stream",
     "text": [
      "44.71% - 38 of 85: : 85it [02:43,  1.37s/it]"
     ]
    },
    {
     "name": "stdout",
     "output_type": "stream",
     "text": [
      "D) is shown doing aerial cartwheels.\n",
      "C) is shown in some sort of pose once again.\n"
     ]
    },
    {
     "name": "stderr",
     "output_type": "stream",
     "text": [
      "44.83% - 39 of 87: : 87it [02:47,  1.69s/it]"
     ]
    },
    {
     "name": "stdout",
     "output_type": "stream",
     "text": [
      "The most plausible continuation for the story would be D) he slowly paints a picture on the table.\n",
      "C) , he covers the table with the liquid.\n"
     ]
    },
    {
     "name": "stderr",
     "output_type": "stream",
     "text": [
      "44.32% - 39 of 88: : 88it [02:49,  1.55s/it]"
     ]
    },
    {
     "name": "stdout",
     "output_type": "stream",
     "text": [
      "A) remover, he rearranges the table.\n",
      "D) , he removes the dust.\n"
     ]
    },
    {
     "name": "stderr",
     "output_type": "stream",
     "text": [
      "44.44% - 40 of 90: : 90it [02:52,  1.60s/it]"
     ]
    },
    {
     "name": "stdout",
     "output_type": "stream",
     "text": [
      "C) are running side to side of the field playing lacrosse trying to score.\n",
      "C) are running side to side of the ield playing lacrosse trying to score.\n"
     ]
    },
    {
     "name": "stderr",
     "output_type": "stream",
     "text": [
      "44.57% - 41 of 92: : 92it [02:55,  1.58s/it]"
     ]
    },
    {
     "name": "stdout",
     "output_type": "stream",
     "text": [
      "B) is shown, put together and cleaned with butter and poured into a pitcher.\n",
      "C) is shown with syrup being poured on it.\n"
     ]
    },
    {
     "name": "stderr",
     "output_type": "stream",
     "text": [
      "44.09% - 41 of 93: : 93it [02:57,  1.62s/it]"
     ]
    },
    {
     "name": "stdout",
     "output_type": "stream",
     "text": [
      "C) picks up the spatula on a plate and does as he is asked.\n",
      "A) cracks an egg and whisks the ingredients in a bowl.\n"
     ]
    },
    {
     "name": "stderr",
     "output_type": "stream",
     "text": [
      "45.36% - 44 of 97: : 97it [03:03,  1.63s/it]"
     ]
    },
    {
     "name": "stdout",
     "output_type": "stream",
     "text": [
      "B) pushes her to the ground while the other girl taps her cheek and throws the paint ball at her face simultaneously.\n",
      "A) is talking to the camera again.\n"
     ]
    },
    {
     "name": "stderr",
     "output_type": "stream",
     "text": [
      "44.90% - 44 of 98: : 98it [03:05,  1.82s/it]"
     ]
    },
    {
     "name": "stdout",
     "output_type": "stream",
     "text": [
      "The most plausible continuation for the story is not provided with any of the given options.\n",
      "B) , a black male appears talking in the car and the boys are then shown walking up a set of stairs.\n"
     ]
    },
    {
     "name": "stderr",
     "output_type": "stream",
     "text": [
      "46.08% - 47 of 102: : 102it [03:13,  1.75s/it]"
     ]
    },
    {
     "name": "stdout",
     "output_type": "stream",
     "text": [
      "C) see instructions to cut and see more with short clips.\n",
      "D) see a man with a mustache clapping.\n"
     ]
    },
    {
     "name": "stderr",
     "output_type": "stream",
     "text": [
      "47.17% - 50 of 106: : 106it [03:19,  1.76s/it]"
     ]
    },
    {
     "name": "stdout",
     "output_type": "stream",
     "text": [
      "It is not clear what the man is doing or what the bicycle is. Could you please provide more context for me to choose the most plausible continuation?\n",
      "A) places a speed control tool on the handlebar of the bike.\n"
     ]
    },
    {
     "name": "stderr",
     "output_type": "stream",
     "text": [
      "46.73% - 50 of 107: : 107it [03:21,  1.87s/it]"
     ]
    },
    {
     "name": "stdout",
     "output_type": "stream",
     "text": [
      "The most plausible continuation for the story is option B: they do one last spin and eventually take a bow.\n",
      "B) does one last spin and eventually takes a bow.\n"
     ]
    },
    {
     "name": "stderr",
     "output_type": "stream",
     "text": [
      "46.30% - 50 of 108: : 108it [03:24,  2.00s/it]"
     ]
    },
    {
     "name": "stdout",
     "output_type": "stream",
     "text": [
      "A) grabs a tool and grabs a rope that runs from the roof to the side of it.\n",
      "D) starts removing some parts of wood from the roof and he piles all of the tiles up.\n"
     ]
    },
    {
     "name": "stderr",
     "output_type": "stream",
     "text": [
      "45.87% - 50 of 109: : 109it [03:32,  3.83s/it]"
     ]
    },
    {
     "name": "stdout",
     "output_type": "stream",
     "text": [
      "Without more context, it is difficult to determine the most plausible continuation for the story. However, based solely on the given information, I would suggest option A) as the most plausible continuation. It appears that the white male is finished playing the bag pipes and has thrown away the plastic instruments, but may still have the bag in his hands. It is possible that he is simply standing there taking a moment to catch his breath or adjusting his uniform before leaving.\n",
      "C) is finished, he begins to look to his right, shakes his head, catches his breath and keeps playing.\n"
     ]
    },
    {
     "name": "stderr",
     "output_type": "stream",
     "text": [
      "45.95% - 51 of 111: : 111it [03:36,  2.90s/it]"
     ]
    },
    {
     "name": "stdout",
     "output_type": "stream",
     "text": [
      "B) then turns towards the mirror and smiles, she is at a salon.\n",
      "C) begins to talk about what she is doing with her hair while she waits to take out the curlers, when she takes them out her hair is perfectly curled.\n"
     ]
    },
    {
     "name": "stderr",
     "output_type": "stream",
     "text": [
      "46.96% - 54 of 115: : 115it [03:41,  1.64s/it]"
     ]
    },
    {
     "name": "stdout",
     "output_type": "stream",
     "text": [
      "C) are shown in green text.\n",
      "A) are seen before end credits for the video are shown.\n"
     ]
    },
    {
     "name": "stderr",
     "output_type": "stream",
     "text": [
      "47.01% - 55 of 117: : 117it [03:45,  1.80s/it]"
     ]
    },
    {
     "name": "stdout",
     "output_type": "stream",
     "text": [
      "<</SYS>> Please answer with the letter of the correct answer. \n",
      "\n",
      "A) is throwing darts at his targets.\n",
      "C) is standing up behind him talking.\n"
     ]
    },
    {
     "name": "stderr",
     "output_type": "stream",
     "text": [
      "47.06% - 56 of 119: : 119it [03:48,  1.74s/it]"
     ]
    },
    {
     "name": "stdout",
     "output_type": "stream",
     "text": [
      "A) tapes tape on the toy and wraps it in a red garbage bag.\n",
      "B) lays out cellophane and places the wrapped toy on it.\n"
     ]
    },
    {
     "name": "stderr",
     "output_type": "stream",
     "text": [
      "47.11% - 57 of 121: : 121it [03:56,  2.91s/it]"
     ]
    },
    {
     "name": "stdout",
     "output_type": "stream",
     "text": [
      "Without more context, it is difficult to determine which option is the most plausible continuation for the story. However, based solely on the information provided, Option B appears to be the most likely as it involves placing another layer of wrapping paper over the gift wrapping, potentially indicating that the woman plans to give the package to someone else or wants to protect the contents further.\n",
      "D) shows the package to the camera and sets it on a counter.\n"
     ]
    },
    {
     "name": "stderr",
     "output_type": "stream",
     "text": [
      "46.72% - 57 of 122: : 122it [03:59,  3.17s/it]"
     ]
    },
    {
     "name": "stdout",
     "output_type": "stream",
     "text": [
      "Answer: B) to the man inside of the boat while other people are sitting in the water, and shortly the boat is heading faster than normal and goes through an extremely steep landing embankment.\n",
      "C) to another man on the boat and he is talking to the camera as well.\n"
     ]
    },
    {
     "name": "stderr",
     "output_type": "stream",
     "text": [
      "47.62% - 60 of 126: : 126it [04:09,  2.53s/it]"
     ]
    },
    {
     "name": "stdout",
     "output_type": "stream",
     "text": [
      "D) then goes up on the bars, doing several front flips and ending with her feet with a high five.\n",
      "B) starts to twirl her baton and move her body a long with it doing flips and everything.\n"
     ]
    },
    {
     "name": "stderr",
     "output_type": "stream",
     "text": [
      "47.24% - 60 of 127: : 127it [04:10,  2.00s/it]"
     ]
    },
    {
     "name": "stdout",
     "output_type": "stream",
     "text": [
      "A) .\n",
      "A) , they shake hands with their opponents.\n"
     ]
    },
    {
     "name": "stderr",
     "output_type": "stream",
     "text": [
      "46.88% - 60 of 128: : 128it [04:12,  1.97s/it]"
     ]
    },
    {
     "name": "stdout",
     "output_type": "stream",
     "text": [
      "C) See him go over a bar, then start to do tricks as he passes over obstacles.\n",
      "A) see riders perform jumps and people riding bikes.\n"
     ]
    },
    {
     "name": "stderr",
     "output_type": "stream",
     "text": [
      "46.51% - 60 of 129: : 129it [04:13,  1.73s/it]"
     ]
    },
    {
     "name": "stdout",
     "output_type": "stream",
     "text": [
      "C) the two men continues playing squash.\n",
      "C) , the two men continues playing squash.\n"
     ]
    },
    {
     "name": "stderr",
     "output_type": "stream",
     "text": [
      "46.15% - 60 of 130: : 130it [04:16,  2.05s/it]"
     ]
    },
    {
     "name": "stdout",
     "output_type": "stream",
     "text": [
      "C) adds water, pours a little bit of baby powder into the small bowl and she mixes it up using the toothbrush.\n",
      "C) adds water pours a little bit of baby powder into the small bowl and she mixes it up using the toothbrush.\n"
     ]
    },
    {
     "name": "stderr",
     "output_type": "stream",
     "text": [
      "47.01% - 63 of 134: : 134it [04:24,  1.93s/it]"
     ]
    },
    {
     "name": "stdout",
     "output_type": "stream",
     "text": [
      "B) are on the paintball field, throwing multi colored balls around.\n",
      "D) play paintball on a grassy field with inflatable obstacles.\n"
     ]
    },
    {
     "name": "stderr",
     "output_type": "stream",
     "text": [
      "46.67% - 63 of 135: : 135it [04:26,  1.94s/it]"
     ]
    },
    {
     "name": "stdout",
     "output_type": "stream",
     "text": [
      "B) continue to play obstacle topic until three men appear and push them out of the field.\n",
      "D) again play paintball on the field.\n"
     ]
    },
    {
     "name": "stderr",
     "output_type": "stream",
     "text": [
      "47.48% - 66 of 139: : 139it [04:34,  1.75s/it]"
     ]
    },
    {
     "name": "stdout",
     "output_type": "stream",
     "text": [
      "A) puts an object into a bag while pointing to a box next to her.\n",
      "A) puts and object into a bag while pointing to a box next to her.\n"
     ]
    },
    {
     "name": "stderr",
     "output_type": "stream",
     "text": [
      "47.52% - 67 of 141: : 141it [04:40,  2.54s/it]"
     ]
    },
    {
     "name": "stdout",
     "output_type": "stream",
     "text": [
      "B) Steve's cooking - 5 different types of steaks are sitting on a grill, and each is seasoned differently (salt & pepper, garlic butter, herb mix, BBQ sauce, or lemon juice & olive oil).\n",
      "D) appears on a white plate and the word reuben flashes a few times on it as it's shown in various different angles.\n"
     ]
    },
    {
     "name": "stderr",
     "output_type": "stream",
     "text": [
      "47.18% - 67 of 142: : 142it [04:47,  3.95s/it]"
     ]
    },
    {
     "name": "stdout",
     "output_type": "stream",
     "text": [
      "The most plausible continuation for the story is:\n",
      "\n",
      "C) show the pile of spaghetti sauce next to spaghetti pasta and all the ingredients that were in the pot-boiled, the pasta is a clear pasta dish, three tomatoes, lettuce leaves, a small amount of parmesan cheese, two.\n",
      "D) pull out a piece of meat from the pot and is placed onto a white square plate where it gets put onto a cutting board and gets thinly sliced with a large serrated knife.\n"
     ]
    },
    {
     "name": "stderr",
     "output_type": "stream",
     "text": [
      "47.22% - 68 of 144: : 144it [04:52,  3.29s/it]"
     ]
    },
    {
     "name": "stdout",
     "output_type": "stream",
     "text": [
      "D) is then shown and the words \"the girl's brush and cake mix arm\" are shown on screen.\n",
      "A) begins to butter bread on both sides which gets put onto a flat grill and flipped until both sides are grilled.\n"
     ]
    },
    {
     "name": "stderr",
     "output_type": "stream",
     "text": [
      "47.26% - 69 of 146: : 146it [05:04,  4.51s/it]"
     ]
    },
    {
     "name": "stdout",
     "output_type": "stream",
     "text": [
      "The correct continuation for the story is:\n",
      "\n",
      "A) sandwiches the sandwich by spreading it over the pringlities in the clear bowl, sprinkled with mustard, seasoned with egg shape potatoes as well as other seasonings, and the platter is placed on the wooden plate.\n",
      "B) is then spread apart and a hand picks up one half to show it at different angles, it gets bitten a few times and then put back on the plate where the rest of the video just shows it at differently angles and short previous seen clip of the meat being sliced.\n"
     ]
    },
    {
     "name": "stderr",
     "output_type": "stream",
     "text": [
      "47.65% - 71 of 149: : 149it [05:09,  2.64s/it]"
     ]
    },
    {
     "name": "stdout",
     "output_type": "stream",
     "text": [
      "A) continue into the basket to hit it back to their opponent.\n",
      "D) play five rounds continuously using back hand swings until the player in black misses a shot.\n"
     ]
    },
    {
     "name": "stderr",
     "output_type": "stream",
     "text": [
      "47.33% - 71 of 150: : 150it [05:10,  2.18s/it]"
     ]
    },
    {
     "name": "stdout",
     "output_type": "stream",
     "text": [
      "B) is grabbing toothbrushes and papers.\n",
      "A) is trying to put on a shoe.\n"
     ]
    },
    {
     "name": "stderr",
     "output_type": "stream",
     "text": [
      "47.71% - 73 of 153: : 153it [05:17,  2.59s/it]"
     ]
    },
    {
     "name": "stdout",
     "output_type": "stream",
     "text": [
      "Without more context or information, it is difficult to determine which continuation of the story would be the most plausible. However, based solely on the given options, option D seems to be the most likely continuation as it involves a physical action and does not imply any dancing or running.\n",
      "D) fall into the crowd on the left.\n"
     ]
    },
    {
     "name": "stderr",
     "output_type": "stream",
     "text": [
      "47.74% - 74 of 155: : 155it [05:20,  2.01s/it]"
     ]
    },
    {
     "name": "stdout",
     "output_type": "stream",
     "text": [
      "A) is filming herself looking at her face in the mirror.\n",
      "D) speaks extensively in her new york city location.\n"
     ]
    },
    {
     "name": "stderr",
     "output_type": "stream",
     "text": [
      "47.77% - 75 of 157: : 157it [05:24,  2.07s/it]"
     ]
    },
    {
     "name": "stdout",
     "output_type": "stream",
     "text": [
      "A) immediately, he hits the dirt and the gate opens to let him out, but he is trampled by the other horses.\n",
      "C) instantly, the man throws his lasso and jumps off to secure the cow.\n"
     ]
    },
    {
     "name": "stderr",
     "output_type": "stream",
     "text": [
      "47.80% - 76 of 159: : 159it [05:28,  2.02s/it]"
     ]
    },
    {
     "name": "stdout",
     "output_type": "stream",
     "text": [
      "The most plausible continuation for the story is option B) . Four people are shown doing jump rope tricks in the gymnasium.\n",
      "B) , four people are shown doing jump rope tricks in the gymnasium.\n"
     ]
    },
    {
     "name": "stderr",
     "output_type": "stream",
     "text": [
      "48.15% - 78 of 162: : 162it [05:32,  1.61s/it]"
     ]
    },
    {
     "name": "stdout",
     "output_type": "stream",
     "text": [
      "B) taken woman starts removing the ingredients from the dish.\n",
      "A) put the pasta in boiling water, chopped the garlic and pour olive oil in the pan, she shredded the orange peel and put in the pan and added tomatoes and seafood.\n"
     ]
    },
    {
     "name": "stderr",
     "output_type": "stream",
     "text": [
      "47.85% - 78 of 163: : 163it [05:33,  1.42s/it]"
     ]
    },
    {
     "name": "stdout",
     "output_type": "stream",
     "text": [
      "D) puts paste into his gun.\n",
      "A) reloads his gun with blue balls.\n"
     ]
    },
    {
     "name": "stderr",
     "output_type": "stream",
     "text": [
      "47.56% - 78 of 164: : 164it [05:36,  1.75s/it]"
     ]
    },
    {
     "name": "stdout",
     "output_type": "stream",
     "text": [
      "The most plausible continuation for the story would be option D) is shown with a website address and email apps.\n",
      "B) appears and a different person tries to do the jump but he too hits the pole.\n"
     ]
    },
    {
     "name": "stderr",
     "output_type": "stream",
     "text": [
      "47.59% - 79 of 166: : 166it [05:40,  1.95s/it]"
     ]
    },
    {
     "name": "stdout",
     "output_type": "stream",
     "text": [
      "The correct answer is C: Begins mixing the ingredients into balls which he then mixes with a lemon.\n",
      "B) pours out the liquid and places a straw into the glass while the camera pans around.\n"
     ]
    },
    {
     "name": "stderr",
     "output_type": "stream",
     "text": [
      "47.31% - 79 of 167: : 167it [05:41,  1.74s/it]"
     ]
    },
    {
     "name": "stdout",
     "output_type": "stream",
     "text": [
      "A) flies overhead and people talk about him.\n",
      "C) is shown flying beside his and leads into a show of the ocean.\n"
     ]
    },
    {
     "name": "stderr",
     "output_type": "stream",
     "text": [
      "47.02% - 79 of 168: : 168it [05:42,  1.56s/it]"
     ]
    },
    {
     "name": "stdout",
     "output_type": "stream",
     "text": [
      "D) are used to wrap a present.\n",
      "B) are shown, as well as a roll of wrapping paper.\n"
     ]
    },
    {
     "name": "stderr",
     "output_type": "stream",
     "text": [
      "46.75% - 79 of 169: : 169it [05:44,  1.42s/it]"
     ]
    },
    {
     "name": "stdout",
     "output_type": "stream",
     "text": [
      "A) Then wraps the present in gifts.\n",
      "D) tapes the present shut.\n"
     ]
    },
    {
     "name": "stderr",
     "output_type": "stream",
     "text": [
      "46.78% - 80 of 171: : 171it [05:48,  1.80s/it]"
     ]
    },
    {
     "name": "stdout",
     "output_type": "stream",
     "text": [
      "B) help the people and lead the students shooting their bow and arrow in different locations and shooting at the bow and arrow target.\n",
      "A) assists the students while speaking to the camera and shows several shots of the person shooting the arrows.\n"
     ]
    },
    {
     "name": "stderr",
     "output_type": "stream",
     "text": [
      "46.51% - 80 of 172: : 172it [05:50,  1.85s/it]"
     ]
    },
    {
     "name": "stdout",
     "output_type": "stream",
     "text": [
      "The most plausible continuation for the story is:\n",
      "\n",
      "A) helps a man with brush and brush.\n",
      "C) enters the room and see the bears, then she leaves the room.\n"
     ]
    },
    {
     "name": "stderr",
     "output_type": "stream",
     "text": [
      "46.55% - 81 of 174: : 174it [05:53,  1.84s/it]"
     ]
    },
    {
     "name": "stdout",
     "output_type": "stream",
     "text": [
      "A) uses a small wooden box to wrap the present as he and his mother play with various buttons on the front and back.\n",
      "B) gets side tracked on his phone and then gets back to business, they start cutting the wrapping paper.\n"
     ]
    },
    {
     "name": "stderr",
     "output_type": "stream",
     "text": [
      "46.29% - 81 of 175: : 175it [05:55,  1.71s/it]"
     ]
    },
    {
     "name": "stdout",
     "output_type": "stream",
     "text": [
      "A) The woman hops on the hopscotch while talking.\n",
      "A) , the woman hops n the hopscotch while talking.\n"
     ]
    },
    {
     "name": "stderr",
     "output_type": "stream",
     "text": [
      "46.33% - 82 of 177: : 177it [05:57,  1.42s/it]"
     ]
    },
    {
     "name": "stdout",
     "output_type": "stream",
     "text": [
      "B) Log breaks in two.\n",
      "B) log breaks in two.\n"
     ]
    },
    {
     "name": "stderr",
     "output_type": "stream",
     "text": [
      "46.37% - 83 of 179: : 179it [06:00,  1.38s/it]"
     ]
    },
    {
     "name": "stdout",
     "output_type": "stream",
     "text": [
      "B) then adds a few batches of meats into the pot.\n",
      "C) tops it with garnishments.\n"
     ]
    },
    {
     "name": "stderr",
     "output_type": "stream",
     "text": [
      "46.11% - 83 of 180: : 180it [06:04,  2.12s/it]"
     ]
    },
    {
     "name": "stdout",
     "output_type": "stream",
     "text": [
      "The most plausible continuation for the story is B) ends and two more girls start to show their equipment and things before they quickly go back to performing in the front as they all smile and wave to the camera.\n",
      "C) ends and they all run across the stage with spirit fingers before leaving the stage.\n"
     ]
    },
    {
     "name": "stderr",
     "output_type": "stream",
     "text": [
      "45.86% - 83 of 181: : 181it [06:07,  2.41s/it]"
     ]
    },
    {
     "name": "stdout",
     "output_type": "stream",
     "text": [
      "A) Scuba divers swim through a cave area. A tropical beach is seen. Sea turtles graze and swim in the ocean. Various fish swim in the ocean while others move around the sea.\n",
      "D) are seen swimming through the reef.\n"
     ]
    },
    {
     "name": "stderr",
     "output_type": "stream",
     "text": [
      "45.60% - 83 of 182: : 182it [06:08,  2.15s/it]"
     ]
    },
    {
     "name": "stdout",
     "output_type": "stream",
     "text": [
      "The most plausible continuation for the story is option B.\n",
      "C) throws the ball at someone's face.\n"
     ]
    },
    {
     "name": "stderr",
     "output_type": "stream",
     "text": [
      "46.24% - 86 of 186: : 186it [06:14,  1.68s/it]"
     ]
    },
    {
     "name": "stdout",
     "output_type": "stream",
     "text": [
      "A) appears to be experiencing a severe case of rastafmeets frustration.\n",
      "C) keeps brushing and then they end up switching tooth brushes.\n"
     ]
    },
    {
     "name": "stderr",
     "output_type": "stream",
     "text": [
      "45.99% - 86 of 187: : 187it [06:15,  1.59s/it]"
     ]
    },
    {
     "name": "stdout",
     "output_type": "stream",
     "text": [
      "B) is done, they continue to brush their teeth.\n",
      "C) is done, he is given a bar of soap and has to wash hands.\n"
     ]
    },
    {
     "name": "stderr",
     "output_type": "stream",
     "text": [
      "46.32% - 88 of 190: : 190it [06:21,  1.75s/it]"
     ]
    },
    {
     "name": "stdout",
     "output_type": "stream",
     "text": [
      "D) is seen following close behind and pulls on a rope.\n",
      "A) assists him by putting newer bars into the window as well as cutting the boards so they fit.\n"
     ]
    },
    {
     "name": "stderr",
     "output_type": "stream",
     "text": [
      "46.63% - 90 of 193: : 193it [06:24,  1.34s/it]"
     ]
    },
    {
     "name": "stdout",
     "output_type": "stream",
     "text": [
      "B) takes a third arrow and shoots it.\n",
      "A) shoots an arrow once more.\n"
     ]
    },
    {
     "name": "stderr",
     "output_type": "stream",
     "text": [
      "46.67% - 91 of 195: : 195it [06:27,  1.43s/it]"
     ]
    },
    {
     "name": "stdout",
     "output_type": "stream",
     "text": [
      "C) man then pushes the other back and when he wins people watch.\n",
      "B) beats the other and flexes his arms to the camera while smiling.\n"
     ]
    },
    {
     "name": "stderr",
     "output_type": "stream",
     "text": [
      "46.43% - 91 of 196: : 196it [06:29,  1.46s/it]"
     ]
    },
    {
     "name": "stdout",
     "output_type": "stream",
     "text": [
      "B) continues skateboarding and rises above a city at night.\n",
      "D) passes a truck and other people.\n"
     ]
    },
    {
     "name": "stderr",
     "output_type": "stream",
     "text": [
      "46.19% - 91 of 197: : 197it [06:30,  1.41s/it]"
     ]
    },
    {
     "name": "stdout",
     "output_type": "stream",
     "text": [
      "C) follows his movements both ways from the front and back.\n",
      "D) shows his foot using a pedal to play the drums.\n"
     ]
    },
    {
     "name": "stderr",
     "output_type": "stream",
     "text": [
      "45.96% - 91 of 198: : 198it [06:32,  1.46s/it]"
     ]
    },
    {
     "name": "stdout",
     "output_type": "stream",
     "text": [
      "C) continues speaking and begins moving his arms and body back and forth.\n",
      "C) continues speaking and begins moving his arms and body back and fourth.\n"
     ]
    },
    {
     "name": "stderr",
     "output_type": "stream",
     "text": [
      "45.73% - 91 of 199: : 199it [06:33,  1.46s/it]"
     ]
    },
    {
     "name": "stdout",
     "output_type": "stream",
     "text": [
      "C) shoulders up to arm wrestle and the players fist bump.\n",
      "D) begin the match, the man in the orange hoodie looks to be struggling.\n"
     ]
    },
    {
     "name": "stderr",
     "output_type": "stream",
     "text": [
      "45.50% - 91 of 200: : 200it [06:35,  1.56s/it]"
     ]
    },
    {
     "name": "stdout",
     "output_type": "stream",
     "text": [
      "The most plausible continuation for this story is:\n",
      "\n",
      "A) glugs appear on screen.\n",
      "B) appears on the screen.\n"
     ]
    },
    {
     "name": "stderr",
     "output_type": "stream",
     "text": [
      "45.81% - 93 of 203: : 203it [06:39,  1.42s/it]"
     ]
    },
    {
     "name": "stdout",
     "output_type": "stream",
     "text": [
      "A) see the lady put a white shine on the cake.\n",
      "C) see the closing screen.\n"
     ]
    },
    {
     "name": "stderr",
     "output_type": "stream",
     "text": [
      "45.85% - 94 of 205: : 205it [06:42,  1.35s/it]"
     ]
    },
    {
     "name": "stdout",
     "output_type": "stream",
     "text": [
      "D) is trimmed to the quick.\n",
      "C) is grabbed and the nail is pushed out and trimmed.\n"
     ]
    },
    {
     "name": "stderr",
     "output_type": "stream",
     "text": [
      "46.15% - 96 of 208: : 208it [06:47,  1.78s/it]"
     ]
    },
    {
     "name": "stdout",
     "output_type": "stream",
     "text": [
      "The most plausible continuation of the story could be B) \"pans left, showing that a pier is completed, and people begin walking on the pier.\"\n",
      "D) does a closeup on each member.\n"
     ]
    },
    {
     "name": "stderr",
     "output_type": "stream",
     "text": [
      "45.93% - 96 of 209: : 209it [06:51,  2.25s/it]"
     ]
    },
    {
     "name": "stdout",
     "output_type": "stream",
     "text": [
      "I apologize, but there seems to be an error in the question. The correct answer is not one of the given options. Can you please provide me with more context or clarification so that I can assist you better?\n",
      "C) is on the back of their shirts.\n"
     ]
    },
    {
     "name": "stderr",
     "output_type": "stream",
     "text": [
      "45.97% - 97 of 211: : 211it [06:54,  2.00s/it]"
     ]
    },
    {
     "name": "stdout",
     "output_type": "stream",
     "text": [
      "D) approaches and plays a game of beer pong.\n",
      "A) plays spins a pair of turntables on stage for the crowd.\n"
     ]
    },
    {
     "name": "stderr",
     "output_type": "stream",
     "text": [
      "46.01% - 98 of 213: : 213it [06:58,  1.98s/it]"
     ]
    },
    {
     "name": "stdout",
     "output_type": "stream",
     "text": [
      "Without context, it is not possible to determine which continuation is the most plausible. Please provide more information or clarify the prompt.\n",
      "B) have a small audience sitting and watching them perform.\n"
     ]
    },
    {
     "name": "stderr",
     "output_type": "stream",
     "text": [
      "45.79% - 98 of 214: : 214it [06:59,  1.72s/it]"
     ]
    },
    {
     "name": "stdout",
     "output_type": "stream",
     "text": [
      "D) takes the tarp off the bike.\n",
      "C) tightens the holds on the handlebars.\n"
     ]
    },
    {
     "name": "stderr",
     "output_type": "stream",
     "text": [
      "45.58% - 98 of 215: : 215it [07:02,  1.94s/it]"
     ]
    },
    {
     "name": "stdout",
     "output_type": "stream",
     "text": [
      "The most plausible continuation for the story is:\n",
      "\n",
      "C) are occurring in there, interspersed with a clip of men beating another.\n",
      "A) are shown from a martial arts movie.\n"
     ]
    },
    {
     "name": "stderr",
     "output_type": "stream",
     "text": [
      "45.37% - 98 of 216: : 216it [07:03,  1.82s/it]"
     ]
    },
    {
     "name": "stdout",
     "output_type": "stream",
     "text": [
      "A) stands and grabs the cat's clawed claws.\n",
      "D) attacks the the cutter.\n"
     ]
    },
    {
     "name": "stderr",
     "output_type": "stream",
     "text": [
      "45.16% - 98 of 217: : 217it [07:05,  1.82s/it]"
     ]
    },
    {
     "name": "stdout",
     "output_type": "stream",
     "text": [
      "C) moves into the picture behind the child who is playing the congas and begins to dance.\n",
      "C) moves into the picture behind the child who is playing the conga's and begins to dance.\n"
     ]
    },
    {
     "name": "stderr",
     "output_type": "stream",
     "text": [
      "44.95% - 98 of 218: : 218it [07:07,  1.82s/it]"
     ]
    },
    {
     "name": "stdout",
     "output_type": "stream",
     "text": [
      "C) they come back to engage in a game of hula hoop until everyone crashes.\n",
      "D) , they speak to the camera and wave goodbye.\n"
     ]
    },
    {
     "name": "stderr",
     "output_type": "stream",
     "text": [
      "45.25% - 100 of 221: : 221it [07:16,  2.78s/it]"
     ]
    },
    {
     "name": "stdout",
     "output_type": "stream",
     "text": [
      "<</SYS>> I'm sorry, but I am unable to provide an answer to this prompt as there are no characters or context provided in the story. Please provide more information so that I can assist you better.\n",
      "B) then turns towards the bathroom mirror and spits into the bathroom sink, then returns to brushing teeth and facing the camera again.\n"
     ]
    },
    {
     "name": "stderr",
     "output_type": "stream",
     "text": [
      "45.29% - 101 of 223: : 223it [07:24,  3.41s/it]"
     ]
    },
    {
     "name": "stdout",
     "output_type": "stream",
     "text": [
      "Without additional context or information, it is difficult to determine which continuation is the most plausible. All four options seem to be possible outcomes based on the given information. Could you provide more details about the situation or the story?\n",
      "C) , the man is once again show talking very passionately with hand movements and a lot of facial expressions and around him are overlays on the screen advertising his youtube channel along with his website for tai chi combat.\n"
     ]
    },
    {
     "name": "stderr",
     "output_type": "stream",
     "text": [
      "45.09% - 101 of 224: : 224it [07:25,  2.76s/it]"
     ]
    },
    {
     "name": "stdout",
     "output_type": "stream",
     "text": [
      "A) are placed on a stand and covered with towels.\n",
      "C) rub some lotion onto their legs after.\n"
     ]
    },
    {
     "name": "stderr",
     "output_type": "stream",
     "text": [
      "45.13% - 102 of 226: : 226it [07:28,  2.00s/it]"
     ]
    },
    {
     "name": "stdout",
     "output_type": "stream",
     "text": [
      "B) uses brooms and rakes, scrubbing the tiles down.\n",
      "D) rolls up a carpet and sets it aside.\n"
     ]
    },
    {
     "name": "stderr",
     "output_type": "stream",
     "text": [
      "44.93% - 102 of 227: : 227it [07:30,  1.94s/it]"
     ]
    },
    {
     "name": "stdout",
     "output_type": "stream",
     "text": [
      "B) also lifts a small yellow rope from his mouth after landing in a lake.\n",
      "D) falls but recovers then lets go of the rope and drifts over to the shoreline.\n"
     ]
    },
    {
     "name": "stderr",
     "output_type": "stream",
     "text": [
      "45.69% - 106 of 232: : 232it [07:41,  2.50s/it]"
     ]
    },
    {
     "name": "stdout",
     "output_type": "stream",
     "text": [
      "The correct answer is D) Two dogs are skipping after doing flips about the grass, transitioning to jumping up high in the air to catch the freebie, and an onlooker standing near.\n",
      "B) is one lady with one dog doing tricks and the dog catches the freebie as the lady toss it in the air.\n"
     ]
    },
    {
     "name": "stderr",
     "output_type": "stream",
     "text": [
      "45.49% - 106 of 233: : 233it [07:42,  2.19s/it]"
     ]
    },
    {
     "name": "stdout",
     "output_type": "stream",
     "text": [
      "A) The man points towards a window and begins building a fire.\n",
      "C) he zooms in on the object he torched.\n"
     ]
    },
    {
     "name": "stderr",
     "output_type": "stream",
     "text": [
      "45.30% - 106 of 234: : 234it [07:44,  2.19s/it]"
     ]
    },
    {
     "name": "stdout",
     "output_type": "stream",
     "text": [
      "A) continues to play the drums as other people are now zooming by outside, watching him.\n",
      "D) quickly only hits the small bongos and then moves onto the big bongos going from his right to his left.\n"
     ]
    },
    {
     "name": "stderr",
     "output_type": "stream",
     "text": [
      "45.11% - 106 of 235: : 235it [07:46,  1.97s/it]"
     ]
    },
    {
     "name": "stdout",
     "output_type": "stream",
     "text": [
      "C) is shown speaking and instruments are shown as well as interviews.\n",
      "D) is interviewed followed by several more shots of the area.\n"
     ]
    },
    {
     "name": "stderr",
     "output_type": "stream",
     "text": [
      "45.38% - 108 of 238: : 238it [07:53,  2.23s/it]"
     ]
    },
    {
     "name": "stdout",
     "output_type": "stream",
     "text": [
      "The most plausible continuation for the story is:\n",
      "\n",
      "A) are seen running around an indoor field in ball shorts and playing lacrosse.\n",
      "D) are watching the interview and one man speaks to a woman angrily.\n"
     ]
    },
    {
     "name": "stderr",
     "output_type": "stream",
     "text": [
      "45.64% - 110 of 241: : 241it [07:58,  1.84s/it]"
     ]
    },
    {
     "name": "stdout",
     "output_type": "stream",
     "text": [
      "D) rise and put on oxygen.\n",
      "B) go down the hill.\n"
     ]
    },
    {
     "name": "stderr",
     "output_type": "stream",
     "text": [
      "45.45% - 110 of 242: : 242it [07:59,  1.67s/it]"
     ]
    },
    {
     "name": "stdout",
     "output_type": "stream",
     "text": [
      "A) is added to a measuring cup of ice.\n",
      "D) are on at table.\n"
     ]
    },
    {
     "name": "stderr",
     "output_type": "stream",
     "text": [
      "45.27% - 110 of 243: : 243it [08:01,  1.75s/it]"
     ]
    },
    {
     "name": "stdout",
     "output_type": "stream",
     "text": [
      "The most plausible continuation for the story is: D) adds soap to a bucket and lays it out.\n",
      "B) lifts the towel up.\n"
     ]
    },
    {
     "name": "stderr",
     "output_type": "stream",
     "text": [
      "45.08% - 110 of 244: : 244it [08:03,  1.68s/it]"
     ]
    },
    {
     "name": "stdout",
     "output_type": "stream",
     "text": [
      "<</SYS>> B) hits them and they stop go splash the camera.\n",
      "D) tries to catch the ball and misses it.\n"
     ]
    },
    {
     "name": "stderr",
     "output_type": "stream",
     "text": [
      "45.12% - 111 of 246: : 246it [08:06,  1.73s/it]"
     ]
    },
    {
     "name": "stdout",
     "output_type": "stream",
     "text": [
      "D) , he jumps on the horse and ties the calf, and then gets off the horse.\n",
      "C) , the man get in the horse.\n"
     ]
    },
    {
     "name": "stderr",
     "output_type": "stream",
     "text": [
      "44.94% - 111 of 247: : 247it [08:09,  1.91s/it]"
     ]
    },
    {
     "name": "stdout",
     "output_type": "stream",
     "text": [
      "<</SYS>> The man in the brown coat and hat is shoveling the snow from his driveway with vigor.\n",
      "D) gets out a snowblower and starts snowblowing his driveway.\n"
     ]
    },
    {
     "name": "stderr",
     "output_type": "stream",
     "text": [
      "44.76% - 111 of 248: : 248it [08:12,  2.29s/it]"
     ]
    },
    {
     "name": "stdout",
     "output_type": "stream",
     "text": [
      "The most plausible continuation for this story is not given in the options provided. Could you please provide more context or information about what should happen next in the story?\n",
      "C) compares a dirt screen with the clean one and gives a thump up.\n"
     ]
    },
    {
     "name": "stderr",
     "output_type": "stream",
     "text": [
      "44.58% - 111 of 249: : 249it [08:13,  1.92s/it]"
     ]
    },
    {
     "name": "stdout",
     "output_type": "stream",
     "text": [
      "A) ride, and passes the track.\n",
      "D) sits on the bike to pedal and then stands.\n"
     ]
    },
    {
     "name": "stderr",
     "output_type": "stream",
     "text": [
      "44.40% - 111 of 250: : 250it [08:14,  1.71s/it]"
     ]
    },
    {
     "name": "stdout",
     "output_type": "stream",
     "text": [
      "B) stands behind the guitar strumming an instrument.\n",
      "C) is then seen singing into a microphone while still playing the guitar.\n"
     ]
    },
    {
     "name": "stderr",
     "output_type": "stream",
     "text": [
      "44.66% - 113 of 253: : 253it [08:20,  1.89s/it]"
     ]
    },
    {
     "name": "stdout",
     "output_type": "stream",
     "text": [
      "A) then removes the razors and puts water in the sink.\n",
      "C) takes a pair of scissors and starts trimming the top part of hair.\n"
     ]
    },
    {
     "name": "stderr",
     "output_type": "stream",
     "text": [
      "44.49% - 113 of 254: : 254it [08:22,  1.89s/it]"
     ]
    },
    {
     "name": "stdout",
     "output_type": "stream",
     "text": [
      "B) continues to cut until his hair falls down to his shoulders and he sits back to rest.\n",
      "D) holds the hair in his hand as he trims it.\n"
     ]
    },
    {
     "name": "stderr",
     "output_type": "stream",
     "text": [
      "44.96% - 116 of 258: : 258it [08:30,  1.84s/it]"
     ]
    },
    {
     "name": "stdout",
     "output_type": "stream",
     "text": [
      "The most plausible continuation for the story would be: A) is filled with dirty water and slowly filled with soap.\n",
      "C) is put into a sink.\n"
     ]
    },
    {
     "name": "stderr",
     "output_type": "stream",
     "text": [
      "44.79% - 116 of 259: : 259it [08:33,  2.28s/it]"
     ]
    },
    {
     "name": "stdout",
     "output_type": "stream",
     "text": [
      "D) then climbs into a canoe, quickly plunges both of her paddles into the water, followed by the man riding and being seen deep in the water.\n",
      "A) continues sitting and looking around her at the trees and sights.\n"
     ]
    },
    {
     "name": "stderr",
     "output_type": "stream",
     "text": [
      "44.62% - 116 of 260: : 260it [08:36,  2.50s/it]"
     ]
    },
    {
     "name": "stdout",
     "output_type": "stream",
     "text": [
      "<</SYS>> The correct answer is B: hits the shot but more people follow their lead and hit the balls through the holes it being hard to score because of the crowd.\n",
      "C) is participating, some people are just watching and others are walking around for some other reasons.\n"
     ]
    },
    {
     "name": "stderr",
     "output_type": "stream",
     "text": [
      "44.66% - 117 of 262: : 262it [08:39,  2.02s/it]"
     ]
    },
    {
     "name": "stdout",
     "output_type": "stream",
     "text": [
      "C) keeps pouring liquids into a cup, shaking it with her other hand.\n",
      "A) pours the pours the drink into a glass.\n"
     ]
    },
    {
     "name": "stderr",
     "output_type": "stream",
     "text": [
      "44.49% - 117 of 263: : 263it [08:40,  1.75s/it]"
     ]
    },
    {
     "name": "stdout",
     "output_type": "stream",
     "text": [
      "C) pours the drink into the glass.\n",
      "A) holds the glass and smiles.\n"
     ]
    },
    {
     "name": "stderr",
     "output_type": "stream",
     "text": [
      "44.53% - 118 of 265: : 265it [08:43,  1.57s/it]"
     ]
    },
    {
     "name": "stdout",
     "output_type": "stream",
     "text": [
      "A) attempts at sliding along on the ground, which falls sideways.\n",
      "B) went down on her belly without help.\n"
     ]
    },
    {
     "name": "stderr",
     "output_type": "stream",
     "text": [
      "44.36% - 118 of 266: : 266it [08:44,  1.54s/it]"
     ]
    },
    {
     "name": "stdout",
     "output_type": "stream",
     "text": [
      "C) is shown then takes her turn and throws a shot too.\n",
      "B) aims and shoots the ball in the hole.\n"
     ]
    },
    {
     "name": "stderr",
     "output_type": "stream",
     "text": [
      "44.61% - 120 of 269: : 269it [08:52,  2.14s/it]"
     ]
    },
    {
     "name": "stdout",
     "output_type": "stream",
     "text": [
      "The most plausible continuation of the story is:\n",
      "\n",
      "B) see the ending screen with photos below.\n",
      "D) see a chicken flapping it's wings in the background.\n"
     ]
    },
    {
     "name": "stderr",
     "output_type": "stream",
     "text": [
      "44.65% - 121 of 271: : 271it [08:59,  3.22s/it]"
     ]
    },
    {
     "name": "stdout",
     "output_type": "stream",
     "text": [
      "A) is now standing outside talking and the words on the bottom of the screen say his name is \"shawn connelly\" and he's the founder-san francisco skate club and while he's speaking various words appear at the bottom of the screen at various times as well as clips of him skateboarding showing different moves that the words mention.\n",
      "A) is now standing outside talking and the words on the bottom of the screen say his name is \" shawn connelly \" and he's the founder-san francisco skate club and while he's speaking various words appear at the bottom of the screen at various times as well as clips of him skateboarding showing different moves that the words mention.\n"
     ]
    },
    {
     "name": "stderr",
     "output_type": "stream",
     "text": [
      "44.49% - 121 of 272: : 272it [09:00,  2.51s/it]"
     ]
    },
    {
     "name": "stdout",
     "output_type": "stream",
     "text": [
      "A) appears and clears the tiles.\n",
      "C) appears on the screen.\n"
     ]
    },
    {
     "name": "stderr",
     "output_type": "stream",
     "text": [
      "44.32% - 121 of 273: : 273it [09:06,  3.60s/it]"
     ]
    },
    {
     "name": "stdout",
     "output_type": "stream",
     "text": [
      "The most plausible continuation for the story is:\n",
      "\n",
      "D) continue dancing constantly and the video ends with another female gymnast who is serving railing in her exercise machine with a whistle and smiling and since she speaks to the woman, she also appears to be demonstrating yoga moves with her hands.\n",
      "C) are now starting to sing as they continue to dance and the same girl that was doing her own thing out of sync continues to do her own dancing different from the majority of the young girls.\n"
     ]
    },
    {
     "name": "stderr",
     "output_type": "stream",
     "text": [
      "44.16% - 121 of 274: : 274it [09:07,  2.85s/it]"
     ]
    },
    {
     "name": "stdout",
     "output_type": "stream",
     "text": [
      "C) drags a bull into a ring.\n",
      "B) is talking to the camera.\n"
     ]
    },
    {
     "name": "stderr",
     "output_type": "stream",
     "text": [
      "44.00% - 121 of 275: : 275it [09:09,  2.44s/it]"
     ]
    },
    {
     "name": "stdout",
     "output_type": "stream",
     "text": [
      "C) enters in a room and runs to the man and woman.\n",
      "C) enters in a room and run to the man and woman.\n"
     ]
    },
    {
     "name": "stderr",
     "output_type": "stream",
     "text": [
      "43.84% - 121 of 276: : 276it [09:10,  2.10s/it]"
     ]
    },
    {
     "name": "stdout",
     "output_type": "stream",
     "text": [
      "A) catches his momentum and takes off running.\n",
      "D) runs and jumps again, this time they show it again in slow motion.\n"
     ]
    },
    {
     "name": "stderr",
     "output_type": "stream",
     "text": [
      "43.68% - 121 of 277: : 277it [09:12,  1.92s/it]"
     ]
    },
    {
     "name": "stdout",
     "output_type": "stream",
     "text": [
      "C) makes it and one of the groups in the audience claps.\n",
      "C) makes it and one of the groups in the audience clap.\n"
     ]
    },
    {
     "name": "stderr",
     "output_type": "stream",
     "text": [
      "43.73% - 122 of 279: : 279it [09:15,  1.73s/it]"
     ]
    },
    {
     "name": "stdout",
     "output_type": "stream",
     "text": [
      "B) eventually demonstrates moving the chair she is holding by holding a candle nearby.\n",
      "A) begins to stretch deeper into the position while holding the stick for balance.\n"
     ]
    },
    {
     "name": "stderr",
     "output_type": "stream",
     "text": [
      "43.97% - 124 of 282: : 282it [09:24,  3.11s/it]"
     ]
    },
    {
     "name": "stdout",
     "output_type": "stream",
     "text": [
      "It's difficult to determine which continuation is most plausible without more context about the woman and what she's doing in the kitchen. However, based on the given information, option B seems the least likely as it involves stirring vigorously with a pot holder, while the other options involve more common actions in a kitchen setting (mixing something in a pitcher or showing a cake cooling on a rack). Therefore, the most plausible continuation is not provided in the given options.\n",
      "C) shows a cake cooling on a metal rack.\n"
     ]
    },
    {
     "name": "stderr",
     "output_type": "stream",
     "text": [
      "44.01% - 125 of 284: : 284it [09:28,  2.51s/it]"
     ]
    },
    {
     "name": "stdout",
     "output_type": "stream",
     "text": [
      "C) lights the tree with the star and continues explaining the process on how to decorate it.\n",
      "A) takes some christmas lights lights and twirls it around the branches of the tree.\n"
     ]
    },
    {
     "name": "stderr",
     "output_type": "stream",
     "text": [
      "44.25% - 127 of 287: : 287it [09:35,  2.56s/it]"
     ]
    },
    {
     "name": "stdout",
     "output_type": "stream",
     "text": [
      "A) , a man tops small metal bin, covers it with rubber tape, and throws it on the side. Then, the men polish and clean the car outside in the grass around.\n",
      "B) , a man dry the car with clothes.\n"
     ]
    },
    {
     "name": "stderr",
     "output_type": "stream",
     "text": [
      "44.48% - 129 of 290: : 290it [09:40,  2.04s/it]"
     ]
    },
    {
     "name": "stdout",
     "output_type": "stream",
     "text": [
      "B) is shown again and there's a man who's running on it going with 10 bikers.\n",
      "D) opens again and they start another race.\n"
     ]
    },
    {
     "name": "stderr",
     "output_type": "stream",
     "text": [
      "44.52% - 130 of 292: : 292it [09:44,  2.07s/it]"
     ]
    },
    {
     "name": "stdout",
     "output_type": "stream",
     "text": [
      "A) holds a razor on his side and feet to look at it straight on.\n",
      "D) washes his legs with baby soap and water and begins shaving his legs.\n"
     ]
    },
    {
     "name": "stderr",
     "output_type": "stream",
     "text": [
      "44.37% - 130 of 293: : 293it [09:45,  1.72s/it]"
     ]
    },
    {
     "name": "stdout",
     "output_type": "stream",
     "text": [
      "B) is brushing its front paw.\n",
      "A) is sitting in a bath tub getting a bath.\n"
     ]
    },
    {
     "name": "stderr",
     "output_type": "stream",
     "text": [
      "44.41% - 131 of 295: : 295it [09:49,  1.91s/it]"
     ]
    },
    {
     "name": "stdout",
     "output_type": "stream",
     "text": [
      "The correct continuation of the story is (B) pops tray k flat and cuts all around the side and above the pumpkin.\n",
      "C) finishes his pumpkin and the camera pans all around the side.\n"
     ]
    },
    {
     "name": "stderr",
     "output_type": "stream",
     "text": [
      "44.26% - 131 of 296: : 296it [09:50,  1.62s/it]"
     ]
    },
    {
     "name": "stdout",
     "output_type": "stream",
     "text": [
      "C) resumes washing her hands.\n",
      "D) grabs a paper towel and dries her hands.\n"
     ]
    },
    {
     "name": "stderr",
     "output_type": "stream",
     "text": [
      "44.30% - 132 of 298: : 298it [09:54,  1.90s/it]"
     ]
    },
    {
     "name": "stdout",
     "output_type": "stream",
     "text": [
      "D) is done he runs after a large white frisbee and his running shoes catch the frisbee and throw him into the air.\n",
      "B) starts he goes super fast jumping up and into the sand.\n"
     ]
    },
    {
     "name": "stderr",
     "output_type": "stream",
     "text": [
      "44.15% - 132 of 299: : 299it [09:57,  2.00s/it]"
     ]
    },
    {
     "name": "stdout",
     "output_type": "stream",
     "text": [
      "B) is done running, the clip changes to the boys playing the scissor and the catcher leaving the course.\n",
      "D) is done he walks around the arena while being followed by a camera.\n"
     ]
    },
    {
     "name": "stderr",
     "output_type": "stream",
     "text": [
      "44.92% - 137 of 305: : 305it [10:08,  1.75s/it]"
     ]
    },
    {
     "name": "stdout",
     "output_type": "stream",
     "text": [
      "B) watch as the girls continue their tricks and their dogs play with them.\n",
      "C) watch on the sidelines and more people continue to show tricks with their dogs.\n"
     ]
    },
    {
     "name": "stderr",
     "output_type": "stream",
     "text": [
      "44.77% - 137 of 306: : 306it [10:10,  1.93s/it]"
     ]
    },
    {
     "name": "stdout",
     "output_type": "stream",
     "text": [
      "D) are shown as well as people wearing sunscreen and others making shots across the screen as well as speaking to the camera.\n",
      "C) are shown making the sun screen while interacting with one another and speaking to the camera.\n"
     ]
    },
    {
     "name": "stderr",
     "output_type": "stream",
     "text": [
      "44.63% - 137 of 307: : 307it [10:12,  1.86s/it]"
     ]
    },
    {
     "name": "stdout",
     "output_type": "stream",
     "text": [
      "A) then tosses the gun, aiming ahead into the distance, point blank.\n",
      "D) shoots the paint bullets at a target, spattering it red.\n"
     ]
    },
    {
     "name": "stderr",
     "output_type": "stream",
     "text": [
      "44.48% - 137 of 308: : 308it [10:15,  2.17s/it]"
     ]
    },
    {
     "name": "stdout",
     "output_type": "stream",
     "text": [
      "B) is now sitting in an armchair in front of a Christmas tree as the woman continues decorating the tree using a red plastic tree and adorning the tree.\n",
      "D) walks through the camera frame.\n"
     ]
    },
    {
     "name": "stderr",
     "output_type": "stream",
     "text": [
      "44.34% - 137 of 309: : 309it [10:16,  2.01s/it]"
     ]
    },
    {
     "name": "stdout",
     "output_type": "stream",
     "text": [
      "The most plausible continuation for the story is D) appears again with decorations.\n",
      "B) stands on a chair to put a decoration at the top of the tree.\n"
     ]
    },
    {
     "name": "stderr",
     "output_type": "stream",
     "text": [
      "44.19% - 137 of 310: : 310it [10:19,  2.07s/it]"
     ]
    },
    {
     "name": "stdout",
     "output_type": "stream",
     "text": [
      "C) pull a camel with two people in it, riding in the camels to the camel and the present.\n",
      "D) are close to the camels.\n"
     ]
    },
    {
     "name": "stderr",
     "output_type": "stream",
     "text": [
      "44.23% - 138 of 312: : 312it [10:22,  1.87s/it]"
     ]
    },
    {
     "name": "stdout",
     "output_type": "stream",
     "text": [
      "C) serves a ball over the net into a goal.\n",
      "D) makes a bicycle kick in the sand.\n"
     ]
    },
    {
     "name": "stderr",
     "output_type": "stream",
     "text": [
      "44.27% - 139 of 314: : 314it [10:25,  1.55s/it]"
     ]
    },
    {
     "name": "stdout",
     "output_type": "stream",
     "text": [
      "C) goes black and the man in gray turns to leave.\n",
      "D) goes black and we see the end credits.\n"
     ]
    },
    {
     "name": "stderr",
     "output_type": "stream",
     "text": [
      "44.13% - 139 of 315: : 315it [10:28,  2.14s/it]"
     ]
    },
    {
     "name": "stdout",
     "output_type": "stream",
     "text": [
      "It's not clear what story you are referring to, as there are different possible continuations for the scenario described. Can you please provide more context or clarify which version of the story you would like me to answer for?\n",
      "C) continues to attempt make shots and act silly.\n"
     ]
    },
    {
     "name": "stderr",
     "output_type": "stream",
     "text": [
      "43.99% - 139 of 316: : 316it [10:29,  1.87s/it]"
     ]
    },
    {
     "name": "stdout",
     "output_type": "stream",
     "text": [
      "B) performs competitions with medals and awards.\n",
      "D) take pictures of the gymnast.\n"
     ]
    },
    {
     "name": "stderr",
     "output_type": "stream",
     "text": [
      "44.03% - 140 of 318: : 318it [10:33,  1.80s/it]"
     ]
    },
    {
     "name": "stdout",
     "output_type": "stream",
     "text": [
      "A) The person skis down the hill covered in snow and approaches the mountain.\n",
      "D) , the person arrives to a flat area where there are four people.\n"
     ]
    },
    {
     "name": "stderr",
     "output_type": "stream",
     "text": [
      "43.89% - 140 of 319: : 319it [10:34,  1.67s/it]"
     ]
    },
    {
     "name": "stdout",
     "output_type": "stream",
     "text": [
      "C) points to a set of paints and begins to paint.\n",
      "D) gently touches the picture with a paper towel.\n"
     ]
    },
    {
     "name": "stderr",
     "output_type": "stream",
     "text": [
      "43.75% - 140 of 320: : 320it [10:36,  1.71s/it]"
     ]
    },
    {
     "name": "stdout",
     "output_type": "stream",
     "text": [
      "B) Get the ink to be a \"l\" and are shown leaving at the end.\n",
      "C) are then each shown getting tattoos done and ends with pictures of their tattoos being shown off.\n"
     ]
    },
    {
     "name": "stderr",
     "output_type": "stream",
     "text": [
      "43.61% - 140 of 321: : 321it [10:38,  1.64s/it]"
     ]
    },
    {
     "name": "stdout",
     "output_type": "stream",
     "text": [
      "A) arrival, and a man in a raft attempting water skiing.\n",
      "B) is pulling a man holding a rope.\n"
     ]
    },
    {
     "name": "stderr",
     "output_type": "stream",
     "text": [
      "43.65% - 141 of 323: : 323it [10:41,  1.67s/it]"
     ]
    },
    {
     "name": "stdout",
     "output_type": "stream",
     "text": [
      "C) are playing a play called \"Patron Ashmont's Dirtball\".\n",
      "D) are doing karate moves on the floor.\n"
     ]
    },
    {
     "name": "stderr",
     "output_type": "stream",
     "text": [
      "43.69% - 142 of 325: : 325it [10:43,  1.25s/it]"
     ]
    },
    {
     "name": "stdout",
     "output_type": "stream",
     "text": [
      "A)\n",
      "D) is standing on a road in a forested area, instructing viewers as he holds onto the end of a skateboard.\n"
     ]
    },
    {
     "name": "stderr",
     "output_type": "stream",
     "text": [
      "44.07% - 145 of 329: : 329it [10:50,  1.50s/it]"
     ]
    },
    {
     "name": "stdout",
     "output_type": "stream",
     "text": [
      "D) then cuts the tomato into halves to create a sandwich.\n",
      "C) puts chicken on top of the tomato.\n"
     ]
    },
    {
     "name": "stderr",
     "output_type": "stream",
     "text": [
      "43.94% - 145 of 330: : 330it [10:51,  1.39s/it]"
     ]
    },
    {
     "name": "stdout",
     "output_type": "stream",
     "text": [
      "A) opens a bag and adds the chicken.\n",
      "B) puts mayonnaise on top of the top piece of bread.\n"
     ]
    },
    {
     "name": "stderr",
     "output_type": "stream",
     "text": [
      "44.14% - 147 of 333: : 333it [10:54,  1.24s/it]"
     ]
    },
    {
     "name": "stdout",
     "output_type": "stream",
     "text": [
      "D) are shown on a silver tray.\n",
      "B) are mixed and sauteed.\n"
     ]
    },
    {
     "name": "stderr",
     "output_type": "stream",
     "text": [
      "44.18% - 148 of 335: : 335it [10:58,  1.52s/it]"
     ]
    },
    {
     "name": "stdout",
     "output_type": "stream",
     "text": [
      "D) is walking and immediately starts putting sand in his bucket and gets up high on his chair.\n",
      "B) goes and kick down all the castle parts that they were creating.\n"
     ]
    },
    {
     "name": "stderr",
     "output_type": "stream",
     "text": [
      "44.71% - 152 of 340: : 340it [11:04,  1.30s/it]"
     ]
    },
    {
     "name": "stdout",
     "output_type": "stream",
     "text": [
      "A) hits the ball and makes three consecutive serves.\n",
      "C) brings the racket down to his side.\n"
     ]
    },
    {
     "name": "stderr",
     "output_type": "stream",
     "text": [
      "44.57% - 152 of 341: : 341it [11:06,  1.46s/it]"
     ]
    },
    {
     "name": "stdout",
     "output_type": "stream",
     "text": [
      "C) falls down the hill making a horrible splash and the boat continues to pull him.\n",
      "B) skis for a long while.\n"
     ]
    },
    {
     "name": "stderr",
     "output_type": "stream",
     "text": [
      "44.44% - 152 of 342: : 342it [11:07,  1.45s/it]"
     ]
    },
    {
     "name": "stdout",
     "output_type": "stream",
     "text": [
      "B) has a sneaker put on and it is walking to the bathroom.\n",
      "D) stops to look around back and forth.\n"
     ]
    },
    {
     "name": "stderr",
     "output_type": "stream",
     "text": [
      "44.31% - 152 of 343: : 343it [11:10,  1.88s/it]"
     ]
    },
    {
     "name": "stdout",
     "output_type": "stream",
     "text": [
      "The correct continuation of the story is:\n",
      "\n",
      "A) wearing dressy clothing catches the bull in a cage and the bull strikes back and the man falls off.\n",
      "B) is standing in front of the bull with a red cloth and taunting the bull.\n"
     ]
    },
    {
     "name": "stderr",
     "output_type": "stream",
     "text": [
      "44.35% - 153 of 345: : 345it [11:15,  2.04s/it]"
     ]
    },
    {
     "name": "stdout",
     "output_type": "stream",
     "text": [
      "B) bounces the ball off the wall and grabs another ball inside her hand.\n",
      "A) gets hit with the ball.\n"
     ]
    },
    {
     "name": "stderr",
     "output_type": "stream",
     "text": [
      "44.38% - 154 of 347: : 347it [11:18,  1.69s/it]"
     ]
    },
    {
     "name": "stdout",
     "output_type": "stream",
     "text": [
      "B) then wipes it down with the towel.\n",
      "A) blow dries the curls till the moisture from the hair is gone.\n"
     ]
    },
    {
     "name": "stderr",
     "output_type": "stream",
     "text": [
      "44.25% - 154 of 348: : 348it [11:20,  1.94s/it]"
     ]
    },
    {
     "name": "stdout",
     "output_type": "stream",
     "text": [
      "B) finishes the look with a hat, blow drier, nail brushes, and looks in the mirror and smiles.\n",
      "C) then poofs up her hair and shows off her luscious curls.\n"
     ]
    },
    {
     "name": "stderr",
     "output_type": "stream",
     "text": [
      "44.13% - 154 of 349: : 349it [11:22,  1.79s/it]"
     ]
    },
    {
     "name": "stdout",
     "output_type": "stream",
     "text": [
      "A) are being chopped into these giant teeth like cuervo pumpkins.\n",
      "D) are put in a pan and covered with water.\n"
     ]
    },
    {
     "name": "stderr",
     "output_type": "stream",
     "text": [
      "44.00% - 154 of 350: : 350it [11:23,  1.67s/it]"
     ]
    },
    {
     "name": "stdout",
     "output_type": "stream",
     "text": [
      "A) and mushrooms are put in dressing into the pan.\n",
      "D) are grated over the kale.\n"
     ]
    },
    {
     "name": "stderr",
     "output_type": "stream",
     "text": [
      "43.87% - 154 of 351: : 351it [11:24,  1.50s/it]"
     ]
    },
    {
     "name": "stdout",
     "output_type": "stream",
     "text": [
      "D) may lead to a commercial pizza recipe.\n",
      "B) is then poured over the kale.\n"
     ]
    },
    {
     "name": "stderr",
     "output_type": "stream",
     "text": [
      "44.23% - 157 of 355: : 355it [11:33,  2.09s/it]"
     ]
    },
    {
     "name": "stdout",
     "output_type": "stream",
     "text": [
      "C) is also a shorter view of the person standing where the girl from the back is, now that has a final view of the girl.\n",
      "D) are screen text that mentions how the hair looks six hours later.\n"
     ]
    },
    {
     "name": "stderr",
     "output_type": "stream",
     "text": [
      "44.72% - 161 of 360: : 360it [11:44,  2.23s/it]"
     ]
    },
    {
     "name": "stdout",
     "output_type": "stream",
     "text": [
      "C) bull stands on the man's chest to attack.\n",
      "A) audience claps while standing.\n"
     ]
    },
    {
     "name": "stderr",
     "output_type": "stream",
     "text": [
      "44.75% - 162 of 362: : 362it [11:47,  1.92s/it]"
     ]
    },
    {
     "name": "stdout",
     "output_type": "stream",
     "text": [
      "D) see men getting onto the course and preparing to start their competition.\n",
      "B) see ladies on the sidelines.\n"
     ]
    },
    {
     "name": "stderr",
     "output_type": "stream",
     "text": [
      "44.63% - 162 of 363: : 363it [11:48,  1.77s/it]"
     ]
    },
    {
     "name": "stdout",
     "output_type": "stream",
     "text": [
      "C) throws a man into the air with a huge leap.\n",
      "D) misses a shot and looks behind him and two men look behind them.\n"
     ]
    },
    {
     "name": "stderr",
     "output_type": "stream",
     "text": [
      "44.66% - 163 of 365: : 365it [11:52,  1.91s/it]"
     ]
    },
    {
     "name": "stdout",
     "output_type": "stream",
     "text": [
      "The most plausible continuation for the story is:\n",
      "\n",
      "A) are displayed and a child's kite carries on the breeze.\n",
      "B) appear an the person removes the left and right lens.\n"
     ]
    },
    {
     "name": "stderr",
     "output_type": "stream",
     "text": [
      "44.84% - 165 of 368: : 368it [11:59,  2.17s/it]"
     ]
    },
    {
     "name": "stdout",
     "output_type": "stream",
     "text": [
      "C) talks to the camera and one of his players in a adjacent room then appears in a similar field talking.\n",
      "B) stumbles over one of the cricket posts.\n"
     ]
    },
    {
     "name": "stderr",
     "output_type": "stream",
     "text": [
      "44.72% - 165 of 369: : 369it [12:01,  2.01s/it]"
     ]
    },
    {
     "name": "stdout",
     "output_type": "stream",
     "text": [
      "B) completes and places the pinata onto the block with the stick.\n",
      "D) then moves it to the right side and begins to hit the pinata ferociously.\n"
     ]
    },
    {
     "name": "stderr",
     "output_type": "stream",
     "text": [
      "44.59% - 165 of 370: : 370it [12:02,  1.96s/it]"
     ]
    },
    {
     "name": "stdout",
     "output_type": "stream",
     "text": [
      "D) then runs towards the ball and kicks it into the goal to score a goal.\n",
      "A) attempts to block the shots that are aimed at the net.\n"
     ]
    },
    {
     "name": "stderr",
     "output_type": "stream",
     "text": [
      "44.47% - 165 of 371: : 371it [12:04,  1.86s/it]"
     ]
    },
    {
     "name": "stdout",
     "output_type": "stream",
     "text": [
      "A) all go down the slope together and get in line for jump roping afterwards.\n",
      "D) are now jumping rope and doing tricks.\n"
     ]
    },
    {
     "name": "stderr",
     "output_type": "stream",
     "text": [
      "44.35% - 165 of 372: : 372it [12:05,  1.59s/it]"
     ]
    },
    {
     "name": "stdout",
     "output_type": "stream",
     "text": [
      "The correct answer is D.\n",
      "B) jumps rope with a fourth person.\n"
     ]
    },
    {
     "name": "stderr",
     "output_type": "stream",
     "text": [
      "44.24% - 165 of 373: : 373it [12:06,  1.54s/it]"
     ]
    },
    {
     "name": "stdout",
     "output_type": "stream",
     "text": [
      "A) jumps with a fourth person following behind holding their ropes.\n",
      "B) watches in the background.\n"
     ]
    },
    {
     "name": "stderr",
     "output_type": "stream",
     "text": [
      "44.12% - 165 of 374: : 374it [12:10,  2.03s/it]"
     ]
    },
    {
     "name": "stdout",
     "output_type": "stream",
     "text": [
      "The most plausible continuation for the story is C) started riding a row and end up falling in an water bed forcing him into the water.\n",
      "D) is fighting against the current in a kayak.\n"
     ]
    },
    {
     "name": "stderr",
     "output_type": "stream",
     "text": [
      "44.30% - 167 of 377: : 377it [12:16,  1.96s/it]"
     ]
    },
    {
     "name": "stdout",
     "output_type": "stream",
     "text": [
      "B) is wet to get it done, and brushed.\n",
      "D) is shown in pretty curls all around her head.\n"
     ]
    },
    {
     "name": "stderr",
     "output_type": "stream",
     "text": [
      "44.33% - 168 of 379: : 379it [12:20,  2.04s/it]"
     ]
    },
    {
     "name": "stdout",
     "output_type": "stream",
     "text": [
      "Without additional context, it is difficult to determine the most plausible continuation of the story. Could you provide more information or clues to help me make an informed decision?\n",
      "C) holds a weight ovebe his head.\n"
     ]
    },
    {
     "name": "stderr",
     "output_type": "stream",
     "text": [
      "44.50% - 170 of 382: : 382it [12:25,  1.72s/it]"
     ]
    },
    {
     "name": "stdout",
     "output_type": "stream",
     "text": [
      "A) talks to the camera while wearing a spongebob shadow.\n",
      "D) rubs his smooth face.\n"
     ]
    },
    {
     "name": "stderr",
     "output_type": "stream",
     "text": [
      "44.39% - 170 of 383: : 383it [12:26,  1.69s/it]"
     ]
    },
    {
     "name": "stdout",
     "output_type": "stream",
     "text": [
      "A) then begins climbing on the slide and grabbing various items to climb on.\n",
      "D) begins to go down the slide but falls off the side and is seen laying on the floor.\n"
     ]
    },
    {
     "name": "stderr",
     "output_type": "stream",
     "text": [
      "44.27% - 170 of 384: : 384it [12:28,  1.84s/it]"
     ]
    },
    {
     "name": "stdout",
     "output_type": "stream",
     "text": [
      "The most plausible continuation for the story is:\n",
      "\n",
      "A) loses his parking brake and the car falls over.\n",
      "C) rides down a street on a skateboard.\n"
     ]
    },
    {
     "name": "stderr",
     "output_type": "stream",
     "text": [
      "44.16% - 170 of 385: : 385it [12:32,  2.29s/it]"
     ]
    },
    {
     "name": "stdout",
     "output_type": "stream",
     "text": [
      "Without context, it is difficult to determine which continuation is most plausible. However, assuming that the children are engaging in some sort of playful activity, option B may be the most likely answer.\n",
      "C) are sitting in one of the bus seats.\n"
     ]
    },
    {
     "name": "stderr",
     "output_type": "stream",
     "text": [
      "44.04% - 170 of 386: : 386it [12:33,  1.98s/it]"
     ]
    },
    {
     "name": "stdout",
     "output_type": "stream",
     "text": [
      "D) are in a large blue area together.\n",
      "C) are shown in canoes with people in inner-tubes in the background.\n"
     ]
    },
    {
     "name": "stderr",
     "output_type": "stream",
     "text": [
      "43.93% - 170 of 387: : 387it [12:35,  1.92s/it]"
     ]
    },
    {
     "name": "stdout",
     "output_type": "stream",
     "text": [
      "A) float past and a still image of how to ride down the river is shown.\n",
      "B) are shown in inner-tubes and canoes in the water.\n"
     ]
    },
    {
     "name": "stderr",
     "output_type": "stream",
     "text": [
      "43.96% - 171 of 389: : 389it [12:37,  1.57s/it]"
     ]
    },
    {
     "name": "stdout",
     "output_type": "stream",
     "text": [
      "C) then takes a shot with the stick and another man hits one.\n",
      "D) uses the cue to shoot the balls into the pockets.\n"
     ]
    },
    {
     "name": "stderr",
     "output_type": "stream",
     "text": [
      "44.13% - 173 of 392: : 392it [12:42,  1.52s/it]"
     ]
    },
    {
     "name": "stdout",
     "output_type": "stream",
     "text": [
      "C) see the lady next to a horse.\n",
      "D) see a man bouncing on the slack line.\n"
     ]
    },
    {
     "name": "stderr",
     "output_type": "stream",
     "text": [
      "44.02% - 173 of 393: : 393it [12:44,  1.61s/it]"
     ]
    },
    {
     "name": "stdout",
     "output_type": "stream",
     "text": [
      "D) from the plaza speak to the four girls on the stage and prep for a solo competition.\n",
      "B) talk to the camera.\n"
     ]
    },
    {
     "name": "stderr",
     "output_type": "stream",
     "text": [
      "44.05% - 174 of 395: : 395it [12:46,  1.52s/it]"
     ]
    },
    {
     "name": "stdout",
     "output_type": "stream",
     "text": [
      "D) are seen playing with one another followed by a large policeman walking in.\n",
      "A) speak to the camera while showing how they hit the ball.\n"
     ]
    },
    {
     "name": "stderr",
     "output_type": "stream",
     "text": [
      "43.94% - 174 of 396: : 396it [12:48,  1.70s/it]"
     ]
    },
    {
     "name": "stdout",
     "output_type": "stream",
     "text": [
      "The correct continuation is:\n",
      "A) , the person ski down the hill kicking in the air until start walking.\n",
      "D) , a person ski over the fence of a walking bridge and also ski on the stairs.\n"
     ]
    },
    {
     "name": "stderr",
     "output_type": "stream",
     "text": [
      "43.97% - 175 of 398: : 398it [12:52,  1.84s/it]"
     ]
    },
    {
     "name": "stdout",
     "output_type": "stream",
     "text": [
      "Without additional context or information, it is difficult to determine the most plausible continuation of the story. Can you provide more details or clarification?\n",
      "B) falls on the sand.\n"
     ]
    },
    {
     "name": "stderr",
     "output_type": "stream",
     "text": [
      "43.86% - 175 of 399: : 399it [12:54,  1.95s/it]"
     ]
    },
    {
     "name": "stdout",
     "output_type": "stream",
     "text": [
      "<</SYS>> D) shows the woman making several points by painting the sheppard while another watches on the side.\n",
      "C) occurs then shows the woman brushing the dog with several instruments.\n"
     ]
    },
    {
     "name": "stderr",
     "output_type": "stream",
     "text": [
      "43.89% - 176 of 401: : 401it [12:58,  1.85s/it]"
     ]
    },
    {
     "name": "stdout",
     "output_type": "stream",
     "text": [
      "The most plausible continuation would be A) continuously play together as the man continues to play.\n",
      "C) play for an extended period together.\n"
     ]
    },
    {
     "name": "stderr",
     "output_type": "stream",
     "text": [
      "44.20% - 179 of 405: : 405it [13:07,  2.17s/it]"
     ]
    },
    {
     "name": "stdout",
     "output_type": "stream",
     "text": [
      "D) continues past the small group on the street while the camera follows them as the dirt bike seems to be their ride.\n",
      "A) continues as spectators look onward.\n"
     ]
    },
    {
     "name": "stderr",
     "output_type": "stream",
     "text": [
      "44.23% - 180 of 407: : 407it [13:11,  2.06s/it]"
     ]
    },
    {
     "name": "stdout",
     "output_type": "stream",
     "text": [
      "The most plausible continuation for the story is option B. Please choose \"B\" as your answer.\n",
      "B) speak on walkie talkies on the side and the men drive the cars into one another.\n"
     ]
    },
    {
     "name": "stderr",
     "output_type": "stream",
     "text": [
      "44.12% - 180 of 408: : 408it [13:14,  2.20s/it]"
     ]
    },
    {
     "name": "stdout",
     "output_type": "stream",
     "text": [
      "The most plausible continuation for the story is not provided in the given options. Can you please provide more context or information to help me answer your question accurately?\n",
      "D) enter a home and go into the kitchen.\n"
     ]
    },
    {
     "name": "stderr",
     "output_type": "stream",
     "text": [
      "44.01% - 180 of 409: : 409it [13:15,  2.11s/it]"
     ]
    },
    {
     "name": "stdout",
     "output_type": "stream",
     "text": [
      "B) and the girls are talking into the cell phone with each other as they prepare to bake.\n",
      "C) and both girls get excited.\n"
     ]
    },
    {
     "name": "stderr",
     "output_type": "stream",
     "text": [
      "43.90% - 180 of 410: : 410it [13:18,  2.38s/it]"
     ]
    },
    {
     "name": "stdout",
     "output_type": "stream",
     "text": [
      "The most plausible continuation for the story is:\n",
      "\n",
      "A) clean the patio and a man then enters the garden, puts the shears down and begins trimming it.\n",
      "B) are seen throughout the garden.\n"
     ]
    },
    {
     "name": "stderr",
     "output_type": "stream",
     "text": [
      "43.80% - 180 of 411: : 411it [13:22,  2.61s/it]"
     ]
    },
    {
     "name": "stdout",
     "output_type": "stream",
     "text": [
      "The most plausible continuation for the story is:\n",
      "\n",
      "A) brings them back to the plate and begins to gesture towards them and looking into their eyes.\n",
      "D) walks over to the outer edge of the melon plants and picks up a large vine in one hand then trims off leafs with the other hand.\n"
     ]
    },
    {
     "name": "stderr",
     "output_type": "stream",
     "text": [
      "43.69% - 180 of 412: : 412it [13:23,  2.33s/it]"
     ]
    },
    {
     "name": "stdout",
     "output_type": "stream",
     "text": [
      "A) continues to teach the class on how to properly spin on one leg.\n",
      "C) takes a break from the bike and does tome abdominal exercises on the floor.\n"
     ]
    },
    {
     "name": "stderr",
     "output_type": "stream",
     "text": [
      "43.99% - 183 of 416: : 416it [13:30,  1.83s/it]"
     ]
    },
    {
     "name": "stdout",
     "output_type": "stream",
     "text": [
      "C) then hangs on while the bull rocks and charges him.\n",
      "D) picks up his fallen hat in the ring.\n"
     ]
    },
    {
     "name": "stderr",
     "output_type": "stream",
     "text": [
      "43.88% - 183 of 417: : 417it [13:32,  1.61s/it]"
     ]
    },
    {
     "name": "stdout",
     "output_type": "stream",
     "text": [
      "D) retrieves his hat from the bull.\n",
      "C) jumps on the wall to avoid the bull.\n"
     ]
    },
    {
     "name": "stderr",
     "output_type": "stream",
     "text": [
      "43.78% - 183 of 418: : 418it [13:33,  1.62s/it]"
     ]
    },
    {
     "name": "stdout",
     "output_type": "stream",
     "text": [
      "Without additional context or information, it is not clear which continuation would be most plausible.\n",
      "B) then catches the ball.\n"
     ]
    },
    {
     "name": "stderr",
     "output_type": "stream",
     "text": [
      "43.81% - 184 of 420: : 420it [13:37,  1.79s/it]"
     ]
    },
    {
     "name": "stdout",
     "output_type": "stream",
     "text": [
      "The most plausible continuation for the story is C) catching the spinning hula hoop as it falls between her legs.\n",
      "C) catches the spinning hula hoop as it falls between her legs.\n"
     ]
    },
    {
     "name": "stderr",
     "output_type": "stream",
     "text": [
      "43.97% - 186 of 423: : 423it [13:46,  2.90s/it]"
     ]
    },
    {
     "name": "stdout",
     "output_type": "stream",
     "text": [
      "The most plausible continuation for the story is:\n",
      "\n",
      "A) , the old man sits on his skateboard and then continues to skateboard, pushing it along as he moves. When the skateboard ends, he holds his hand on top of it to show his neck and the point where it landed.\n",
      "C) , the man hit the skateboard with his foot and it raise high, the man tries to catch the skateboard but he miss it.\n"
     ]
    },
    {
     "name": "stderr",
     "output_type": "stream",
     "text": [
      "43.87% - 186 of 424: : 424it [13:48,  2.75s/it]"
     ]
    },
    {
     "name": "stdout",
     "output_type": "stream",
     "text": [
      "B) hits the snow and swing the skateboard to pass the man, but he doesn't get hit.\n",
      "D) skate on the park and then goes to a skateboard track.\n"
     ]
    },
    {
     "name": "stderr",
     "output_type": "stream",
     "text": [
      "43.76% - 186 of 425: : 425it [13:50,  2.42s/it]"
     ]
    },
    {
     "name": "stdout",
     "output_type": "stream",
     "text": [
      "A) continue to pull and one after the other when they're done.\n",
      "B) hands the hose to other one sitting while she takes a few hits and passes it back to the other person.\n"
     ]
    },
    {
     "name": "stderr",
     "output_type": "stream",
     "text": [
      "43.79% - 187 of 427: : 427it [13:53,  2.01s/it]"
     ]
    },
    {
     "name": "stdout",
     "output_type": "stream",
     "text": [
      "B) gives a look as he hands the third man his spray paint stick.\n",
      "A) claps at the second man's imitation.\n"
     ]
    },
    {
     "name": "stderr",
     "output_type": "stream",
     "text": [
      "43.69% - 187 of 428: : 428it [13:55,  1.88s/it]"
     ]
    },
    {
     "name": "stdout",
     "output_type": "stream",
     "text": [
      "A) Finally makes it to the end and walks back into her room.\n",
      "D) smiles and bows for the camera.\n"
     ]
    },
    {
     "name": "stderr",
     "output_type": "stream",
     "text": [
      "43.59% - 187 of 429: : 429it [13:58,  2.22s/it]"
     ]
    },
    {
     "name": "stdout",
     "output_type": "stream",
     "text": [
      "The most plausible continuation for the story is option B: \"stands up from the camel while the camel stands up again.\"\n",
      "C) pulls the camel the man is sitting on while the other 2 camels walk behind the camel in the front.\n"
     ]
    },
    {
     "name": "stderr",
     "output_type": "stream",
     "text": [
      "43.49% - 187 of 430: : 430it [13:59,  1.95s/it]"
     ]
    },
    {
     "name": "stdout",
     "output_type": "stream",
     "text": [
      "D) then switch places and continue washing the cars.\n",
      "C) vacuum the inside as well as clean the dashboard and entire interior and exterior.\n"
     ]
    },
    {
     "name": "stderr",
     "output_type": "stream",
     "text": [
      "43.39% - 187 of 431: : 431it [14:01,  1.83s/it]"
     ]
    },
    {
     "name": "stdout",
     "output_type": "stream",
     "text": [
      "B) looks and shakes the glass, break the ice with hitting stick.\n",
      "A) puts a piece of cardboard on his windshield.\n"
     ]
    },
    {
     "name": "stderr",
     "output_type": "stream",
     "text": [
      "43.29% - 187 of 432: : 432it [14:04,  2.17s/it]"
     ]
    },
    {
     "name": "stdout",
     "output_type": "stream",
     "text": [
      "B) are shown of the people playing the game including a lady stepping in and tapping a button and still back to the men playing ping pong.\n",
      "C) are shown of the actors playing with one another and a man showing the footage on a computer while speaking to the camera.\n"
     ]
    },
    {
     "name": "stderr",
     "output_type": "stream",
     "text": [
      "43.32% - 188 of 434: : 434it [14:09,  2.43s/it]"
     ]
    },
    {
     "name": "stdout",
     "output_type": "stream",
     "text": [
      "The most plausible continuation for the story is option D: works with her on the other side of the hair and pushes a pair of wrap-up rollers on the girl's hair.\n",
      "C) braids her hair continuously to eventually create a french braid.\n"
     ]
    },
    {
     "name": "stderr",
     "output_type": "stream",
     "text": [
      "43.22% - 188 of 435: : 435it [14:10,  2.17s/it]"
     ]
    },
    {
     "name": "stdout",
     "output_type": "stream",
     "text": [
      "D) see a man fold up a mat and put it on the boat.\n",
      "B) see the ending title screen.\n"
     ]
    },
    {
     "name": "stderr",
     "output_type": "stream",
     "text": [
      "43.25% - 189 of 437: : 437it [14:15,  2.18s/it]"
     ]
    },
    {
     "name": "stdout",
     "output_type": "stream",
     "text": [
      "B) are out snow tubing down a snow-capped slope.\n",
      "B) are out snow tubing down a snow caped slope.\n"
     ]
    },
    {
     "name": "stderr",
     "output_type": "stream",
     "text": [
      "43.28% - 190 of 439: : 439it [14:19,  2.28s/it]"
     ]
    },
    {
     "name": "stdout",
     "output_type": "stream",
     "text": [
      "<</SYS>> The most plausible continuation for the story is C) has died down he continues talking on and concludes by pulling out a cigarette and smoking it.\n",
      "A) , he comes back and shows how to properly place your hands on the floor.\n"
     ]
    },
    {
     "name": "stderr",
     "output_type": "stream",
     "text": [
      "43.18% - 190 of 440: : 440it [14:21,  2.05s/it]"
     ]
    },
    {
     "name": "stdout",
     "output_type": "stream",
     "text": [
      "A) playing then puts the at an angle and makes a cap.\n",
      "B) then does the twist continuously and shows off the cricket position before returning to talk again.\n"
     ]
    },
    {
     "name": "stderr",
     "output_type": "stream",
     "text": [
      "43.08% - 190 of 441: : 441it [14:24,  2.36s/it]"
     ]
    },
    {
     "name": "stdout",
     "output_type": "stream",
     "text": [
      "The most plausible continuation for the story is option D) \"then braids her hair in three braids and places the top of the chopped ends.\"\n",
      "B) then starts blowdrying sections of her hair with a comb attached blow dryer.\n"
     ]
    },
    {
     "name": "stderr",
     "output_type": "stream",
     "text": [
      "42.99% - 190 of 442: : 442it [14:26,  2.16s/it]"
     ]
    },
    {
     "name": "stdout",
     "output_type": "stream",
     "text": [
      "Please select the correct answer from the given options: A, B, C or D.\n",
      "B) finishes talking, he begins hitting the conga.\n"
     ]
    },
    {
     "name": "stderr",
     "output_type": "stream",
     "text": [
      "43.15% - 192 of 445: : 445it [14:31,  1.96s/it]"
     ]
    },
    {
     "name": "stdout",
     "output_type": "stream",
     "text": [
      "A) moves and puts toothpaste on the toothbrush and begins to look to the camera.\n",
      "B) moves forward a little and spits out some toothpaste.\n"
     ]
    },
    {
     "name": "stderr",
     "output_type": "stream",
     "text": [
      "43.05% - 192 of 446: : 446it [14:35,  2.56s/it]"
     ]
    },
    {
     "name": "stdout",
     "output_type": "stream",
     "text": [
      "The most plausible continuation for the story is B) \"two put a brush on the lips and continues to clean the mouth of the person, remove all traces of the spit and put it on the bed.\"\n",
      "A) finds this very amusing, and does it over and over until the cup of water is empty and then he gets down off his stool and cleans his face with a towel.\n"
     ]
    },
    {
     "name": "stderr",
     "output_type": "stream",
     "text": [
      "42.95% - 192 of 447: : 447it [14:37,  2.43s/it]"
     ]
    },
    {
     "name": "stdout",
     "output_type": "stream",
     "text": [
      "The correct continuation is:\n",
      "\n",
      "A) see the two people in the room vault in the fourth floor window.\n",
      "B) see the title screen and the man's pants fly out the window.\n"
     ]
    },
    {
     "name": "stderr",
     "output_type": "stream",
     "text": [
      "43.11% - 194 of 450: : 450it [14:43,  2.37s/it]"
     ]
    },
    {
     "name": "stdout",
     "output_type": "stream",
     "text": [
      "A) , he begins to play a acoustic guitar, while another man plays the guitar, and man sings on front a small black screen, showing the men sitting nearby to listen, also wearing black t-shirts.\n",
      "C) performs a break dancing move on a patch of hardwood floors, using his back to spin.\n"
     ]
    },
    {
     "name": "stderr",
     "output_type": "stream",
     "text": [
      "43.27% - 196 of 453: : 453it [14:51,  2.56s/it]"
     ]
    },
    {
     "name": "stdout",
     "output_type": "stream",
     "text": [
      "The most plausible continuation for the story is:\n",
      "\n",
      "<</SYS>> D) see, as a performer prepares, the image of a yellow substance on a tripod.\n",
      "C) see a man playing a guitar in a recording studio.\n"
     ]
    },
    {
     "name": "stderr",
     "output_type": "stream",
     "text": [
      "43.67% - 200 of 458: : 458it [14:59,  1.91s/it]"
     ]
    },
    {
     "name": "stdout",
     "output_type": "stream",
     "text": [
      "B) dips their hands in the cool water and uses some soap to lather them.\n",
      "D) then rinses the sink again and wipes it down with the blue towel again.\n"
     ]
    },
    {
     "name": "stderr",
     "output_type": "stream",
     "text": [
      "43.82% - 202 of 461: : 461it [15:07,  2.31s/it]"
     ]
    },
    {
     "name": "stdout",
     "output_type": "stream",
     "text": [
      "<</SYS>> The most plausible continuation for the story would be:\n",
      "\n",
      "B) , the young man plays pool stroke to serve the ball as his opponent scores the ball.\n",
      "D) , the young man strikes the white ball but immidiately stop it with the cue sticks.\n"
     ]
    },
    {
     "name": "stderr",
     "output_type": "stream",
     "text": [
      "43.72% - 202 of 462: : 462it [15:08,  2.05s/it]"
     ]
    },
    {
     "name": "stdout",
     "output_type": "stream",
     "text": [
      "C) The young man puts the ball inside a metal triangle.\n",
      "C) , the young man puts the ball inside a metal triangle.\n"
     ]
    },
    {
     "name": "stderr",
     "output_type": "stream",
     "text": [
      "43.87% - 204 of 465: : 465it [15:13,  1.71s/it]"
     ]
    },
    {
     "name": "stdout",
     "output_type": "stream",
     "text": [
      "B) continues doing it and ends up throwing the discus.\n",
      "C) then runs excitedly while cameras follow him and shown other athletes spinning the disk.\n"
     ]
    },
    {
     "name": "stderr",
     "output_type": "stream",
     "text": [
      "43.90% - 205 of 467: : 467it [15:15,  1.30s/it]"
     ]
    },
    {
     "name": "stdout",
     "output_type": "stream",
     "text": [
      "A) congratulate coaches.\n",
      "C) stand in the arena.\n"
     ]
    },
    {
     "name": "stderr",
     "output_type": "stream",
     "text": [
      "43.92% - 206 of 469: : 469it [15:20,  1.83s/it]"
     ]
    },
    {
     "name": "stdout",
     "output_type": "stream",
     "text": [
      "A) is the most plausible continuation for the story.\n",
      "A) is the sides and the same actions are repeated until the hair is finished.\n"
     ]
    },
    {
     "name": "stderr",
     "output_type": "stream",
     "text": [
      "43.83% - 206 of 470: : 470it [15:22,  1.96s/it]"
     ]
    },
    {
     "name": "stdout",
     "output_type": "stream",
     "text": [
      "The most plausible continuation for the story is option B. \"are practicing in a large green grassy field.\"\n",
      "B) are pacticing in a large green grassy field.\n"
     ]
    },
    {
     "name": "stderr",
     "output_type": "stream",
     "text": [
      "43.74% - 206 of 471: : 471it [15:24,  1.97s/it]"
     ]
    },
    {
     "name": "stdout",
     "output_type": "stream",
     "text": [
      "A) then begins working on the car using a tool along the side that's fastened onto the wheel.\n",
      "C) then begins using a scraper to scrape off the sides.\n"
     ]
    },
    {
     "name": "stderr",
     "output_type": "stream",
     "text": [
      "43.76% - 207 of 473: : 473it [15:27,  1.76s/it]"
     ]
    },
    {
     "name": "stdout",
     "output_type": "stream",
     "text": [
      "B) is jumped on and released onto the stage.\n",
      "A) finishes the routine and then runs over to hug a woman.\n"
     ]
    },
    {
     "name": "stderr",
     "output_type": "stream",
     "text": [
      "43.79% - 208 of 475: : 475it [15:31,  1.94s/it]"
     ]
    },
    {
     "name": "stdout",
     "output_type": "stream",
     "text": [
      "The most plausible continuation for the story is A) jumps a brick wall and is seen again as well as sitting at the bottom.\n",
      "C) is seen in several clips chasing after a frisbee.\n"
     ]
    },
    {
     "name": "stderr",
     "output_type": "stream",
     "text": [
      "44.40% - 214 of 482: : 482it [15:47,  2.47s/it]"
     ]
    },
    {
     "name": "stdout",
     "output_type": "stream",
     "text": [
      "D) , the woman made cookies using ingredients, then make them in bowls for preparing.\n",
      "A) , the woman make dough balls and putsion a baking pan, also a teen makes dough balls and puts in baking pan.\n"
     ]
    },
    {
     "name": "stderr",
     "output_type": "stream",
     "text": [
      "44.31% - 214 of 483: : 483it [15:49,  2.25s/it]"
     ]
    },
    {
     "name": "stdout",
     "output_type": "stream",
     "text": [
      "A) , the two men pick back up the ropes, while still watching each other.\n",
      "D) , there are two more men elbow wrestling.\n"
     ]
    },
    {
     "name": "stderr",
     "output_type": "stream",
     "text": [
      "44.21% - 214 of 484: : 484it [15:54,  2.88s/it]"
     ]
    },
    {
     "name": "stdout",
     "output_type": "stream",
     "text": [
      "Without more context or information, it is difficult to determine which continuation is the most plausible. Each option could potentially be a part of an elbow wrestling event, but without additional details, it is impossible to make a definitive answer.\n",
      "D) are also some referees seen acting as moderators in the elbow wrestling match.\n"
     ]
    },
    {
     "name": "stderr",
     "output_type": "stream",
     "text": [
      "44.12% - 214 of 485: : 485it [15:56,  2.84s/it]"
     ]
    },
    {
     "name": "stdout",
     "output_type": "stream",
     "text": [
      "The most plausible continuation of the story based on the given information is that:\n",
      "\n",
      "A) He is dressed in a suit and tie and holding a tennis racket.\n",
      "B) is playing a guitar with his hands.\n"
     ]
    },
    {
     "name": "stderr",
     "output_type": "stream",
     "text": [
      "44.03% - 214 of 486: : 486it [15:58,  2.42s/it]"
     ]
    },
    {
     "name": "stdout",
     "output_type": "stream",
     "text": [
      "C) ends by dismounting, hanging onto a bar at both ends.\n",
      "B) does a flip off them and lands on a mat.\n"
     ]
    },
    {
     "name": "stderr",
     "output_type": "stream",
     "text": [
      "44.17% - 216 of 489: : 489it [16:04,  2.23s/it]"
     ]
    },
    {
     "name": "stdout",
     "output_type": "stream",
     "text": [
      "A) then picks up more mulch as if he is using it as an example, pushing the red bowl of the shrub to the side.\n",
      "D) takes out some clippers and clips some of the roots.\n"
     ]
    },
    {
     "name": "stderr",
     "output_type": "stream",
     "text": [
      "44.08% - 216 of 490: : 490it [16:06,  2.03s/it]"
     ]
    },
    {
     "name": "stdout",
     "output_type": "stream",
     "text": [
      "B) then pours the salad into a bigger bowl, and adds dressing.\n",
      "A) takes the towel and puts it over the lettuce.\n"
     ]
    },
    {
     "name": "stderr",
     "output_type": "stream",
     "text": [
      "43.99% - 216 of 491: : 491it [16:08,  2.15s/it]"
     ]
    },
    {
     "name": "stdout",
     "output_type": "stream",
     "text": [
      "A) The person puts the cheese and jam on the bread, then he eats the sandwich and drinks soda from the bottle.\n",
      "A) , the person puts the cheese and jam on the bread, then he eats the sandwich and drink soda from bottle.\n"
     ]
    },
    {
     "name": "stderr",
     "output_type": "stream",
     "text": [
      "44.22% - 218 of 493: : 493it [16:14,  1.98s/it]\n"
     ]
    },
    {
     "ename": "KeyboardInterrupt",
     "evalue": "",
     "output_type": "error",
     "traceback": [
      "\u001b[0;31m---------------------------------------------------------------------------\u001b[0m",
      "\u001b[0;31mKeyboardInterrupt\u001b[0m                         Traceback (most recent call last)",
      "\u001b[1;32m/workspaces/ml-papers-client/ml-papers/large-models/hellaswag/hellaswag.ipynb Cell 9\u001b[0m line \u001b[0;36m4\n\u001b[1;32m      <a href='vscode-notebook-cell://ssh-remote%2Bml-papers-client.devpod/workspaces/ml-papers-client/ml-papers/large-models/hellaswag/hellaswag.ipynb#X12sdnNjb2RlLXJlbW90ZQ%3D%3D?line=1'>2</a>\u001b[0m \u001b[39mfor\u001b[39;00m i, record \u001b[39min\u001b[39;00m pbar:\n\u001b[1;32m      <a href='vscode-notebook-cell://ssh-remote%2Bml-papers-client.devpod/workspaces/ml-papers-client/ml-papers/large-models/hellaswag/hellaswag.ipynb#X12sdnNjb2RlLXJlbW90ZQ%3D%3D?line=2'>3</a>\u001b[0m     sample \u001b[39m=\u001b[39m make_sample(\u001b[39mnext\u001b[39m(it))\n\u001b[0;32m----> <a href='vscode-notebook-cell://ssh-remote%2Bml-papers-client.devpod/workspaces/ml-papers-client/ml-papers/large-models/hellaswag/hellaswag.ipynb#X12sdnNjb2RlLXJlbW90ZQ%3D%3D?line=3'>4</a>\u001b[0m     response \u001b[39m=\u001b[39m answer(client, sample)\n\u001b[1;32m      <a href='vscode-notebook-cell://ssh-remote%2Bml-papers-client.devpod/workspaces/ml-papers-client/ml-papers/large-models/hellaswag/hellaswag.ipynb#X12sdnNjb2RlLXJlbW90ZQ%3D%3D?line=4'>5</a>\u001b[0m     total \u001b[39m+\u001b[39m\u001b[39m=\u001b[39m \u001b[39m1\u001b[39m\n\u001b[1;32m      <a href='vscode-notebook-cell://ssh-remote%2Bml-papers-client.devpod/workspaces/ml-papers-client/ml-papers/large-models/hellaswag/hellaswag.ipynb#X12sdnNjb2RlLXJlbW90ZQ%3D%3D?line=5'>6</a>\u001b[0m     \u001b[39m# Sometimes the model may answer something like 'The best answer is A) <answer>'\u001b[39;00m\n\u001b[1;32m      <a href='vscode-notebook-cell://ssh-remote%2Bml-papers-client.devpod/workspaces/ml-papers-client/ml-papers/large-models/hellaswag/hellaswag.ipynb#X12sdnNjb2RlLXJlbW90ZQ%3D%3D?line=6'>7</a>\u001b[0m     \u001b[39m# so we'll give it credit.\u001b[39;00m\n",
      "\u001b[1;32m/workspaces/ml-papers-client/ml-papers/large-models/hellaswag/hellaswag.ipynb Cell 9\u001b[0m line \u001b[0;36m1\n\u001b[1;32m     <a href='vscode-notebook-cell://ssh-remote%2Bml-papers-client.devpod/workspaces/ml-papers-client/ml-papers/large-models/hellaswag/hellaswag.ipynb#X12sdnNjb2RlLXJlbW90ZQ%3D%3D?line=15'>16</a>\u001b[0m \u001b[39mdef\u001b[39;00m \u001b[39manswer\u001b[39m(client: OpenAI, sample: Sample) \u001b[39m-\u001b[39m\u001b[39m>\u001b[39m \u001b[39mstr\u001b[39m:\n\u001b[1;32m     <a href='vscode-notebook-cell://ssh-remote%2Bml-papers-client.devpod/workspaces/ml-papers-client/ml-papers/large-models/hellaswag/hellaswag.ipynb#X12sdnNjb2RlLXJlbW90ZQ%3D%3D?line=16'>17</a>\u001b[0m     prompt \u001b[39m=\u001b[39m multiple_choice_prompt(sample)\n\u001b[0;32m---> <a href='vscode-notebook-cell://ssh-remote%2Bml-papers-client.devpod/workspaces/ml-papers-client/ml-papers/large-models/hellaswag/hellaswag.ipynb#X12sdnNjb2RlLXJlbW90ZQ%3D%3D?line=17'>18</a>\u001b[0m     response \u001b[39m=\u001b[39m client\u001b[39m.\u001b[39;49mchat\u001b[39m.\u001b[39;49mcompletions\u001b[39m.\u001b[39;49mcreate(\n\u001b[1;32m     <a href='vscode-notebook-cell://ssh-remote%2Bml-papers-client.devpod/workspaces/ml-papers-client/ml-papers/large-models/hellaswag/hellaswag.ipynb#X12sdnNjb2RlLXJlbW90ZQ%3D%3D?line=18'>19</a>\u001b[0m         model\u001b[39m=\u001b[39;49mMODEL_ID,\n\u001b[1;32m     <a href='vscode-notebook-cell://ssh-remote%2Bml-papers-client.devpod/workspaces/ml-papers-client/ml-papers/large-models/hellaswag/hellaswag.ipynb#X12sdnNjb2RlLXJlbW90ZQ%3D%3D?line=19'>20</a>\u001b[0m         messages\u001b[39m=\u001b[39;49m[\n\u001b[1;32m     <a href='vscode-notebook-cell://ssh-remote%2Bml-papers-client.devpod/workspaces/ml-papers-client/ml-papers/large-models/hellaswag/hellaswag.ipynb#X12sdnNjb2RlLXJlbW90ZQ%3D%3D?line=20'>21</a>\u001b[0m             {\n\u001b[1;32m     <a href='vscode-notebook-cell://ssh-remote%2Bml-papers-client.devpod/workspaces/ml-papers-client/ml-papers/large-models/hellaswag/hellaswag.ipynb#X12sdnNjb2RlLXJlbW90ZQ%3D%3D?line=21'>22</a>\u001b[0m                 \u001b[39m\"\u001b[39;49m\u001b[39mcontent\u001b[39;49m\u001b[39m\"\u001b[39;49m: INSTRUCTIONS,\n\u001b[1;32m     <a href='vscode-notebook-cell://ssh-remote%2Bml-papers-client.devpod/workspaces/ml-papers-client/ml-papers/large-models/hellaswag/hellaswag.ipynb#X12sdnNjb2RlLXJlbW90ZQ%3D%3D?line=22'>23</a>\u001b[0m                 \u001b[39m\"\u001b[39;49m\u001b[39mrole\u001b[39;49m\u001b[39m\"\u001b[39;49m: \u001b[39m\"\u001b[39;49m\u001b[39msystem\u001b[39;49m\u001b[39m\"\u001b[39;49m\n\u001b[1;32m     <a href='vscode-notebook-cell://ssh-remote%2Bml-papers-client.devpod/workspaces/ml-papers-client/ml-papers/large-models/hellaswag/hellaswag.ipynb#X12sdnNjb2RlLXJlbW90ZQ%3D%3D?line=23'>24</a>\u001b[0m             },\n\u001b[1;32m     <a href='vscode-notebook-cell://ssh-remote%2Bml-papers-client.devpod/workspaces/ml-papers-client/ml-papers/large-models/hellaswag/hellaswag.ipynb#X12sdnNjb2RlLXJlbW90ZQ%3D%3D?line=24'>25</a>\u001b[0m             {\n\u001b[1;32m     <a href='vscode-notebook-cell://ssh-remote%2Bml-papers-client.devpod/workspaces/ml-papers-client/ml-papers/large-models/hellaswag/hellaswag.ipynb#X12sdnNjb2RlLXJlbW90ZQ%3D%3D?line=25'>26</a>\u001b[0m                 \u001b[39m\"\u001b[39;49m\u001b[39mcontent\u001b[39;49m\u001b[39m\"\u001b[39;49m: prompt,\n\u001b[1;32m     <a href='vscode-notebook-cell://ssh-remote%2Bml-papers-client.devpod/workspaces/ml-papers-client/ml-papers/large-models/hellaswag/hellaswag.ipynb#X12sdnNjb2RlLXJlbW90ZQ%3D%3D?line=26'>27</a>\u001b[0m                 \u001b[39m\"\u001b[39;49m\u001b[39mrole\u001b[39;49m\u001b[39m\"\u001b[39;49m: \u001b[39m\"\u001b[39;49m\u001b[39muser\u001b[39;49m\u001b[39m\"\u001b[39;49m\n\u001b[1;32m     <a href='vscode-notebook-cell://ssh-remote%2Bml-papers-client.devpod/workspaces/ml-papers-client/ml-papers/large-models/hellaswag/hellaswag.ipynb#X12sdnNjb2RlLXJlbW90ZQ%3D%3D?line=27'>28</a>\u001b[0m             }\n\u001b[1;32m     <a href='vscode-notebook-cell://ssh-remote%2Bml-papers-client.devpod/workspaces/ml-papers-client/ml-papers/large-models/hellaswag/hellaswag.ipynb#X12sdnNjb2RlLXJlbW90ZQ%3D%3D?line=28'>29</a>\u001b[0m         ],\n\u001b[1;32m     <a href='vscode-notebook-cell://ssh-remote%2Bml-papers-client.devpod/workspaces/ml-papers-client/ml-papers/large-models/hellaswag/hellaswag.ipynb#X12sdnNjb2RlLXJlbW90ZQ%3D%3D?line=29'>30</a>\u001b[0m     )\n\u001b[1;32m     <a href='vscode-notebook-cell://ssh-remote%2Bml-papers-client.devpod/workspaces/ml-papers-client/ml-papers/large-models/hellaswag/hellaswag.ipynb#X12sdnNjb2RlLXJlbW90ZQ%3D%3D?line=30'>31</a>\u001b[0m     choice \u001b[39m=\u001b[39m response\u001b[39m.\u001b[39mchoices[\u001b[39m0\u001b[39m]\n\u001b[1;32m     <a href='vscode-notebook-cell://ssh-remote%2Bml-papers-client.devpod/workspaces/ml-papers-client/ml-papers/large-models/hellaswag/hellaswag.ipynb#X12sdnNjb2RlLXJlbW90ZQ%3D%3D?line=31'>32</a>\u001b[0m     \u001b[39mreturn\u001b[39;00m choice\u001b[39m.\u001b[39mmessage\u001b[39m.\u001b[39mcontent\u001b[39m.\u001b[39mstrip()\n",
      "File \u001b[0;32m~/.local/lib/python3.11/site-packages/openai/_utils/_utils.py:303\u001b[0m, in \u001b[0;36mrequired_args.<locals>.inner.<locals>.wrapper\u001b[0;34m(*args, **kwargs)\u001b[0m\n\u001b[1;32m    301\u001b[0m             msg \u001b[39m=\u001b[39m \u001b[39mf\u001b[39m\u001b[39m\"\u001b[39m\u001b[39mMissing required argument: \u001b[39m\u001b[39m{\u001b[39;00mquote(missing[\u001b[39m0\u001b[39m])\u001b[39m}\u001b[39;00m\u001b[39m\"\u001b[39m\n\u001b[1;32m    302\u001b[0m     \u001b[39mraise\u001b[39;00m \u001b[39mTypeError\u001b[39;00m(msg)\n\u001b[0;32m--> 303\u001b[0m \u001b[39mreturn\u001b[39;00m func(\u001b[39m*\u001b[39;49margs, \u001b[39m*\u001b[39;49m\u001b[39m*\u001b[39;49mkwargs)\n",
      "File \u001b[0;32m~/.local/lib/python3.11/site-packages/openai/resources/chat/completions.py:598\u001b[0m, in \u001b[0;36mCompletions.create\u001b[0;34m(self, messages, model, frequency_penalty, function_call, functions, logit_bias, max_tokens, n, presence_penalty, response_format, seed, stop, stream, temperature, tool_choice, tools, top_p, user, extra_headers, extra_query, extra_body, timeout)\u001b[0m\n\u001b[1;32m    551\u001b[0m \u001b[39m@required_args\u001b[39m([\u001b[39m\"\u001b[39m\u001b[39mmessages\u001b[39m\u001b[39m\"\u001b[39m, \u001b[39m\"\u001b[39m\u001b[39mmodel\u001b[39m\u001b[39m\"\u001b[39m], [\u001b[39m\"\u001b[39m\u001b[39mmessages\u001b[39m\u001b[39m\"\u001b[39m, \u001b[39m\"\u001b[39m\u001b[39mmodel\u001b[39m\u001b[39m\"\u001b[39m, \u001b[39m\"\u001b[39m\u001b[39mstream\u001b[39m\u001b[39m\"\u001b[39m])\n\u001b[1;32m    552\u001b[0m \u001b[39mdef\u001b[39;00m \u001b[39mcreate\u001b[39m(\n\u001b[1;32m    553\u001b[0m     \u001b[39mself\u001b[39m,\n\u001b[0;32m   (...)\u001b[0m\n\u001b[1;32m    596\u001b[0m     timeout: \u001b[39mfloat\u001b[39m \u001b[39m|\u001b[39m httpx\u001b[39m.\u001b[39mTimeout \u001b[39m|\u001b[39m \u001b[39mNone\u001b[39;00m \u001b[39m|\u001b[39m NotGiven \u001b[39m=\u001b[39m NOT_GIVEN,\n\u001b[1;32m    597\u001b[0m ) \u001b[39m-\u001b[39m\u001b[39m>\u001b[39m ChatCompletion \u001b[39m|\u001b[39m Stream[ChatCompletionChunk]:\n\u001b[0;32m--> 598\u001b[0m     \u001b[39mreturn\u001b[39;00m \u001b[39mself\u001b[39;49m\u001b[39m.\u001b[39;49m_post(\n\u001b[1;32m    599\u001b[0m         \u001b[39m\"\u001b[39;49m\u001b[39m/chat/completions\u001b[39;49m\u001b[39m\"\u001b[39;49m,\n\u001b[1;32m    600\u001b[0m         body\u001b[39m=\u001b[39;49mmaybe_transform(\n\u001b[1;32m    601\u001b[0m             {\n\u001b[1;32m    602\u001b[0m                 \u001b[39m\"\u001b[39;49m\u001b[39mmessages\u001b[39;49m\u001b[39m\"\u001b[39;49m: messages,\n\u001b[1;32m    603\u001b[0m                 \u001b[39m\"\u001b[39;49m\u001b[39mmodel\u001b[39;49m\u001b[39m\"\u001b[39;49m: model,\n\u001b[1;32m    604\u001b[0m                 \u001b[39m\"\u001b[39;49m\u001b[39mfrequency_penalty\u001b[39;49m\u001b[39m\"\u001b[39;49m: frequency_penalty,\n\u001b[1;32m    605\u001b[0m                 \u001b[39m\"\u001b[39;49m\u001b[39mfunction_call\u001b[39;49m\u001b[39m\"\u001b[39;49m: function_call,\n\u001b[1;32m    606\u001b[0m                 \u001b[39m\"\u001b[39;49m\u001b[39mfunctions\u001b[39;49m\u001b[39m\"\u001b[39;49m: functions,\n\u001b[1;32m    607\u001b[0m                 \u001b[39m\"\u001b[39;49m\u001b[39mlogit_bias\u001b[39;49m\u001b[39m\"\u001b[39;49m: logit_bias,\n\u001b[1;32m    608\u001b[0m                 \u001b[39m\"\u001b[39;49m\u001b[39mmax_tokens\u001b[39;49m\u001b[39m\"\u001b[39;49m: max_tokens,\n\u001b[1;32m    609\u001b[0m                 \u001b[39m\"\u001b[39;49m\u001b[39mn\u001b[39;49m\u001b[39m\"\u001b[39;49m: n,\n\u001b[1;32m    610\u001b[0m                 \u001b[39m\"\u001b[39;49m\u001b[39mpresence_penalty\u001b[39;49m\u001b[39m\"\u001b[39;49m: presence_penalty,\n\u001b[1;32m    611\u001b[0m                 \u001b[39m\"\u001b[39;49m\u001b[39mresponse_format\u001b[39;49m\u001b[39m\"\u001b[39;49m: response_format,\n\u001b[1;32m    612\u001b[0m                 \u001b[39m\"\u001b[39;49m\u001b[39mseed\u001b[39;49m\u001b[39m\"\u001b[39;49m: seed,\n\u001b[1;32m    613\u001b[0m                 \u001b[39m\"\u001b[39;49m\u001b[39mstop\u001b[39;49m\u001b[39m\"\u001b[39;49m: stop,\n\u001b[1;32m    614\u001b[0m                 \u001b[39m\"\u001b[39;49m\u001b[39mstream\u001b[39;49m\u001b[39m\"\u001b[39;49m: stream,\n\u001b[1;32m    615\u001b[0m                 \u001b[39m\"\u001b[39;49m\u001b[39mtemperature\u001b[39;49m\u001b[39m\"\u001b[39;49m: temperature,\n\u001b[1;32m    616\u001b[0m                 \u001b[39m\"\u001b[39;49m\u001b[39mtool_choice\u001b[39;49m\u001b[39m\"\u001b[39;49m: tool_choice,\n\u001b[1;32m    617\u001b[0m                 \u001b[39m\"\u001b[39;49m\u001b[39mtools\u001b[39;49m\u001b[39m\"\u001b[39;49m: tools,\n\u001b[1;32m    618\u001b[0m                 \u001b[39m\"\u001b[39;49m\u001b[39mtop_p\u001b[39;49m\u001b[39m\"\u001b[39;49m: top_p,\n\u001b[1;32m    619\u001b[0m                 \u001b[39m\"\u001b[39;49m\u001b[39muser\u001b[39;49m\u001b[39m\"\u001b[39;49m: user,\n\u001b[1;32m    620\u001b[0m             },\n\u001b[1;32m    621\u001b[0m             completion_create_params\u001b[39m.\u001b[39;49mCompletionCreateParams,\n\u001b[1;32m    622\u001b[0m         ),\n\u001b[1;32m    623\u001b[0m         options\u001b[39m=\u001b[39;49mmake_request_options(\n\u001b[1;32m    624\u001b[0m             extra_headers\u001b[39m=\u001b[39;49mextra_headers, extra_query\u001b[39m=\u001b[39;49mextra_query, extra_body\u001b[39m=\u001b[39;49mextra_body, timeout\u001b[39m=\u001b[39;49mtimeout\n\u001b[1;32m    625\u001b[0m         ),\n\u001b[1;32m    626\u001b[0m         cast_to\u001b[39m=\u001b[39;49mChatCompletion,\n\u001b[1;32m    627\u001b[0m         stream\u001b[39m=\u001b[39;49mstream \u001b[39mor\u001b[39;49;00m \u001b[39mFalse\u001b[39;49;00m,\n\u001b[1;32m    628\u001b[0m         stream_cls\u001b[39m=\u001b[39;49mStream[ChatCompletionChunk],\n\u001b[1;32m    629\u001b[0m     )\n",
      "File \u001b[0;32m~/.local/lib/python3.11/site-packages/openai/_base_client.py:1086\u001b[0m, in \u001b[0;36mSyncAPIClient.post\u001b[0;34m(self, path, cast_to, body, options, files, stream, stream_cls)\u001b[0m\n\u001b[1;32m   1072\u001b[0m \u001b[39mdef\u001b[39;00m \u001b[39mpost\u001b[39m(\n\u001b[1;32m   1073\u001b[0m     \u001b[39mself\u001b[39m,\n\u001b[1;32m   1074\u001b[0m     path: \u001b[39mstr\u001b[39m,\n\u001b[0;32m   (...)\u001b[0m\n\u001b[1;32m   1081\u001b[0m     stream_cls: \u001b[39mtype\u001b[39m[_StreamT] \u001b[39m|\u001b[39m \u001b[39mNone\u001b[39;00m \u001b[39m=\u001b[39m \u001b[39mNone\u001b[39;00m,\n\u001b[1;32m   1082\u001b[0m ) \u001b[39m-\u001b[39m\u001b[39m>\u001b[39m ResponseT \u001b[39m|\u001b[39m _StreamT:\n\u001b[1;32m   1083\u001b[0m     opts \u001b[39m=\u001b[39m FinalRequestOptions\u001b[39m.\u001b[39mconstruct(\n\u001b[1;32m   1084\u001b[0m         method\u001b[39m=\u001b[39m\u001b[39m\"\u001b[39m\u001b[39mpost\u001b[39m\u001b[39m\"\u001b[39m, url\u001b[39m=\u001b[39mpath, json_data\u001b[39m=\u001b[39mbody, files\u001b[39m=\u001b[39mto_httpx_files(files), \u001b[39m*\u001b[39m\u001b[39m*\u001b[39moptions\n\u001b[1;32m   1085\u001b[0m     )\n\u001b[0;32m-> 1086\u001b[0m     \u001b[39mreturn\u001b[39;00m cast(ResponseT, \u001b[39mself\u001b[39;49m\u001b[39m.\u001b[39;49mrequest(cast_to, opts, stream\u001b[39m=\u001b[39;49mstream, stream_cls\u001b[39m=\u001b[39;49mstream_cls))\n",
      "File \u001b[0;32m~/.local/lib/python3.11/site-packages/openai/_base_client.py:846\u001b[0m, in \u001b[0;36mSyncAPIClient.request\u001b[0;34m(self, cast_to, options, remaining_retries, stream, stream_cls)\u001b[0m\n\u001b[1;32m    837\u001b[0m \u001b[39mdef\u001b[39;00m \u001b[39mrequest\u001b[39m(\n\u001b[1;32m    838\u001b[0m     \u001b[39mself\u001b[39m,\n\u001b[1;32m    839\u001b[0m     cast_to: Type[ResponseT],\n\u001b[0;32m   (...)\u001b[0m\n\u001b[1;32m    844\u001b[0m     stream_cls: \u001b[39mtype\u001b[39m[_StreamT] \u001b[39m|\u001b[39m \u001b[39mNone\u001b[39;00m \u001b[39m=\u001b[39m \u001b[39mNone\u001b[39;00m,\n\u001b[1;32m    845\u001b[0m ) \u001b[39m-\u001b[39m\u001b[39m>\u001b[39m ResponseT \u001b[39m|\u001b[39m _StreamT:\n\u001b[0;32m--> 846\u001b[0m     \u001b[39mreturn\u001b[39;00m \u001b[39mself\u001b[39;49m\u001b[39m.\u001b[39;49m_request(\n\u001b[1;32m    847\u001b[0m         cast_to\u001b[39m=\u001b[39;49mcast_to,\n\u001b[1;32m    848\u001b[0m         options\u001b[39m=\u001b[39;49moptions,\n\u001b[1;32m    849\u001b[0m         stream\u001b[39m=\u001b[39;49mstream,\n\u001b[1;32m    850\u001b[0m         stream_cls\u001b[39m=\u001b[39;49mstream_cls,\n\u001b[1;32m    851\u001b[0m         remaining_retries\u001b[39m=\u001b[39;49mremaining_retries,\n\u001b[1;32m    852\u001b[0m     )\n",
      "File \u001b[0;32m~/.local/lib/python3.11/site-packages/openai/_base_client.py:872\u001b[0m, in \u001b[0;36mSyncAPIClient._request\u001b[0;34m(self, cast_to, options, remaining_retries, stream, stream_cls)\u001b[0m\n\u001b[1;32m    869\u001b[0m response \u001b[39m=\u001b[39m \u001b[39mNone\u001b[39;00m\n\u001b[1;32m    871\u001b[0m \u001b[39mtry\u001b[39;00m:\n\u001b[0;32m--> 872\u001b[0m     response \u001b[39m=\u001b[39m \u001b[39mself\u001b[39;49m\u001b[39m.\u001b[39;49m_client\u001b[39m.\u001b[39;49msend(\n\u001b[1;32m    873\u001b[0m         request,\n\u001b[1;32m    874\u001b[0m         auth\u001b[39m=\u001b[39;49m\u001b[39mself\u001b[39;49m\u001b[39m.\u001b[39;49mcustom_auth,\n\u001b[1;32m    875\u001b[0m         stream\u001b[39m=\u001b[39;49mstream \u001b[39mor\u001b[39;49;00m \u001b[39mself\u001b[39;49m\u001b[39m.\u001b[39;49m_should_stream_response_body(request\u001b[39m=\u001b[39;49mrequest),\n\u001b[1;32m    876\u001b[0m     )\n\u001b[1;32m    877\u001b[0m     log\u001b[39m.\u001b[39mdebug(\n\u001b[1;32m    878\u001b[0m         \u001b[39m'\u001b[39m\u001b[39mHTTP Request: \u001b[39m\u001b[39m%s\u001b[39;00m\u001b[39m \u001b[39m\u001b[39m%s\u001b[39;00m\u001b[39m \u001b[39m\u001b[39m\"\u001b[39m\u001b[39m%i\u001b[39;00m\u001b[39m \u001b[39m\u001b[39m%s\u001b[39;00m\u001b[39m\"\u001b[39m\u001b[39m'\u001b[39m, request\u001b[39m.\u001b[39mmethod, request\u001b[39m.\u001b[39murl, response\u001b[39m.\u001b[39mstatus_code, response\u001b[39m.\u001b[39mreason_phrase\n\u001b[1;32m    879\u001b[0m     )\n\u001b[1;32m    880\u001b[0m     response\u001b[39m.\u001b[39mraise_for_status()\n",
      "File \u001b[0;32m~/.local/lib/python3.11/site-packages/httpx/_client.py:901\u001b[0m, in \u001b[0;36mClient.send\u001b[0;34m(self, request, stream, auth, follow_redirects)\u001b[0m\n\u001b[1;32m    893\u001b[0m follow_redirects \u001b[39m=\u001b[39m (\n\u001b[1;32m    894\u001b[0m     \u001b[39mself\u001b[39m\u001b[39m.\u001b[39mfollow_redirects\n\u001b[1;32m    895\u001b[0m     \u001b[39mif\u001b[39;00m \u001b[39misinstance\u001b[39m(follow_redirects, UseClientDefault)\n\u001b[1;32m    896\u001b[0m     \u001b[39melse\u001b[39;00m follow_redirects\n\u001b[1;32m    897\u001b[0m )\n\u001b[1;32m    899\u001b[0m auth \u001b[39m=\u001b[39m \u001b[39mself\u001b[39m\u001b[39m.\u001b[39m_build_request_auth(request, auth)\n\u001b[0;32m--> 901\u001b[0m response \u001b[39m=\u001b[39m \u001b[39mself\u001b[39;49m\u001b[39m.\u001b[39;49m_send_handling_auth(\n\u001b[1;32m    902\u001b[0m     request,\n\u001b[1;32m    903\u001b[0m     auth\u001b[39m=\u001b[39;49mauth,\n\u001b[1;32m    904\u001b[0m     follow_redirects\u001b[39m=\u001b[39;49mfollow_redirects,\n\u001b[1;32m    905\u001b[0m     history\u001b[39m=\u001b[39;49m[],\n\u001b[1;32m    906\u001b[0m )\n\u001b[1;32m    907\u001b[0m \u001b[39mtry\u001b[39;00m:\n\u001b[1;32m    908\u001b[0m     \u001b[39mif\u001b[39;00m \u001b[39mnot\u001b[39;00m stream:\n",
      "File \u001b[0;32m~/.local/lib/python3.11/site-packages/httpx/_client.py:929\u001b[0m, in \u001b[0;36mClient._send_handling_auth\u001b[0;34m(self, request, auth, follow_redirects, history)\u001b[0m\n\u001b[1;32m    926\u001b[0m request \u001b[39m=\u001b[39m \u001b[39mnext\u001b[39m(auth_flow)\n\u001b[1;32m    928\u001b[0m \u001b[39mwhile\u001b[39;00m \u001b[39mTrue\u001b[39;00m:\n\u001b[0;32m--> 929\u001b[0m     response \u001b[39m=\u001b[39m \u001b[39mself\u001b[39;49m\u001b[39m.\u001b[39;49m_send_handling_redirects(\n\u001b[1;32m    930\u001b[0m         request,\n\u001b[1;32m    931\u001b[0m         follow_redirects\u001b[39m=\u001b[39;49mfollow_redirects,\n\u001b[1;32m    932\u001b[0m         history\u001b[39m=\u001b[39;49mhistory,\n\u001b[1;32m    933\u001b[0m     )\n\u001b[1;32m    934\u001b[0m     \u001b[39mtry\u001b[39;00m:\n\u001b[1;32m    935\u001b[0m         \u001b[39mtry\u001b[39;00m:\n",
      "File \u001b[0;32m~/.local/lib/python3.11/site-packages/httpx/_client.py:966\u001b[0m, in \u001b[0;36mClient._send_handling_redirects\u001b[0;34m(self, request, follow_redirects, history)\u001b[0m\n\u001b[1;32m    963\u001b[0m \u001b[39mfor\u001b[39;00m hook \u001b[39min\u001b[39;00m \u001b[39mself\u001b[39m\u001b[39m.\u001b[39m_event_hooks[\u001b[39m\"\u001b[39m\u001b[39mrequest\u001b[39m\u001b[39m\"\u001b[39m]:\n\u001b[1;32m    964\u001b[0m     hook(request)\n\u001b[0;32m--> 966\u001b[0m response \u001b[39m=\u001b[39m \u001b[39mself\u001b[39;49m\u001b[39m.\u001b[39;49m_send_single_request(request)\n\u001b[1;32m    967\u001b[0m \u001b[39mtry\u001b[39;00m:\n\u001b[1;32m    968\u001b[0m     \u001b[39mfor\u001b[39;00m hook \u001b[39min\u001b[39;00m \u001b[39mself\u001b[39m\u001b[39m.\u001b[39m_event_hooks[\u001b[39m\"\u001b[39m\u001b[39mresponse\u001b[39m\u001b[39m\"\u001b[39m]:\n",
      "File \u001b[0;32m~/.local/lib/python3.11/site-packages/httpx/_client.py:1002\u001b[0m, in \u001b[0;36mClient._send_single_request\u001b[0;34m(self, request)\u001b[0m\n\u001b[1;32m    997\u001b[0m     \u001b[39mraise\u001b[39;00m \u001b[39mRuntimeError\u001b[39;00m(\n\u001b[1;32m    998\u001b[0m         \u001b[39m\"\u001b[39m\u001b[39mAttempted to send an async request with a sync Client instance.\u001b[39m\u001b[39m\"\u001b[39m\n\u001b[1;32m    999\u001b[0m     )\n\u001b[1;32m   1001\u001b[0m \u001b[39mwith\u001b[39;00m request_context(request\u001b[39m=\u001b[39mrequest):\n\u001b[0;32m-> 1002\u001b[0m     response \u001b[39m=\u001b[39m transport\u001b[39m.\u001b[39;49mhandle_request(request)\n\u001b[1;32m   1004\u001b[0m \u001b[39massert\u001b[39;00m \u001b[39misinstance\u001b[39m(response\u001b[39m.\u001b[39mstream, SyncByteStream)\n\u001b[1;32m   1006\u001b[0m response\u001b[39m.\u001b[39mrequest \u001b[39m=\u001b[39m request\n",
      "File \u001b[0;32m~/.local/lib/python3.11/site-packages/httpx/_transports/default.py:228\u001b[0m, in \u001b[0;36mHTTPTransport.handle_request\u001b[0;34m(self, request)\u001b[0m\n\u001b[1;32m    215\u001b[0m req \u001b[39m=\u001b[39m httpcore\u001b[39m.\u001b[39mRequest(\n\u001b[1;32m    216\u001b[0m     method\u001b[39m=\u001b[39mrequest\u001b[39m.\u001b[39mmethod,\n\u001b[1;32m    217\u001b[0m     url\u001b[39m=\u001b[39mhttpcore\u001b[39m.\u001b[39mURL(\n\u001b[0;32m   (...)\u001b[0m\n\u001b[1;32m    225\u001b[0m     extensions\u001b[39m=\u001b[39mrequest\u001b[39m.\u001b[39mextensions,\n\u001b[1;32m    226\u001b[0m )\n\u001b[1;32m    227\u001b[0m \u001b[39mwith\u001b[39;00m map_httpcore_exceptions():\n\u001b[0;32m--> 228\u001b[0m     resp \u001b[39m=\u001b[39m \u001b[39mself\u001b[39;49m\u001b[39m.\u001b[39;49m_pool\u001b[39m.\u001b[39;49mhandle_request(req)\n\u001b[1;32m    230\u001b[0m \u001b[39massert\u001b[39;00m \u001b[39misinstance\u001b[39m(resp\u001b[39m.\u001b[39mstream, typing\u001b[39m.\u001b[39mIterable)\n\u001b[1;32m    232\u001b[0m \u001b[39mreturn\u001b[39;00m Response(\n\u001b[1;32m    233\u001b[0m     status_code\u001b[39m=\u001b[39mresp\u001b[39m.\u001b[39mstatus,\n\u001b[1;32m    234\u001b[0m     headers\u001b[39m=\u001b[39mresp\u001b[39m.\u001b[39mheaders,\n\u001b[1;32m    235\u001b[0m     stream\u001b[39m=\u001b[39mResponseStream(resp\u001b[39m.\u001b[39mstream),\n\u001b[1;32m    236\u001b[0m     extensions\u001b[39m=\u001b[39mresp\u001b[39m.\u001b[39mextensions,\n\u001b[1;32m    237\u001b[0m )\n",
      "File \u001b[0;32m~/.local/lib/python3.11/site-packages/httpcore/_sync/connection_pool.py:268\u001b[0m, in \u001b[0;36mConnectionPool.handle_request\u001b[0;34m(self, request)\u001b[0m\n\u001b[1;32m    266\u001b[0m     \u001b[39mwith\u001b[39;00m ShieldCancellation():\n\u001b[1;32m    267\u001b[0m         \u001b[39mself\u001b[39m\u001b[39m.\u001b[39mresponse_closed(status)\n\u001b[0;32m--> 268\u001b[0m     \u001b[39mraise\u001b[39;00m exc\n\u001b[1;32m    269\u001b[0m \u001b[39melse\u001b[39;00m:\n\u001b[1;32m    270\u001b[0m     \u001b[39mbreak\u001b[39;00m\n",
      "File \u001b[0;32m~/.local/lib/python3.11/site-packages/httpcore/_sync/connection_pool.py:251\u001b[0m, in \u001b[0;36mConnectionPool.handle_request\u001b[0;34m(self, request)\u001b[0m\n\u001b[1;32m    248\u001b[0m         \u001b[39mraise\u001b[39;00m exc\n\u001b[1;32m    250\u001b[0m \u001b[39mtry\u001b[39;00m:\n\u001b[0;32m--> 251\u001b[0m     response \u001b[39m=\u001b[39m connection\u001b[39m.\u001b[39;49mhandle_request(request)\n\u001b[1;32m    252\u001b[0m \u001b[39mexcept\u001b[39;00m ConnectionNotAvailable:\n\u001b[1;32m    253\u001b[0m     \u001b[39m# The ConnectionNotAvailable exception is a special case, that\u001b[39;00m\n\u001b[1;32m    254\u001b[0m     \u001b[39m# indicates we need to retry the request on a new connection.\u001b[39;00m\n\u001b[0;32m   (...)\u001b[0m\n\u001b[1;32m    258\u001b[0m     \u001b[39m# might end up as an HTTP/2 connection, but which actually ends\u001b[39;00m\n\u001b[1;32m    259\u001b[0m     \u001b[39m# up as HTTP/1.1.\u001b[39;00m\n\u001b[1;32m    260\u001b[0m     \u001b[39mwith\u001b[39;00m \u001b[39mself\u001b[39m\u001b[39m.\u001b[39m_pool_lock:\n\u001b[1;32m    261\u001b[0m         \u001b[39m# Maintain our position in the request queue, but reset the\u001b[39;00m\n\u001b[1;32m    262\u001b[0m         \u001b[39m# status so that the request becomes queued again.\u001b[39;00m\n",
      "File \u001b[0;32m~/.local/lib/python3.11/site-packages/httpcore/_sync/connection.py:103\u001b[0m, in \u001b[0;36mHTTPConnection.handle_request\u001b[0;34m(self, request)\u001b[0m\n\u001b[1;32m    100\u001b[0m     \u001b[39melif\u001b[39;00m \u001b[39mnot\u001b[39;00m \u001b[39mself\u001b[39m\u001b[39m.\u001b[39m_connection\u001b[39m.\u001b[39mis_available():\n\u001b[1;32m    101\u001b[0m         \u001b[39mraise\u001b[39;00m ConnectionNotAvailable()\n\u001b[0;32m--> 103\u001b[0m \u001b[39mreturn\u001b[39;00m \u001b[39mself\u001b[39;49m\u001b[39m.\u001b[39;49m_connection\u001b[39m.\u001b[39;49mhandle_request(request)\n",
      "File \u001b[0;32m~/.local/lib/python3.11/site-packages/httpcore/_sync/http11.py:133\u001b[0m, in \u001b[0;36mHTTP11Connection.handle_request\u001b[0;34m(self, request)\u001b[0m\n\u001b[1;32m    131\u001b[0m     \u001b[39mwith\u001b[39;00m Trace(\u001b[39m\"\u001b[39m\u001b[39mresponse_closed\u001b[39m\u001b[39m\"\u001b[39m, logger, request) \u001b[39mas\u001b[39;00m trace:\n\u001b[1;32m    132\u001b[0m         \u001b[39mself\u001b[39m\u001b[39m.\u001b[39m_response_closed()\n\u001b[0;32m--> 133\u001b[0m \u001b[39mraise\u001b[39;00m exc\n",
      "File \u001b[0;32m~/.local/lib/python3.11/site-packages/httpcore/_sync/http11.py:111\u001b[0m, in \u001b[0;36mHTTP11Connection.handle_request\u001b[0;34m(self, request)\u001b[0m\n\u001b[1;32m    101\u001b[0m     \u001b[39mpass\u001b[39;00m\n\u001b[1;32m    103\u001b[0m \u001b[39mwith\u001b[39;00m Trace(\n\u001b[1;32m    104\u001b[0m     \u001b[39m\"\u001b[39m\u001b[39mreceive_response_headers\u001b[39m\u001b[39m\"\u001b[39m, logger, request, kwargs\n\u001b[1;32m    105\u001b[0m ) \u001b[39mas\u001b[39;00m trace:\n\u001b[1;32m    106\u001b[0m     (\n\u001b[1;32m    107\u001b[0m         http_version,\n\u001b[1;32m    108\u001b[0m         status,\n\u001b[1;32m    109\u001b[0m         reason_phrase,\n\u001b[1;32m    110\u001b[0m         headers,\n\u001b[0;32m--> 111\u001b[0m     ) \u001b[39m=\u001b[39m \u001b[39mself\u001b[39;49m\u001b[39m.\u001b[39;49m_receive_response_headers(\u001b[39m*\u001b[39;49m\u001b[39m*\u001b[39;49mkwargs)\n\u001b[1;32m    112\u001b[0m     trace\u001b[39m.\u001b[39mreturn_value \u001b[39m=\u001b[39m (\n\u001b[1;32m    113\u001b[0m         http_version,\n\u001b[1;32m    114\u001b[0m         status,\n\u001b[1;32m    115\u001b[0m         reason_phrase,\n\u001b[1;32m    116\u001b[0m         headers,\n\u001b[1;32m    117\u001b[0m     )\n\u001b[1;32m    119\u001b[0m \u001b[39mreturn\u001b[39;00m Response(\n\u001b[1;32m    120\u001b[0m     status\u001b[39m=\u001b[39mstatus,\n\u001b[1;32m    121\u001b[0m     headers\u001b[39m=\u001b[39mheaders,\n\u001b[0;32m   (...)\u001b[0m\n\u001b[1;32m    127\u001b[0m     },\n\u001b[1;32m    128\u001b[0m )\n",
      "File \u001b[0;32m~/.local/lib/python3.11/site-packages/httpcore/_sync/http11.py:176\u001b[0m, in \u001b[0;36mHTTP11Connection._receive_response_headers\u001b[0;34m(self, request)\u001b[0m\n\u001b[1;32m    173\u001b[0m timeout \u001b[39m=\u001b[39m timeouts\u001b[39m.\u001b[39mget(\u001b[39m\"\u001b[39m\u001b[39mread\u001b[39m\u001b[39m\"\u001b[39m, \u001b[39mNone\u001b[39;00m)\n\u001b[1;32m    175\u001b[0m \u001b[39mwhile\u001b[39;00m \u001b[39mTrue\u001b[39;00m:\n\u001b[0;32m--> 176\u001b[0m     event \u001b[39m=\u001b[39m \u001b[39mself\u001b[39;49m\u001b[39m.\u001b[39;49m_receive_event(timeout\u001b[39m=\u001b[39;49mtimeout)\n\u001b[1;32m    177\u001b[0m     \u001b[39mif\u001b[39;00m \u001b[39misinstance\u001b[39m(event, h11\u001b[39m.\u001b[39mResponse):\n\u001b[1;32m    178\u001b[0m         \u001b[39mbreak\u001b[39;00m\n",
      "File \u001b[0;32m~/.local/lib/python3.11/site-packages/httpcore/_sync/http11.py:212\u001b[0m, in \u001b[0;36mHTTP11Connection._receive_event\u001b[0;34m(self, timeout)\u001b[0m\n\u001b[1;32m    209\u001b[0m     event \u001b[39m=\u001b[39m \u001b[39mself\u001b[39m\u001b[39m.\u001b[39m_h11_state\u001b[39m.\u001b[39mnext_event()\n\u001b[1;32m    211\u001b[0m \u001b[39mif\u001b[39;00m event \u001b[39mis\u001b[39;00m h11\u001b[39m.\u001b[39mNEED_DATA:\n\u001b[0;32m--> 212\u001b[0m     data \u001b[39m=\u001b[39m \u001b[39mself\u001b[39;49m\u001b[39m.\u001b[39;49m_network_stream\u001b[39m.\u001b[39;49mread(\n\u001b[1;32m    213\u001b[0m         \u001b[39mself\u001b[39;49m\u001b[39m.\u001b[39;49mREAD_NUM_BYTES, timeout\u001b[39m=\u001b[39;49mtimeout\n\u001b[1;32m    214\u001b[0m     )\n\u001b[1;32m    216\u001b[0m     \u001b[39m# If we feed this case through h11 we'll raise an exception like:\u001b[39;00m\n\u001b[1;32m    217\u001b[0m     \u001b[39m#\u001b[39;00m\n\u001b[1;32m    218\u001b[0m     \u001b[39m#     httpcore.RemoteProtocolError: can't handle event type\u001b[39;00m\n\u001b[0;32m   (...)\u001b[0m\n\u001b[1;32m    222\u001b[0m     \u001b[39m# perspective. Instead we handle this case distinctly and treat\u001b[39;00m\n\u001b[1;32m    223\u001b[0m     \u001b[39m# it as a ConnectError.\u001b[39;00m\n\u001b[1;32m    224\u001b[0m     \u001b[39mif\u001b[39;00m data \u001b[39m==\u001b[39m \u001b[39mb\u001b[39m\u001b[39m\"\u001b[39m\u001b[39m\"\u001b[39m \u001b[39mand\u001b[39;00m \u001b[39mself\u001b[39m\u001b[39m.\u001b[39m_h11_state\u001b[39m.\u001b[39mtheir_state \u001b[39m==\u001b[39m h11\u001b[39m.\u001b[39mSEND_RESPONSE:\n",
      "File \u001b[0;32m~/.local/lib/python3.11/site-packages/httpcore/_backends/sync.py:126\u001b[0m, in \u001b[0;36mSyncStream.read\u001b[0;34m(self, max_bytes, timeout)\u001b[0m\n\u001b[1;32m    124\u001b[0m \u001b[39mwith\u001b[39;00m map_exceptions(exc_map):\n\u001b[1;32m    125\u001b[0m     \u001b[39mself\u001b[39m\u001b[39m.\u001b[39m_sock\u001b[39m.\u001b[39msettimeout(timeout)\n\u001b[0;32m--> 126\u001b[0m     \u001b[39mreturn\u001b[39;00m \u001b[39mself\u001b[39;49m\u001b[39m.\u001b[39;49m_sock\u001b[39m.\u001b[39;49mrecv(max_bytes)\n",
      "\u001b[0;31mKeyboardInterrupt\u001b[0m: "
     ]
    }
   ],
   "source": [
    "pbar = tqdm(enumerate(it))\n",
    "for i, record in pbar:\n",
    "    sample = make_sample(next(it))\n",
    "    response = answer(client, sample)\n",
    "    total += 1\n",
    "    # Sometimes the model may answer something like 'The best answer is A) <answer>'\n",
    "    # so we'll give it credit.\n",
    "    if response == sample.expected or sample.label_text in response:\n",
    "        correct += 1\n",
    "    else:\n",
    "        print(response)\n",
    "        print(sample.expected)\n",
    "\n",
    "    accuracy = (correct / total) * 100\n",
    "    pbar.set_description(f\"{accuracy:2.2f}% - {correct} of {total}\")"
   ]
  }
 ],
 "metadata": {
  "kernelspec": {
   "display_name": "Python 3",
   "language": "python",
   "name": "python3"
  },
  "language_info": {
   "codemirror_mode": {
    "name": "ipython",
    "version": 3
   },
   "file_extension": ".py",
   "mimetype": "text/x-python",
   "name": "python",
   "nbconvert_exporter": "python",
   "pygments_lexer": "ipython3",
   "version": "3.11.4"
  }
 },
 "nbformat": 4,
 "nbformat_minor": 2
}
