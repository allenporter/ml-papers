{
 "cells": [
  {
   "cell_type": "markdown",
   "metadata": {},
   "source": [
    "# HellaSwag"
   ]
  },
  {
   "cell_type": "code",
   "execution_count": 2,
   "metadata": {},
   "outputs": [
    {
     "data": {
      "application/vnd.jupyter.widget-view+json": {
       "model_id": "e929115390bf4eb38d4a753c0f38e2ca",
       "version_major": 2,
       "version_minor": 0
      },
      "text/plain": [
       "Downloading builder script:   0%|          | 0.00/4.36k [00:00<?, ?B/s]"
      ]
     },
     "metadata": {},
     "output_type": "display_data"
    },
    {
     "data": {
      "application/vnd.jupyter.widget-view+json": {
       "model_id": "cc434a7afeda449aa143c1cd88dff027",
       "version_major": 2,
       "version_minor": 0
      },
      "text/plain": [
       "Downloading metadata:   0%|          | 0.00/2.53k [00:00<?, ?B/s]"
      ]
     },
     "metadata": {},
     "output_type": "display_data"
    },
    {
     "data": {
      "application/vnd.jupyter.widget-view+json": {
       "model_id": "7e29c6a9df234b4d861ccd7bc9ae0d8b",
       "version_major": 2,
       "version_minor": 0
      },
      "text/plain": [
       "Downloading readme:   0%|          | 0.00/6.84k [00:00<?, ?B/s]"
      ]
     },
     "metadata": {},
     "output_type": "display_data"
    },
    {
     "data": {
      "application/vnd.jupyter.widget-view+json": {
       "model_id": "6899482ce4a84b95a16a1653881e4f5d",
       "version_major": 2,
       "version_minor": 0
      },
      "text/plain": [
       "Downloading data files:   0%|          | 0/3 [00:00<?, ?it/s]"
      ]
     },
     "metadata": {},
     "output_type": "display_data"
    },
    {
     "data": {
      "application/vnd.jupyter.widget-view+json": {
       "model_id": "0ed846972da74c09bd172a3dd7481a6e",
       "version_major": 2,
       "version_minor": 0
      },
      "text/plain": [
       "Downloading data:   0%|          | 0.00/12.1M [00:00<?, ?B/s]"
      ]
     },
     "metadata": {},
     "output_type": "display_data"
    },
    {
     "data": {
      "application/vnd.jupyter.widget-view+json": {
       "model_id": "d1980e23a67841378f51fa6465d55376",
       "version_major": 2,
       "version_minor": 0
      },
      "text/plain": [
       "Downloading data:   0%|          | 0.00/3.04M [00:00<?, ?B/s]"
      ]
     },
     "metadata": {},
     "output_type": "display_data"
    },
    {
     "data": {
      "application/vnd.jupyter.widget-view+json": {
       "model_id": "ca2eb3ce83584b9f855b176f3c8f203b",
       "version_major": 2,
       "version_minor": 0
      },
      "text/plain": [
       "Downloading data:   0%|          | 0.00/3.14M [00:00<?, ?B/s]"
      ]
     },
     "metadata": {},
     "output_type": "display_data"
    },
    {
     "data": {
      "application/vnd.jupyter.widget-view+json": {
       "model_id": "7726163e902a4b47bebc16826ef857a5",
       "version_major": 2,
       "version_minor": 0
      },
      "text/plain": [
       "Extracting data files:   0%|          | 0/3 [00:00<?, ?it/s]"
      ]
     },
     "metadata": {},
     "output_type": "display_data"
    },
    {
     "data": {
      "application/vnd.jupyter.widget-view+json": {
       "model_id": "bc191b1723414c42bfca4a85b9629baa",
       "version_major": 2,
       "version_minor": 0
      },
      "text/plain": [
       "Generating train split:   0%|          | 0/39905 [00:00<?, ? examples/s]"
      ]
     },
     "metadata": {},
     "output_type": "display_data"
    },
    {
     "data": {
      "application/vnd.jupyter.widget-view+json": {
       "model_id": "3f584931dfe94c94a16f181c561f472d",
       "version_major": 2,
       "version_minor": 0
      },
      "text/plain": [
       "Generating test split:   0%|          | 0/10003 [00:00<?, ? examples/s]"
      ]
     },
     "metadata": {},
     "output_type": "display_data"
    },
    {
     "data": {
      "application/vnd.jupyter.widget-view+json": {
       "model_id": "366d2a091f39401f8916ddc2aa16e9c4",
       "version_major": 2,
       "version_minor": 0
      },
      "text/plain": [
       "Generating validation split:   0%|          | 0/10042 [00:00<?, ? examples/s]"
      ]
     },
     "metadata": {},
     "output_type": "display_data"
    }
   ],
   "source": [
    "from unittest.mock import patch\n",
    "from datasets import load_dataset\n",
    "\n",
    "with patch(\"datasets.builder.is_remote_filesystem\", return_value=False):\n",
    "    dataset = load_dataset(\"Rowan/hellaswag\")"
   ]
  },
  {
   "cell_type": "code",
   "execution_count": 4,
   "metadata": {},
   "outputs": [
    {
     "data": {
      "text/plain": [
       "{'ind': 4,\n",
       " 'activity_label': 'Removing ice from car',\n",
       " 'ctx_a': 'Then, the man writes over the snow covering the window of a car, and a woman wearing winter clothes smiles.',\n",
       " 'ctx_b': 'then',\n",
       " 'ctx': 'Then, the man writes over the snow covering the window of a car, and a woman wearing winter clothes smiles. then',\n",
       " 'endings': [', the man adds wax to the windshield and cuts it.',\n",
       "  ', a person board a ski lift, while two men supporting the head of the person wearing winter clothes snow as the we girls sled.',\n",
       "  ', the man puts on a christmas coat, knitted with netting.',\n",
       "  ', the man continues removing the snow on his car.'],\n",
       " 'source_id': 'activitynet~v_-1IBHYS3L-Y',\n",
       " 'split': 'train',\n",
       " 'split_type': 'indomain',\n",
       " 'label': '3'}"
      ]
     },
     "execution_count": 4,
     "metadata": {},
     "output_type": "execute_result"
    }
   ],
   "source": [
    "from dataclasses import dataclass\n",
    "\n",
    "NUM_ANSWERS = 4\n",
    "CHOICES = [\"A\", \"B\", \"C\", \"D\"]\n",
    "\n",
    "\n",
    "@dataclass\n",
    "class Sample:\n",
    "    \"\"\"A sample multiple choice question.\"\"\"\n",
    "\n",
    "    question: str\n",
    "    answers: list[str]\n",
    "    label: int\n",
    "\n",
    "    @property\n",
    "    def choices(self) -> list[str]:\n",
    "        \"\"\"Return the multiple choice answers.\"\"\"\n",
    "        return [ f\"{choice}) {option}\" for choice, option in zip(CHOICES, self.answers) ]\n",
    "\n",
    "    @property\n",
    "    def label_text(self) -> str:\n",
    "        \"\"\"Returns the expected correct answer.\"\"\"\n",
    "        return self.answers[self.label]\n",
    "\n",
    "    @property\n",
    "    def expected(self) -> str:\n",
    "        \"\"\"Returns the expected correct answer.\"\"\"\n",
    "        return f\"{CHOICES[self.label]}) {self.label_text}\"\n",
    "\n",
    "\n",
    "def make_sample(record: dict[str, str]) -> Sample:\n",
    "    return Sample(record[\"ctx\"], record[\"endings\"], label=record[\"label\"])\n",
    "\n",
    "ds = dataset['train']\n",
    "it = iter(ds)\n",
    "#make_sample(next(it)), make_sample(next(it)), make_sample(next(it))\n",
    "next(it)"
   ]
  }
 ],
 "metadata": {
  "kernelspec": {
   "display_name": "Python 3",
   "language": "python",
   "name": "python3"
  },
  "language_info": {
   "codemirror_mode": {
    "name": "ipython",
    "version": 3
   },
   "file_extension": ".py",
   "mimetype": "text/x-python",
   "name": "python",
   "nbconvert_exporter": "python",
   "pygments_lexer": "ipython3",
   "version": "3.11.4"
  }
 },
 "nbformat": 4,
 "nbformat_minor": 2
}
