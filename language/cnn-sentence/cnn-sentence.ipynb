{
 "cells": [
  {
   "cell_type": "markdown",
   "metadata": {},
   "source": [
    "# Convolutional Neural Networks for Sentence Classification"
   ]
  },
  {
   "cell_type": "markdown",
   "metadata": {},
   "source": [
    "# Reviews Dataset"
   ]
  },
  {
   "cell_type": "code",
   "execution_count": 1,
   "metadata": {},
   "outputs": [
    {
     "name": "stdout",
     "output_type": "stream",
     "text": [
      "Vocab size: 47431\n",
      "Num reviews: 64720\n"
     ]
    }
   ],
   "source": [
    "import pathlib\n",
    "import random\n",
    "import itertools\n",
    "import torch\n",
    "from typing import Any\n",
    "\n",
    "\n",
    "MOVIE_REVIEW_DIR = pathlib.Path('data/movie_reviews/txt_sentoken/')\n",
    "\n",
    "def pick_device() -> torch.device:\n",
    "    if torch.backends.mps.is_available():  \n",
    "        print(\"Using GPU\")     \n",
    "        return torch.device(\"mps\")\n",
    "    print('No GPU available, using the CPU instead.')\n",
    "    return torch.device(\"cpu\")\n",
    "\n",
    "device = torch.device(\"cpu\")\n",
    "\n",
    "\n",
    "def load_reviews(path: pathlib.Path) -> list[str]:\n",
    "    \"\"\"Build movie review training set from the dataset directory\"\"\"\n",
    "    x = []\n",
    "    for filename in path.glob(\"*.txt\"):\n",
    "        with filename.open() as f:\n",
    "            x.extend(f.readlines())\n",
    "    return x\n",
    "\n",
    "def tokenize(sentence: str) -> list[str]:\n",
    "    \"\"\"Tokenize the sentence into words.\"\"\"\n",
    "    return sentence.lower().split(' ')\n",
    "\n",
    "\n",
    "MAX_SENTENCE_LEN = 30  # Assumes only first N elements are allowed\n",
    "\n",
    "\n",
    "def build_vocab(contents: list[str]) -> dict[str, int]:\n",
    "    \"\"\"Build an index of words to token number.\"\"\"\n",
    "    vocab: dict[str, int] = {}\n",
    "    vocab['</s>'] = 0\n",
    "    index = 1\n",
    "    for line in load_reviews(MOVIE_REVIEW_DIR / \"pos\") + load_reviews(MOVIE_REVIEW_DIR / \"neg\"):\n",
    "        tokens = tokenize(line)\n",
    "        for word in itertools.islice(tokens, MAX_SENTENCE_LEN):\n",
    "            if word not in vocab:\n",
    "                vocab[word] = index\n",
    "                index += 1\n",
    "    return vocab\n",
    "\n",
    "\n",
    "vocab = build_vocab(load_reviews(MOVIE_REVIEW_DIR / \"pos\") + load_reviews(MOVIE_REVIEW_DIR / \"neg\"))\n",
    "vocab_inv = { v: k for k, v in vocab.items()}\n",
    "\n",
    "\n",
    "def encode_sentence(sentence: str) -> torch.tensor:\n",
    "    \"\"\"Encode a sentence as a series of token indexes.\"\"\"\n",
    "    encoded = [ vocab.get(word.lower(), 0) for word in itertools.islice(tokenize(sentence), MAX_SENTENCE_LEN) ]\n",
    "    if len(encoded) < MAX_SENTENCE_LEN:\n",
    "        encoded.extend([0] * (MAX_SENTENCE_LEN - len(encoded)))\n",
    "    return torch.tensor(encoded, device=device)\n",
    "\n",
    "\n",
    "reviews: list[tuple[str, Any]] = []\n",
    "for review in load_reviews(MOVIE_REVIEW_DIR / \"pos\"):\n",
    "    reviews.append((encode_sentence(review), (0.0, 1.0)))\n",
    "for review in load_reviews(MOVIE_REVIEW_DIR / \"neg\"):\n",
    "    reviews.append((encode_sentence(review), (1.0, 0.0)))\n",
    "\n",
    "print(f\"Vocab size: {len(vocab)}\")\n",
    "print(f\"Num reviews: {len(reviews)}\")"
   ]
  },
  {
   "cell_type": "markdown",
   "metadata": {},
   "source": [
    "# word2vec"
   ]
  },
  {
   "cell_type": "code",
   "execution_count": 2,
   "metadata": {},
   "outputs": [
    {
     "name": "stderr",
     "output_type": "stream",
     "text": [
      "100%|██████████| 3000000/3000000 [00:07<00:00, 418815.83it/s]\n"
     ]
    },
    {
     "data": {
      "text/plain": [
       "(47431, 47431)"
      ]
     },
     "execution_count": 2,
     "metadata": {},
     "output_type": "execute_result"
    }
   ],
   "source": [
    "import numpy\n",
    "import torch\n",
    "from tqdm import tqdm\n",
    "\n",
    "\n",
    "WORD2VEC = 'data/GoogleNews-vectors-negative300.bin'\n",
    "MAX_WORDLEN = 50\n",
    "WEIGHT_SIZE = 4\n",
    "WORD_SIZE = 300  # Embedding size\n",
    "\n",
    "\n",
    "def load_word2vec(vocab: dict[str, int]) -> torch.tensor:\n",
    "    vocab_vec = numpy.random.uniform(-0.25, 0.25, (len(vocab), WORD_SIZE))\n",
    "    #vocab_vec[0] = torch.rand(WORD_SIZE) - 0.5\n",
    "    with open(WORD2VEC, 'rb') as fd:\n",
    "        line = fd.readline()\n",
    "        parts = line.decode('utf-8').split(' ')\n",
    "        words = int(parts[0])\n",
    "        word_size = int(parts[1])\n",
    "        if word_size != WORD_SIZE:\n",
    "            raise ValueError(f\"Unexpected word size {word_size} != {WORD_SIZE}\")\n",
    "        for i in tqdm(range(0, words)):\n",
    "            # Read the next word\n",
    "            s = b''\n",
    "            while True:\n",
    "                ch = fd.read(1)\n",
    "                if ch == b' ':\n",
    "                    break\n",
    "                if ch == b'':\n",
    "                    raise ValueError(\"Unexpected eof\")\n",
    "                if ch != b'\\n':\n",
    "                    s += ch\n",
    "                if len(s) > word_size:\n",
    "                    raise ValueError(f\"Word was too long {s}\")\n",
    "            weights = fd.read(word_size * WEIGHT_SIZE)\n",
    "            wd = numpy.frombuffer(weights, dtype=numpy.float32)\n",
    "            word = s.decode('utf-8').strip().lower()\n",
    "            # Only load words in the vocabulary\n",
    "            if (idx := vocab.get(word)) is not None:\n",
    "                vocab_vec[idx] = wd\n",
    "    return torch.tensor(vocab_vec, dtype=torch.float32, device=device)\n",
    "\n",
    "\n",
    "vocab2vec = load_word2vec(vocab)\n",
    "len(vocab), len(vocab2vec)"
   ]
  },
  {
   "cell_type": "code",
   "execution_count": 3,
   "metadata": {},
   "outputs": [
    {
     "name": "stdout",
     "output_type": "stream",
     "text": [
      "Example:\n",
      "tensor(-0.2305)\n",
      "tensor(0.2539)\n",
      "Sentence example:\n",
      "['my', 'car', 'is', 'a', 'bus']\n",
      "tensor([ 297,  561,    7,   40, 6821,    0,    0,    0,    0,    0,    0,    0,\n",
      "           0,    0,    0,    0,    0,    0,    0,    0,    0,    0,    0,    0,\n",
      "           0,    0,    0,    0,    0,    0])\n"
     ]
    }
   ],
   "source": [
    "def word2vec(word: str) -> torch.Tensor:\n",
    "    \"\"\"Lookup the word using the word2vec encoding or init to random.\"\"\"\n",
    "    if word not in vocab:\n",
    "        word = '</s>'\n",
    "    idx = vocab[word]\n",
    "    return vocab2vec[idx]\n",
    "\n",
    "\n",
    "# Sample from word2vec\n",
    "print(\"Example:\")\n",
    "print(min(word2vec('car')))\n",
    "print(max(word2vec('car')))\n",
    "\n",
    "print(\"Sentence example:\")\n",
    "print(tokenize(\"My car is a bus\"))\n",
    "print(encode_sentence(\"My car is a bus\"))"
   ]
  },
  {
   "cell_type": "code",
   "execution_count": 4,
   "metadata": {},
   "outputs": [
    {
     "data": {
      "text/plain": [
       "(torch.Size([51776, 30]), torch.Size([51776, 2]))"
      ]
     },
     "execution_count": 4,
     "metadata": {},
     "output_type": "execute_result"
    }
   ],
   "source": [
    "import torch\n",
    "\n",
    "# From the paper: The input is a concatenated sentence (length n) where each word is\n",
    "# represented as a k-dimensional word vector. X[i, i+j] = concat(Xi, Xi+1, ..., Xi+j)\n",
    "# The sentence is padded where necessary.\n",
    "\n",
    "\n",
    "def build_dataset(dataset: list[tuple[str, Any]]) -> tuple[torch.Tensor, torch.Tensor]:\n",
    "    x, y = [], []\n",
    "    for (data, class1) in dataset:\n",
    "        x.append(data)\n",
    "        y.append(class1)\n",
    "    X = torch.stack(x)\n",
    "    Y = torch.tensor(y, device=device)\n",
    "    return X, Y\n",
    "\n",
    "\n",
    "random.seed(31337)\n",
    "random.shuffle(reviews)\n",
    "n1 = int(0.8*len(reviews))\n",
    "n2 = int(0.9*len(reviews))\n",
    "\n",
    "Xtr, Ytr = build_dataset(reviews[:n1])\n",
    "Xdev, Ydev = build_dataset(reviews[n1:n2])\n",
    "Xte, Yte = build_dataset(reviews[n2:])\n",
    "\n",
    "Xtr.shape, Ytr.shape"
   ]
  },
  {
   "cell_type": "code",
   "execution_count": 5,
   "metadata": {},
   "outputs": [
    {
     "name": "stdout",
     "output_type": "stream",
     "text": [
      "(torch.Size([30]), torch.Size([30]))\n"
     ]
    },
    {
     "data": {
      "text/plain": [
       "torch.Size([2, 30])"
      ]
     },
     "execution_count": 5,
     "metadata": {},
     "output_type": "execute_result"
    }
   ],
   "source": [
    "r1 = reviews[5][0]\n",
    "r2 = reviews[5][0]\n",
    "print((r1.shape, r2.shape))\n",
    "torch.stack([r1, r2]).shape"
   ]
  },
  {
   "cell_type": "markdown",
   "metadata": {},
   "source": [
    "# Model"
   ]
  },
  {
   "cell_type": "code",
   "execution_count": 6,
   "metadata": {},
   "outputs": [],
   "source": [
    "import torch.nn as nn\n",
    "import torch.nn.functional as F\n",
    "\n",
    "FILTER_WINDOWS = (3, 4, 5)\n",
    "FEATURE_MAPS = 100\n",
    "\n",
    "\n",
    "class Model(nn.Module):\n",
    "    \"\"\"A model for training a CNN text classifier.\"\"\"\n",
    "\n",
    "    def __init__(self, embeddings: torch.tensor, num_classes: int, dropout: float = 0.5):\n",
    "        \"\"\"Initialize Model.\"\"\"\n",
    "        super().__init__()\n",
    "        self.vocab_size, self.embed_dim = embeddings.shape\n",
    "        self.embedding = nn.Embedding.from_pretrained(embeddings, freeze=True).float()\n",
    "        self.embedding.requires_grad = False\n",
    "        self.conv_list = nn.ModuleList([\n",
    "            nn.Conv1d(\n",
    "                in_channels=self.embed_dim,\n",
    "                out_channels=FEATURE_MAPS,\n",
    "                kernel_size=filter_size,\n",
    "            )\n",
    "            for filter_size in FILTER_WINDOWS\n",
    "        ])\n",
    "        self.fc = nn.Linear(FEATURE_MAPS * len(FILTER_WINDOWS), num_classes)\n",
    "        self.dropout = nn.Dropout(p=dropout)\n",
    "\n",
    "\n",
    "    def forward(self, x: torch.Tensor) -> torch.Tensor:\n",
    "        \"\"\"Forward pass\"\"\"\n",
    "        # Out: (BATCH_SZ, MAX_SENTENCE_LEN, WORD_SIZE)\n",
    "        self.x_embed = self.embedding(x)\n",
    "        # Reshape to match conv1d input\n",
    "        # Out: (BATCH_SZ, WORD_SIZE, MAX_SENTENCE_LEN)\n",
    "        self.x_reshape = self.x_embed.permute(0, 2, 1) \n",
    "        # (BATCH_SZ, FEATURE_MAPS, MAX_SENTENCE_LEN-2)\n",
    "        # (BATCH_SZ, FEATURE_MAPS, MAX_SENTENCE_LEN-3)\n",
    "        # (BATCH_SZ, FEATURE_MAPS, MAX_SENTENCE_LEN-4)\n",
    "        self.x_conv_list = [F.relu(conv(self.x_reshape)) for conv in self.conv_list]\n",
    "        # (BATCH_SZ, FEATURE_MAPS, 1)\n",
    "        self.x_pool_list = [\n",
    "            F.max_pool1d(x_conv, kernel_size=x_conv.shape[2])\n",
    "            for x_conv in self.x_conv_list\n",
    "        ]\n",
    "        # (BATCH_SZ, FEATURE_MAPS * 3)\n",
    "        self.x_fc = torch.cat([x_pool.squeeze(dim=2) for x_pool in self.x_pool_list], dim=1)\n",
    "        # (BATCH_SZ, FEATURE_MAPS * 3)\n",
    "        #self.logits = self.fc(self.dropout(self.x_fc))\n",
    "        self.logits = self.fc(self.dropout(self.x_fc))\n",
    "        self.logits_class = F.softmax(self.logits, dim=1)\n",
    "        return self.logits_class\n",
    "\n",
    "    def __str__(self) -> str:\n",
    "        return self.__class__.__name__"
   ]
  },
  {
   "cell_type": "markdown",
   "metadata": {},
   "source": [
    "# Training"
   ]
  },
  {
   "cell_type": "code",
   "execution_count": 17,
   "metadata": {},
   "outputs": [
    {
     "name": "stdout",
     "output_type": "stream",
     "text": [
      "Using GPU\n"
     ]
    },
    {
     "name": "stderr",
     "output_type": "stream",
     "text": [
      "[0], Train Loss 0.6895 Acc: 51.5625): 100%|██████████| 1500/1500 [00:26<00:00, 55.86it/s]\n",
      "Eval Loss: 0.6772, Acc: 58.1000: 100%|██████████| 6/6 [00:00<00:00, 16.26it/s]\n",
      "[1], Train Loss 0.6705 Acc: 57.8125): 100%|██████████| 1500/1500 [00:26<00:00, 55.91it/s]\n",
      "Eval Loss: 0.6649, Acc: 60.2000: 100%|██████████| 6/6 [00:00<00:00, 15.67it/s]\n",
      "[2], Train Loss 0.6369 Acc: 59.3750): 100%|██████████| 1500/1500 [00:27<00:00, 54.80it/s]\n",
      "Eval Loss: 0.6497, Acc: 62.0000: 100%|██████████| 6/6 [00:00<00:00, 16.51it/s]\n",
      "[3], Train Loss 0.5752 Acc: 78.1250): 100%|██████████| 1500/1500 [00:27<00:00, 55.24it/s]\n",
      "Eval Loss: 0.6443, Acc: 64.1000: 100%|██████████| 6/6 [00:00<00:00, 16.47it/s]\n",
      "[4], Train Loss 0.5534 Acc: 78.1250): 100%|██████████| 1500/1500 [00:26<00:00, 55.60it/s]\n",
      "Eval Loss: 0.6509, Acc: 63.5000: 100%|██████████| 6/6 [00:00<00:00, 16.66it/s]\n",
      "[5], Train Loss 0.5887 Acc: 68.7500): 100%|██████████| 1500/1500 [00:26<00:00, 56.07it/s]\n",
      "Eval Loss: 0.6452, Acc: 62.5000: 100%|██████████| 6/6 [00:00<00:00, 16.52it/s]\n",
      "[6], Train Loss 0.5448 Acc: 76.5625): 100%|██████████| 1500/1500 [00:26<00:00, 55.99it/s]\n",
      "Eval Loss: 0.6262, Acc: 66.6000: 100%|██████████| 6/6 [00:00<00:00, 16.55it/s]\n",
      "[7], Train Loss 0.4894 Acc: 83.5938): 100%|██████████| 1500/1500 [00:26<00:00, 56.03it/s]\n",
      "Eval Loss: 0.6158, Acc: 66.9000: 100%|██████████| 6/6 [00:00<00:00, 15.68it/s]\n",
      "[8], Train Loss 0.5060 Acc: 83.5938): 100%|██████████| 1500/1500 [00:26<00:00, 55.86it/s]\n",
      "Eval Loss: 0.6275, Acc: 64.7000: 100%|██████████| 6/6 [00:00<00:00, 16.21it/s]\n",
      "[9], Train Loss 0.4797 Acc: 84.3750): 100%|██████████| 1500/1500 [00:26<00:00, 55.56it/s]\n",
      "Eval Loss: 0.6482, Acc: 61.9000: 100%|██████████| 6/6 [00:00<00:00, 15.70it/s]\n",
      "[10], Train Loss 0.4457 Acc: 86.7188): 100%|██████████| 1500/1500 [00:26<00:00, 56.09it/s]\n",
      "Eval Loss: 0.6467, Acc: 63.4000: 100%|██████████| 6/6 [00:00<00:00, 16.18it/s]\n",
      "[11], Train Loss 0.4621 Acc: 89.0625): 100%|██████████| 1500/1500 [00:26<00:00, 55.99it/s]\n",
      "Eval Loss: 0.6569, Acc: 62.5000: 100%|██████████| 6/6 [00:00<00:00, 16.33it/s]\n",
      "[12], Train Loss 0.4437 Acc: 87.5000): 100%|██████████| 1500/1500 [00:26<00:00, 56.07it/s]\n",
      "Eval Loss: 0.6342, Acc: 63.8000: 100%|██████████| 6/6 [00:00<00:00, 15.51it/s]\n",
      "[13], Train Loss 0.4505 Acc: 86.7188): 100%|██████████| 1500/1500 [00:27<00:00, 55.17it/s]\n",
      "Eval Loss: 0.6287, Acc: 65.0000: 100%|██████████| 6/6 [00:00<00:00, 16.44it/s]\n",
      "[14], Train Loss 0.4145 Acc: 93.7500): 100%|██████████| 1500/1500 [00:27<00:00, 54.87it/s]\n",
      "Eval Loss: 0.6701, Acc: 60.2000: 100%|██████████| 6/6 [00:00<00:00, 16.10it/s]\n",
      "[15], Train Loss 0.4404 Acc: 87.5000): 100%|██████████| 1500/1500 [00:26<00:00, 55.75it/s]\n",
      "Eval Loss: 0.6427, Acc: 62.9000: 100%|██████████| 6/6 [00:00<00:00, 16.30it/s]\n",
      "[16], Train Loss 0.4054 Acc: 91.4062): 100%|██████████| 1500/1500 [00:27<00:00, 55.16it/s]\n",
      "Eval Loss: 0.6490, Acc: 63.0000: 100%|██████████| 6/6 [00:00<00:00, 14.90it/s]\n",
      "[17], Train Loss 0.4173 Acc: 92.1875): 100%|██████████| 1500/1500 [00:27<00:00, 54.38it/s]\n",
      "Eval Loss: 0.6085, Acc: 67.2000: 100%|██████████| 6/6 [00:00<00:00, 15.39it/s]\n",
      "[18], Train Loss 0.4113 Acc: 93.7500): 100%|██████████| 1500/1500 [00:27<00:00, 53.96it/s]\n",
      "Eval Loss: 0.6560, Acc: 62.8000: 100%|██████████| 6/6 [00:00<00:00, 16.32it/s]\n",
      "[19], Train Loss 0.3947 Acc: 94.5312): 100%|██████████| 1500/1500 [00:27<00:00, 54.43it/s]\n",
      "Eval Loss: 0.6265, Acc: 66.9000: 100%|██████████| 6/6 [00:00<00:00, 15.63it/s]\n"
     ]
    }
   ],
   "source": [
    "from tqdm import tqdm\n",
    "import math\n",
    "\n",
    "MINI_BATCH_SZ = 128\n",
    "\n",
    "device = torch.device(\"cpu\")\n",
    "gpu_device = pick_device()\n",
    "\n",
    "g = torch.Generator(device=device).manual_seed(31337)\n",
    "\n",
    "model = Model(embeddings=vocab2vec, num_classes=2, dropout=0.5)\n",
    "model.to(gpu_device)\n",
    "model.train()\n",
    "\n",
    "lr = 0.1\n",
    "opt = torch.optim.Adadelta(model.parameters(), lr=lr, rho=0.95)\n",
    "\n",
    "\n",
    "def eval(X: torch.Tensor, Y: torch.Tensor) -> tuple[float, float]:\n",
    "    model.eval()\n",
    "    lossi = []\n",
    "    accuracyi = []\n",
    "    pbar = tqdm(range(len(X) // EVAL_BATCH_SIZE))\n",
    "    for i in pbar:\n",
    "        ix = torch.randint(0, X.shape[0], (EVAL_BATCH_SIZE,), generator=g, device=device) # (EVAL_BATCH_SIZE)\n",
    "        Xb, Yb = X[ix].to(gpu_device), Y[ix].to(gpu_device)\n",
    "        logits = model.forward(Xb)\n",
    "        loss = F.cross_entropy(logits, Yb)\n",
    "        lossi.append(loss.item())\n",
    "        accuracy = (torch.round(logits) == Yb).cpu().numpy().mean() * 100\n",
    "        accuracyi.append(accuracy)\n",
    "        pbar.set_description(f\"Eval Loss: {loss:0.4f}, Acc: {accuracy:0.4f}\")\n",
    "    l, a = torch.mean(torch.tensor(lossi)), torch.mean(torch.tensor(accuracyi))\n",
    "    pbar.set_description(f\"Eval Loss: {l:0.4f}, Acc: {a:0.4f}\")\n",
    "    return l, a\n",
    "\n",
    "stepi = []\n",
    "lossi = []\n",
    "loglossi = []\n",
    "logits_history = []\n",
    "accuracyi = []\n",
    "\n",
    "Xtr = Xtr.to(gpu_device)\n",
    "Ytr = Ytr.to(gpu_device)\n",
    "xdev_loss, xdev_accuracy = 0, 0\n",
    "\n",
    "for epoch in range(0, 20):\n",
    "    model.train()\n",
    "\n",
    "    pbar = tqdm(range(1500))\n",
    "    for i in pbar:\n",
    "        ix = torch.randint(0, Xtr.shape[0], (MINI_BATCH_SZ,), generator=g, device=device) # (MINI_BATCH_SZ)\n",
    "        Xb, Yb = Xtr[ix].to(gpu_device), Ytr[ix].to(gpu_device)\n",
    "\n",
    "        model.zero_grad()\n",
    "        logits = model.forward(Xb)\n",
    "\n",
    "        loss = F.cross_entropy(logits, Yb)\n",
    "        loss.backward()\n",
    "        opt.step()\n",
    "\n",
    "        accuracy = (torch.round(logits) == Yb).cpu().numpy().mean() * 100\n",
    "\n",
    "        stepi.append(i)\n",
    "        lossi.append(loss.item())\n",
    "        loglossi.append(loss.log10().item())\n",
    "        accuracyi.append(accuracy)\n",
    "        if i % 100 == 0:\n",
    "            pbar.set_description(\"[%d], Train Loss %0.4f Acc: %0.4f)\" % (epoch, lossi[-1], accuracy))\n",
    "\n",
    "    xdev_loss, xdev_accuracy = eval(Xdev, Ydev)\n",
    "\n",
    "       "
   ]
  },
  {
   "cell_type": "code",
   "execution_count": 18,
   "metadata": {},
   "outputs": [
    {
     "data": {
      "text/plain": [
       "[<matplotlib.lines.Line2D at 0x12a6b59d0>]"
      ]
     },
     "execution_count": 18,
     "metadata": {},
     "output_type": "execute_result"
    },
    {
     "data": {
      "image/png": "[encoded data removed]",
      "text/plain": [
       "<Figure size 640x480 with 2 Axes>"
      ]
     },
     "metadata": {},
     "output_type": "display_data"
    }
   ],
   "source": [
    "import numpy as np\n",
    "import matplotlib.pyplot as plt\n",
    "%matplotlib inline\n",
    "\n",
    "WINDOW = 5\n",
    "\n",
    "plt.plot(np.convolve(lossi, np.ones(WINDOW)) / WINDOW)\n",
    "plt.gca().twinx().plot(np.convolve(accuracyi, np.ones(WINDOW)) / WINDOW, color=\"orange\")"
   ]
  },
  {
   "cell_type": "markdown",
   "metadata": {},
   "source": [
    "# Eval"
   ]
  },
  {
   "cell_type": "code",
   "execution_count": 20,
   "metadata": {},
   "outputs": [
    {
     "name": "stderr",
     "output_type": "stream",
     "text": [
      "loss: 0.3631, accuracy: 97.1000: 100%|██████████| 51/51 [00:03<00:00, 16.32it/s]\n",
      "loss: 0.6263, accuracy: 65.6000: 100%|██████████| 6/6 [00:00<00:00, 16.50it/s]\n"
     ]
    }
   ],
   "source": [
    "xtr_loss, xtr_accuracy = eval(Xtr, Ytr)\n",
    "xdev_loss, xdev_accuracy = eval(Xdev, Ydev)"
   ]
  },
  {
   "cell_type": "markdown",
   "metadata": {},
   "source": [
    "# Prediction"
   ]
  },
  {
   "cell_type": "code",
   "execution_count": 21,
   "metadata": {},
   "outputs": [
    {
     "name": "stdout",
     "output_type": "stream",
     "text": [
      "This review is 37.21% positive.\n",
      "This review is 3.51% positive.\n",
      "This review is 72.89% positive.\n",
      "This review is 16.85% positive.\n",
      "This review is 50.24% positive.\n",
      "---\n",
      "This review is 87.02% positive.\n",
      "This review is 23.06% positive.\n",
      "This review is 9.63% positive.\n",
      "This review is 5.40% positive.\n"
     ]
    }
   ],
   "source": [
    "\n",
    "model.eval()\n",
    "\n",
    "def predict(text: str) -> None:\n",
    "    \"\"\"Predict probability that a review is positive.\"\"\"\n",
    "\n",
    "    encoded = encode_sentence(text).to(gpu_device)\n",
    "    input_data = encoded.unsqueeze(dim=0)\n",
    "\n",
    "    # Compute logits\n",
    "    with torch.no_grad():\n",
    "        logits = model.forward(input_data)\n",
    "\n",
    "    # Compute probability\n",
    "    prob = logits.squeeze(dim=0)\n",
    "    print(f\"This review is {prob[1] * 100:.2f}% positive.\")\n",
    "\n",
    "\n",
    "predict(\"All of friends slept while watching this movie, but I really enjoyed it.\")\n",
    "predict(\"I have waited so long for this movie and I am now so satisfied and happy.\")\n",
    "predict(\"This is a great movie\")\n",
    "predict(\"I was laughing the whole time\")\n",
    "predict(\"Fantastic movie that I would watch again\")\n",
    "print(\"---\")\n",
    "predict(\"This movie is long and boring.\")\n",
    "predict(\"I don't like the ending.\")\n",
    "predict(\"Do not bother watching this movie.\")\n",
    "predict(\"Not a funny comedy\")\n",
    "\n"
   ]
  }
 ],
 "metadata": {
  "kernelspec": {
   "display_name": "venv",
   "language": "python",
   "name": "python3"
  },
  "language_info": {
   "codemirror_mode": {
    "name": "ipython",
    "version": 3
   },
   "file_extension": ".py",
   "mimetype": "text/x-python",
   "name": "python",
   "nbconvert_exporter": "python",
   "pygments_lexer": "ipython3",
   "version": "3.11.3"
  },
  "orig_nbformat": 4
 },
 "nbformat": 4,
 "nbformat_minor": 2
}
