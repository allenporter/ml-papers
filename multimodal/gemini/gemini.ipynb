{
 "cells": [
  {
   "cell_type": "markdown",
   "metadata": {},
   "source": [
    "# Gemini Quickstart\n",
    "\n",
    "This is an exercise following https://ai.google.dev/tutorials/python_quickstart"
   ]
  },
  {
   "cell_type": "code",
   "execution_count": 7,
   "metadata": {},
   "outputs": [],
   "source": [
    "import pathlib\n",
    "import textwrap\n",
    "\n",
    "import google.generativeai as genai\n",
    "\n",
    "from IPython.display import display\n",
    "from IPython.display import Markdown\n",
    "\n",
    "\n",
    "def to_markdown(text):\n",
    "  text = text.replace('•', '  *')\n",
    "  return Markdown(textwrap.indent(text, '> ', predicate=lambda _: True))"
   ]
  },
  {
   "cell_type": "markdown",
   "metadata": {},
   "source": [
    "# Get an API Key\n",
    "\n",
    "See https://ai.google.dev/tutorials/python_quickstart#setup_your_api_key"
   ]
  },
  {
   "cell_type": "code",
   "execution_count": 12,
   "metadata": {},
   "outputs": [],
   "source": [
    "import yaml\n",
    "\n",
    "GOOGLE_API_KEY = yaml.load(pathlib.Path('secrets.yaml').read_text(), Loader=yaml.Loader)['api_key']\n",
    "genai.configure(api_key=GOOGLE_API_KEY)"
   ]
  },
  {
   "cell_type": "markdown",
   "metadata": {},
   "source": [
    "# Inspect Model Capabilities"
   ]
  },
  {
   "cell_type": "code",
   "execution_count": 20,
   "metadata": {},
   "outputs": [
    {
     "name": "stdout",
     "output_type": "stream",
     "text": [
      "All generation methods: {'countTokens', 'createTunedTextModel', 'generateAnswer', 'countMessageTokens', 'generateText', 'embedText', 'generateContent', 'embedContent', 'generateMessage', 'countTextTokens'}\n",
      "Multimodal models: \n",
      "models/gemini-pro\n",
      "models/gemini-pro-vision\n"
     ]
    }
   ],
   "source": [
    "all_supported_genertion_methods = set({\n",
    "  method\n",
    "  for model in genai.list_models()\n",
    "  for method in model.supported_generation_methods\n",
    "})\n",
    "\n",
    "print(f\"All generation methods: {all_supported_genertion_methods}\")\n",
    "print(\"Multimodal models: \")\n",
    "for m in genai.list_models():\n",
    "  if 'generateContent' in m.supported_generation_methods:\n",
    "    print(m.name)"
   ]
  },
  {
   "cell_type": "code",
   "execution_count": 21,
   "metadata": {},
   "outputs": [],
   "source": [
    "model = genai.GenerativeModel('gemini-pro')\n"
   ]
  },
  {
   "cell_type": "code",
   "execution_count": 22,
   "metadata": {},
   "outputs": [
    {
     "name": "stdout",
     "output_type": "stream",
     "text": [
      "CPU times: user 7.03 ms, sys: 9.51 ms, total: 16.5 ms\n",
      "Wall time: 9.01 s\n"
     ]
    }
   ],
   "source": [
    "%%time\n",
    "response = model.generate_content(\"What is the meaning of life?\")"
   ]
  },
  {
   "cell_type": "code",
   "execution_count": 23,
   "metadata": {},
   "outputs": [
    {
     "data": {
      "text/markdown": [
       "> The meaning of life is a profound question that has puzzled philosophers, theologians, scientists, and ordinary people for centuries. There is no one definitive answer to this question, as the meaning of life is a highly subjective and personal matter. However, there are a number of different perspectives that can be explored in order to gain a deeper understanding of this complex topic.\n",
       "> \n",
       "> * **Religious and Spiritual Perspectives:** Many people find meaning in life through their religious or spiritual beliefs. For some, this may involve following a set of religious teachings or practices, while for others it may involve a more personal and intuitive connection to the divine. Religious and spiritual perspectives often emphasize the importance of values such as love, compassion, and forgiveness, and they may offer a sense of purpose and belonging to individuals.\n",
       "> \n",
       "> \n",
       "> * **Philosophical Perspectives:** Philosophers have explored the meaning of life from a variety of different angles. Some philosophers argue that the meaning of life is to find happiness, while others believe that it is to pursue knowledge or wisdom. Still others believe that the meaning of life is to make a positive contribution to the world or to leave a legacy behind. Philosophical perspectives on the meaning of life can be challenging and thought-provoking, but they can also offer valuable insights into the human condition.\n",
       "> \n",
       "> \n",
       "> * **Humanistic Perspectives:** Humanistic perspectives on the meaning of life emphasize the importance of human values and experiences. Humanists believe that the meaning of life is to live fully and authentically, to pursue personal growth and development, and to make a positive difference in the world. Humanistic perspectives often focus on the importance of relationships, creativity, and personal fulfillment, and they reject the idea that there is any one universal meaning of life.\n",
       "> \n",
       "> \n",
       "> * **Scientific Perspectives:** Scientific perspectives on the meaning of life focus on the natural world and the human place within it. Some scientists believe that the meaning of life is to understand the universe and our place in it, while others believe that it is to use our knowledge to improve the human condition. Scientific perspectives on the meaning of life can be inspiring and humbling, and they can offer a sense of perspective on our own lives and the lives of others.\n",
       "> \n",
       "> \n",
       "> * **Personal Perspectives:** Ultimately, the meaning of life is a personal matter that each individual must discover for themselves. There is no right or wrong answer, and what is meaningful to one person may not be meaningful to another. The meaning of life can change over time, as we grow and change as individuals. It is important to be open to new experiences and perspectives, and to be willing to question our own assumptions about what is meaningful."
      ],
      "text/plain": [
       "<IPython.core.display.Markdown object>"
      ]
     },
     "execution_count": 23,
     "metadata": {},
     "output_type": "execute_result"
    }
   ],
   "source": [
    "to_markdown(response.text)\n"
   ]
  },
  {
   "cell_type": "code",
   "execution_count": 25,
   "metadata": {},
   "outputs": [
    {
     "data": {
      "text/plain": [
       "safety_ratings {\n",
       "  category: HARM_CATEGORY_SEXUALLY_EXPLICIT\n",
       "  probability: NEGLIGIBLE\n",
       "}\n",
       "safety_ratings {\n",
       "  category: HARM_CATEGORY_HATE_SPEECH\n",
       "  probability: NEGLIGIBLE\n",
       "}\n",
       "safety_ratings {\n",
       "  category: HARM_CATEGORY_HARASSMENT\n",
       "  probability: NEGLIGIBLE\n",
       "}\n",
       "safety_ratings {\n",
       "  category: HARM_CATEGORY_DANGEROUS_CONTENT\n",
       "  probability: NEGLIGIBLE\n",
       "}"
      ]
     },
     "execution_count": 25,
     "metadata": {},
     "output_type": "execute_result"
    }
   ],
   "source": [
    "response.prompt_feedback\n"
   ]
  },
  {
   "cell_type": "markdown",
   "metadata": {},
   "source": [
    "# Text from Image\n",
    "\n"
   ]
  },
  {
   "cell_type": "code",
   "execution_count": 27,
   "metadata": {},
   "outputs": [
    {
     "name": "stderr",
     "output_type": "stream",
     "text": [
      "UsageError: %%bash is a cell magic, but the cell body is empty.\n"
     ]
    }
   ],
   "source": [
    "%%bash curl -o data/image.jpg 'https://t0.gstatic.com/licensed-image?q=tbn:ANd9GcQ_Kevbk21QBRy-PgB4kQpS79brbmmEG7m3VOTShAn4PecDU5H5UxrJxE3Dw1JiaG17V88QIol19-3TM2wCHw'"
   ]
  }
 ],
 "metadata": {
  "kernelspec": {
   "display_name": "venv",
   "language": "python",
   "name": "python3"
  },
  "language_info": {
   "codemirror_mode": {
    "name": "ipython",
    "version": 3
   },
   "file_extension": ".py",
   "mimetype": "text/x-python",
   "name": "python",
   "nbconvert_exporter": "python",
   "pygments_lexer": "ipython3",
   "version": "3.11.3"
  }
 },
 "nbformat": 4,
 "nbformat_minor": 2
}
