{
 "cells": [
  {
   "cell_type": "markdown",
   "metadata": {},
   "source": [
    "# Function Calling w/ JSON Schema"
   ]
  },
  {
   "cell_type": "code",
   "execution_count": null,
   "metadata": {},
   "outputs": [
    {
     "name": "stdout",
     "output_type": "stream",
     "text": [
      "Content:\n",
      "\n",
      "Tool calls:\n",
      "[ToolCall(function=Function(name='search_facts', arguments={'question': 'history of the internet'}))]\n"
     ]
    }
   ],
   "source": [
    "from ollama import chat\n",
    "from ollama import Client, ChatResponse, Tool\n",
    "\n",
    "SEARCH = {\n",
    "    \"type\": \"function\",\n",
    "    \"function\": {\n",
    "        \"name\": \"search_facts\",\n",
    "        \"description\": \"Search for data from the interest to help provide additional context to ground an answer.\",\n",
    "        \"parameters\": {\n",
    "            \"type\": \"object\",\n",
    "            \"required\": [\n",
    "                \"question\"\n",
    "            ],\n",
    "            \"properties\": {\n",
    "                \"question\": {\n",
    "                    \"type\": \"string\",\n",
    "                    \"description\": \"The question to answer\"\n",
    "                }\n",
    "            }\n",
    "        },\n",
    "    }\n",
    "}\n",
    "ADD = {\n",
    "    \"type\": \"function\",\n",
    "    \"function\": {\n",
    "        \"name\": \"add_two_numbers\",\n",
    "        \"description\": \"Add two numbers\",\n",
    "        \"parameters\": {\n",
    "            \"type\": \"object\",\n",
    "            \"required\": [\n",
    "                \"a\",\n",
    "                \"b\"\n",
    "            ],\n",
    "            \"properties\": {\n",
    "                \"a\": {\n",
    "                    \"type\": \"integer\",\n",
    "                    \"description\": \"The first integer number\"\n",
    "                },\n",
    "                \"b\": {\n",
    "                    \"type\": \"integer\",\n",
    "                    \"description\": \"The second integer number\"\n",
    "                }\n",
    "            }\n",
    "        },\n",
    "    }\n",
    "}\n",
    "\n",
    "TOOLS = [ADD, SEARCH]\n",
    "\n",
    "FORMAT = {\n",
    "    \"anyOf\": [\n",
    "        {\n",
    "            \"type\": \"object\",\n",
    "            \"properties\": {\n",
    "                \"name\": {\n",
    "                    \"type\": \"string\",\n",
    "                    \"enum\": [tool[\"function\"][\"name\"]],\n",
    "                },\n",
    "                \"parameters\": tool[\"function\"][\"parameters\"],\n",
    "            },\n",
    "            \"required\": [\n",
    "                \"name\",\n",
    "                \"parameters\", \n",
    "            ]\n",
    "        }\n",
    "        for tool in TOOLS\n",
    "    ],\n",
    "}\n",
    "\n",
    "client = Client(host='https://ollama.k8s.mrv.thebends.org/')\n",
    "response: ChatResponse = client.chat(\n",
    "    model='llama3.1',\n",
    "    messages=[\n",
    "        {\n",
    "            'role': 'user',\n",
    "            'content': \"write a report on the history of the internet\",\n",
    "        },\n",
    "    ],\n",
    "    tools=[Tool(**tool) for tool in TOOLS],\n",
    "    format=FORMAT,\n",
    ")\n",
    "\n",
    "print(\"Content:\")\n",
    "print(response.message.content)\n",
    "\n",
    "print(\"Tool calls:\")\n",
    "print(response.message.tool_calls)"
   ]
  }
 ],
 "metadata": {
  "kernelspec": {
   "display_name": ".venv",
   "language": "python",
   "name": "python3"
  },
  "language_info": {
   "codemirror_mode": {
    "name": "ipython",
    "version": 3
   },
   "file_extension": ".py",
   "mimetype": "text/x-python",
   "name": "python",
   "nbconvert_exporter": "python",
   "pygments_lexer": "ipython3",
   "version": "3.13.0"
  }
 },
 "nbformat": 4,
 "nbformat_minor": 2
}
