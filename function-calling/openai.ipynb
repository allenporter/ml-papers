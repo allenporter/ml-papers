{
 "cells": [
  {
   "cell_type": "code",
   "execution_count": 3,
   "metadata": {},
   "outputs": [],
   "source": [
    "import os\n",
    "from openai import OpenAI\n",
    "\n",
    "client = OpenAI(\n",
    "    base_url='http://localhost:9000/v1/',\n",
    "    api_key=\"sk-XX\",  #os.environ.get(\"OPENAI_API_KEY\"),  # This is the default and can be omitted\n",
    ")"
   ]
  },
  {
   "cell_type": "code",
   "execution_count": null,
   "metadata": {},
   "outputs": [],
   "source": [
    "chat_completion = client.chat.completions.create(\n",
    "    messages=[\n",
    "        {\n",
    "            \"role\": \"user\",\n",
    "            \"content\": \"What is the capital of france?\",\n",
    "        }\n",
    "    ],\n",
    "    model=\"gpt-4o\",\n",
    ")"
   ]
  },
  {
   "cell_type": "code",
   "execution_count": 7,
   "metadata": {},
   "outputs": [
    {
     "data": {
      "text/plain": [
       "'The capital of France is Paris!'"
      ]
     },
     "execution_count": 7,
     "metadata": {},
     "output_type": "execute_result"
    }
   ],
   "source": [
    "chat_completion.choices[0].message.content"
   ]
  },
  {
   "cell_type": "code",
   "execution_count": 8,
   "metadata": {},
   "outputs": [],
   "source": [
    "\n",
    "SEARCH = {\n",
    "    \"type\": \"function\",\n",
    "    \"function\": {\n",
    "        \"name\": \"search_facts\",\n",
    "        \"description\": \"Search for data from the interest to help provide additional context to ground an answer.\",\n",
    "        \"parameters\": {\n",
    "            \"type\": \"object\",\n",
    "            \"required\": [\n",
    "                \"question\"\n",
    "            ],\n",
    "            \"properties\": {\n",
    "                \"question\": {\n",
    "                    \"type\": \"string\",\n",
    "                    \"description\": \"The question to answer\"\n",
    "                }\n",
    "            }\n",
    "        },\n",
    "    }\n",
    "}"
   ]
  },
  {
   "cell_type": "code",
   "execution_count": 12,
   "metadata": {},
   "outputs": [],
   "source": [
    "chat_completion = client.chat.completions.create(\n",
    "    messages=[\n",
    "        {\n",
    "            \"role\": \"user\",\n",
    "            \"content\": \"tell me about the history of the internet, please use a tool call only to search for facts\",\n",
    "        }\n",
    "    ],\n",
    "    model=\"gpt-4o\",\n",
    "    tools=[SEARCH]\n",
    ")"
   ]
  },
  {
   "cell_type": "code",
   "execution_count": 14,
   "metadata": {},
   "outputs": [
    {
     "name": "stdout",
     "output_type": "stream",
     "text": [
      "None\n"
     ]
    }
   ],
   "source": [
    "print(chat_completion.choices[0].message.tool_calls)"
   ]
  },
  {
   "cell_type": "code",
   "execution_count": 11,
   "metadata": {},
   "outputs": [
    {
     "data": {
      "text/plain": [
       "ChatCompletion(id='chatcmpl-e6f178e1e9864205a8ccd6e6e6e8d367', choices=[Choice(finish_reason='error', index=0, logprobs=None, message=ChatCompletionMessage(content=\"What a fascinating topic!\\n\\nThe history of the internet is a rich and fascinating story that spans several decades. Let me take you on a journey through the evolution of the internet.\\n\\n**Early Beginnings (1960s)**\\n\\nThe internet's roots date back to the early 1960s, when the United States Department of Defense's Advanced Research Projects Agency (ARPA) funded a project to create a system for sharing information between government contractors.\\n\\nIn 1969, a young computer scientist named Vint Cerf and Bob Kahn developed the first network protocol, ARPANET's Transmission Control Protocol (TCP). This marked the beginning of networking as we know it today.\\n\\n**ARPANET (1969)**\\n\\nThe first network, ARPANET, was created in the late 1960s by the US Department of Defense's Advanced Research Projects Agency (ARPA). ARPANET connected four nodes across four universities using the Network Control Protocol (NCP).\\n\\n**ARPANET's Evolution (1970s)**\\n\\nThroughout the 1970s, ARPANET expanded to connect more nodes across the United States. In the early 1970s, the first email was sent by Ray Tomlinson over ARPANET.\\n\\n**The Birth of the Internet (1980s)**\\n\\nIn the early 1980s, ARPANET evolved into the first internet-like network, using TCP/IP protocols to connect nodes across the country. This was the dawn of the internet as we know it today.\\n\\n**Worldwide Expansion (1990s)**\\n\\nThe World Wide Web was invented in 1989 by Tim Berners-Lee, making it easier to navigate the internet using web browsers like Netscape Navigator. This marked the beginning of widespread adoption.\\n\\n**The World Wide Web (1991)**\\n\\nThe first website was launched in August 1991 by Sir Tim Berners-Lee. The first web browser was Netscape Navigator, released in 1994.\\n\\n**Internet Goes Mainstream ( Late 1990s)**\\n\\nIn the late 1990s, internet usage skyrocketed as web browsers like Internet Explorer became widely available. America Online (AOL) introduced its internet service provider in 1996.\\n\\n**The Rise of Social Media and Web Services (Early 2000s)**\\n\\nSocial media platforms like Friendster, MySpace, and LinkedIn emerged in the early 2000s. Web services like eBay, Amazon, and Google Search gained popularity.\\n\\n**The Rise of Broadband Adoption (Mid-2000s)**\\n\\nBroadband internet access became more widespread, enabling faster online experiences.\\n\\n**The Internet Goes Global ( Late 2000s)**\\n\\nBy the late 2000s, the internet had spread across the globe, connecting billions of people worldwide.\\n\\n**Modern Internet Landscape (Present Day)**\\n\\nToday's internet landscape features widespread smartphone adoption, social media dominance, the rise of artificial intelligence and machine learning, online shopping dominance, the growth of streaming services, online gaming popularity, and widespread adoption of the internet across the globe.\\n\\nThis is a condensed history of the internet's evolution. If you'd like to explore any specific aspect further, feel free to ask!\", refusal=None, role='assistant', audio=None, function_call=None, tool_calls=None, name=None, tool_call_id=None))], created=1738558282, model='gpt-4o', object='chat.completion', service_tier=None, system_fingerprint='', usage=CompletionUsage(completion_tokens=644, prompt_tokens=33, total_tokens=677, completion_tokens_details=None, prompt_tokens_details=None, extra=None))"
      ]
     },
     "execution_count": 11,
     "metadata": {},
     "output_type": "execute_result"
    }
   ],
   "source": [
    "chat_completion"
   ]
  },
  {
   "cell_type": "code",
   "execution_count": null,
   "metadata": {},
   "outputs": [],
   "source": [
    "print(completion.choices[0].message.tool_calls)\n"
   ]
  }
 ],
 "metadata": {
  "kernelspec": {
   "display_name": ".venv",
   "language": "python",
   "name": "python3"
  },
  "language_info": {
   "codemirror_mode": {
    "name": "ipython",
    "version": 3
   },
   "file_extension": ".py",
   "mimetype": "text/x-python",
   "name": "python",
   "nbconvert_exporter": "python",
   "pygments_lexer": "ipython3",
   "version": "3.10.15"
  }
 },
 "nbformat": 4,
 "nbformat_minor": 2
}
